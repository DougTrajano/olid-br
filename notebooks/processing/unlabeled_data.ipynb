{
 "cells": [
  {
   "cell_type": "markdown",
   "metadata": {},
   "source": [
    "# Prepare unlabeled data\n",
    "\n",
    "In this notebook, we will prepare the unlabeled data for the data labeling task.\n",
    "\n",
    "We will also remove some incomplete tweets from the dataset."
   ]
  },
  {
   "cell_type": "code",
   "execution_count": 1,
   "metadata": {},
   "outputs": [],
   "source": [
    "import sys\n",
    "from pathlib import Path\n",
    "\n",
    "if str(Path(\".\").absolute().parent) not in sys.path:\n",
    "    sys.path.append(str(Path(\".\").absolute().parent.parent))"
   ]
  },
  {
   "cell_type": "code",
   "execution_count": 2,
   "metadata": {},
   "outputs": [
    {
     "data": {
      "text/plain": [
       "True"
      ]
     },
     "execution_count": 2,
     "metadata": {},
     "output_type": "execute_result"
    }
   ],
   "source": [
    "from dotenv import load_dotenv\n",
    "\n",
    "# Initialize the env vars\n",
    "load_dotenv(\"../../.env\")"
   ]
  },
  {
   "cell_type": "code",
   "execution_count": 3,
   "metadata": {},
   "outputs": [],
   "source": [
    "import os\n",
    "import datetime\n",
    "import pandas as pd\n",
    "import matplotlib.pyplot as plt\n",
    "import seaborn as sns\n",
    "from tqdm import tqdm\n",
    "from typing import List\n",
    "from sklearn.model_selection import train_test_split\n",
    "from src.settings import AppSettings\n",
    "from src.checker import CommentChecker\n",
    "from src.language_detector import LanguageDetector\n",
    "from src.s3 import Bucket\n",
    "\n",
    "%matplotlib inline\n",
    "\n",
    "sns.set_theme(style=\"whitegrid\", palette=\"pastel\")\n",
    "\n",
    "os.environ[\"GOOGLE_APPLICATION_CREDENTIALS\"] = \"../../doug-311118-svc-acc.json.json\"\n",
    "\n",
    "seed = 1993\n",
    "\n",
    "args = AppSettings()\n",
    "\n",
    "bucket = Bucket(args.AWS_S3_BUCKET)\n",
    "\n",
    "bucket.get_session_from_aksk(\n",
    "    args.AWS_ACCESS_KEY_ID,\n",
    "    args.AWS_SECRET_ACCESS_KEY)"
   ]
  },
  {
   "cell_type": "code",
   "execution_count": 4,
   "metadata": {},
   "outputs": [],
   "source": [
    "def get_origin_plot(origins: List[str]):\n",
    "    data_plt = {}\n",
    "\n",
    "    for origin in origins:\n",
    "        if origin not in data_plt:\n",
    "            data_plt[origin] = 1\n",
    "        else:\n",
    "            data_plt[origin] += 1\n",
    "\n",
    "    plt.figure(figsize=(8, 4))\n",
    "    \n",
    "    # creating the bar plot\n",
    "    ax = plt.bar(\n",
    "        list(data_plt.keys()),\n",
    "        list(data_plt.values()),\n",
    "        width=0.4)\n",
    "    \n",
    "    # adding the labels\n",
    "    for rect in ax:\n",
    "        height = rect.get_height()\n",
    "        plt.text(rect.get_x() + rect.get_width() / 2, height, height, ha=\"center\", va=\"bottom\")\n",
    "\n",
    "    plt.xlabel(\"Origins\")\n",
    "    plt.ylabel(\"Texts\")\n",
    "    plt.title(\"Texts by Origin\")\n",
    "    plt.show()"
   ]
  },
  {
   "cell_type": "markdown",
   "metadata": {},
   "source": [
    "### 2021-09-24.json"
   ]
  },
  {
   "cell_type": "code",
   "execution_count": 5,
   "metadata": {},
   "outputs": [
    {
     "name": "stdout",
     "output_type": "stream",
     "text": [
      "Total of 515 comments.\n"
     ]
    },
    {
     "data": {
      "text/plain": [
       "{'data': {'text': '🍕🥤🌃👍🏻',\n",
       "  'ref_id': 1440041127843827721,\n",
       "  'meta_info': {'source': 'Twitter',\n",
       "   'created_at': '2021-09-20T19:52:14',\n",
       "   'collected_at': '2021-09-24T09:42:24.093081',\n",
       "   'is_toxic': True,\n",
       "   'toxicity_score': 0.6153}}}"
      ]
     },
     "execution_count": 5,
     "metadata": {},
     "output_type": "execute_result"
    }
   ],
   "source": [
    "data1 = bucket.download_json(key=\"raw/2021-09-24.json\")\n",
    "\n",
    "print(f\"Total of {len(data1)} comments.\")\n",
    "data1[0]"
   ]
  },
  {
   "cell_type": "code",
   "execution_count": 6,
   "metadata": {},
   "outputs": [
    {
     "name": "stdout",
     "output_type": "stream",
     "text": [
      "Total of 160 comments with '...' or '…'.\n"
     ]
    }
   ],
   "source": [
    "# print comment if text ends with \"...\"\n",
    "new_data1 = []\n",
    "\n",
    "counter = 0\n",
    "for comment in data1:\n",
    "    if \"…\" in comment[\"data\"][\"text\"] or \"...\" in comment[\"data\"][\"text\"]:\n",
    "        counter += 1\n",
    "    else:\n",
    "        new_data1.append(comment)\n",
    "\n",
    "print(f\"Total of {counter} comments with '...' or '…'.\")"
   ]
  },
  {
   "cell_type": "code",
   "execution_count": 7,
   "metadata": {},
   "outputs": [
    {
     "data": {
      "text/plain": [
       "355"
      ]
     },
     "execution_count": 7,
     "metadata": {},
     "output_type": "execute_result"
    }
   ],
   "source": [
    "len(new_data1)"
   ]
  },
  {
   "cell_type": "markdown",
   "metadata": {},
   "source": [
    "### 2021-09-27.json"
   ]
  },
  {
   "cell_type": "code",
   "execution_count": 8,
   "metadata": {},
   "outputs": [
    {
     "name": "stdout",
     "output_type": "stream",
     "text": [
      "Total of 3635 comments.\n"
     ]
    },
    {
     "data": {
      "text/plain": [
       "{'data': {'text': '🍕🥤🌃👍🏻',\n",
       "  'ref_id': 1440041127843827721,\n",
       "  'meta_info': {'source': 'Twitter',\n",
       "   'created_at': '2021-09-20T19:52:14',\n",
       "   'collected_at': '2021-09-26T02:45:28.857636',\n",
       "   'is_toxic': True,\n",
       "   'toxicity_score': 0.6153}}}"
      ]
     },
     "execution_count": 8,
     "metadata": {},
     "output_type": "execute_result"
    }
   ],
   "source": [
    "data2 = bucket.download_json(key=\"raw/2021-09-27.json\")\n",
    "\n",
    "print(f\"Total of {len(data2)} comments.\")\n",
    "data2[0]"
   ]
  },
  {
   "cell_type": "code",
   "execution_count": 9,
   "metadata": {},
   "outputs": [
    {
     "name": "stdout",
     "output_type": "stream",
     "text": [
      "Total of 938 comments with '...' or '…'.\n"
     ]
    }
   ],
   "source": [
    "# print comment if text ends with \"...\"\n",
    "new_data2 = []\n",
    "\n",
    "counter = 0\n",
    "for comment in data2:\n",
    "    if \"…\" in comment[\"data\"][\"text\"] or \"...\" in comment[\"data\"][\"text\"]:\n",
    "        counter += 1\n",
    "    else:\n",
    "        new_data2.append(comment)\n",
    "\n",
    "print(f\"Total of {counter} comments with '...' or '…'.\")"
   ]
  },
  {
   "cell_type": "code",
   "execution_count": 10,
   "metadata": {},
   "outputs": [
    {
     "data": {
      "text/plain": [
       "2697"
      ]
     },
     "execution_count": 10,
     "metadata": {},
     "output_type": "execute_result"
    }
   ],
   "source": [
    "len(new_data2)"
   ]
  },
  {
   "cell_type": "markdown",
   "metadata": {},
   "source": [
    "### 2022-01-01.json"
   ]
  },
  {
   "cell_type": "code",
   "execution_count": 11,
   "metadata": {},
   "outputs": [
    {
     "name": "stdout",
     "output_type": "stream",
     "text": [
      "Total of 5015 comments.\n"
     ]
    },
    {
     "data": {
      "text/plain": [
       "{'data': {'text': 'USER 🇧🇷, Ministro!',\n",
       "  'ref_id': 1471953465433899010,\n",
       "  'meta_info': {'source': 'Twitter',\n",
       "   'created_at': '2021-12-17T21:20:28+00:00',\n",
       "   'collected_at': '2021-12-28T09:27:13.610956',\n",
       "   'is_toxic': True,\n",
       "   'toxicity_score': 0.5424}}}"
      ]
     },
     "execution_count": 11,
     "metadata": {},
     "output_type": "execute_result"
    }
   ],
   "source": [
    "data3 = bucket.download_json(key=\"raw/2022-01-01.json\")\n",
    "\n",
    "print(f\"Total of {len(data3)} comments.\")\n",
    "data3[0]"
   ]
  },
  {
   "cell_type": "markdown",
   "metadata": {},
   "source": [
    "### 2022-03-28-twitter.json\n",
    "\n",
    "In this day, we collected tweets from the toxic words detected in OLID-BR Pilot."
   ]
  },
  {
   "cell_type": "code",
   "execution_count": 12,
   "metadata": {},
   "outputs": [
    {
     "name": "stdout",
     "output_type": "stream",
     "text": [
      "Total of 115871 comments.\n"
     ]
    },
    {
     "data": {
      "text/plain": [
       "{'data': {'text': 'USER Vem pra rua ladrão! \\nEncara o povo de frente, saia da zona de conforto, canalha!',\n",
       "  'ref_id': 1507929935595421704,\n",
       "  'meta_info': {'source': 'Twitter',\n",
       "   'created_at': '2022-03-27T03:58:07+00:00',\n",
       "   'collected_at': '2022-03-27T00:52:43.398462',\n",
       "   'is_toxic': True,\n",
       "   'toxicity_score': 0.8675}}}"
      ]
     },
     "execution_count": 12,
     "metadata": {},
     "output_type": "execute_result"
    }
   ],
   "source": [
    "data4 = bucket.download_json(key=\"raw/2022-03-28-twitter.json\")\n",
    "\n",
    "print(f\"Total of {len(data4)} comments.\")\n",
    "data4[0]"
   ]
  },
  {
   "cell_type": "markdown",
   "metadata": {},
   "source": [
    "### 2022-04-10.json\n",
    "\n",
    "In this day, we collected comments and replies from YouTube videos."
   ]
  },
  {
   "cell_type": "code",
   "execution_count": 13,
   "metadata": {},
   "outputs": [
    {
     "name": "stdout",
     "output_type": "stream",
     "text": [
      "Total of 144958 comments.\n"
     ]
    },
    {
     "data": {
      "text/plain": [
       "{'data': {'text': 'Me dar raiva quando ele fica falando direto de prazer sim que ela insistil  mais ele sempre repete de prazer .',\n",
       "  'ref_id': 'UgxBrwtLKcZyYcaVAsl4AaABAg.9_CIKnXKvRx9_WM-xqpznK',\n",
       "  'meta_info': {'source': 'YouTube',\n",
       "   'created_at': '2022-04-07T09:16:04',\n",
       "   'collected_at': '2022-04-08T08:03:44.134767',\n",
       "   'is_toxic': True,\n",
       "   'toxicity_score': 0.5424}}}"
      ]
     },
     "execution_count": 13,
     "metadata": {},
     "output_type": "execute_result"
    }
   ],
   "source": [
    "data5 = bucket.download_json(key=\"raw/2022-04-10.json\")\n",
    "\n",
    "print(f\"Total of {len(data5)} comments.\")\n",
    "data5[0]"
   ]
  },
  {
   "cell_type": "markdown",
   "metadata": {},
   "source": [
    "### Sum data\n",
    "\n",
    "In the next cell, we will concatenate all the data."
   ]
  },
  {
   "cell_type": "code",
   "execution_count": 14,
   "metadata": {},
   "outputs": [
    {
     "data": {
      "text/plain": [
       "268896"
      ]
     },
     "execution_count": 14,
     "metadata": {},
     "output_type": "execute_result"
    }
   ],
   "source": [
    "data = new_data1 + new_data2 + data3 + data4 + data5\n",
    "\n",
    "len(data)"
   ]
  },
  {
   "cell_type": "markdown",
   "metadata": {},
   "source": [
    "## Add others dataset\n",
    "\n",
    "We had prepared other datasets that has Portuguese toxic comments in [other_datasets.ipynb](other_datasets.ipynb).\n",
    "\n",
    "Now, we will merge these datasets with our raw data."
   ]
  },
  {
   "cell_type": "code",
   "execution_count": 15,
   "metadata": {},
   "outputs": [
    {
     "name": "stdout",
     "output_type": "stream",
     "text": [
      "Total of 540 comments.\n"
     ]
    }
   ],
   "source": [
    "offcombr = bucket.download_json(key=\"raw/other_datasets/offcombr.json\")\n",
    "\n",
    "print(f\"Total of {len(offcombr)} comments.\")"
   ]
  },
  {
   "cell_type": "code",
   "execution_count": 16,
   "metadata": {},
   "outputs": [
    {
     "name": "stdout",
     "output_type": "stream",
     "text": [
      "Total of 2427 comments.\n"
     ]
    }
   ],
   "source": [
    "nccvg = bucket.download_json(key=\"raw/other_datasets/nccvg.json\")\n",
    "\n",
    "print(f\"Total of {len(nccvg)} comments.\")"
   ]
  },
  {
   "cell_type": "code",
   "execution_count": 17,
   "metadata": {},
   "outputs": [
    {
     "name": "stdout",
     "output_type": "stream",
     "text": [
      "Total of 2585 comments.\n"
     ]
    }
   ],
   "source": [
    "hlphsd = bucket.download_json(key=\"raw/other_datasets/hlphsd.json\")\n",
    "\n",
    "print(f\"Total of {len(hlphsd)} comments.\")"
   ]
  },
  {
   "cell_type": "code",
   "execution_count": 18,
   "metadata": {},
   "outputs": [
    {
     "name": "stdout",
     "output_type": "stream",
     "text": [
      "Total of 14046 comments.\n"
     ]
    }
   ],
   "source": [
    "told_br = bucket.download_json(key=\"raw/other_datasets/ToLD-BR.json\")\n",
    "\n",
    "print(f\"Total of {len(told_br)} comments.\")"
   ]
  },
  {
   "cell_type": "code",
   "execution_count": 19,
   "metadata": {},
   "outputs": [
    {
     "name": "stdout",
     "output_type": "stream",
     "text": [
      "Total of 288494 comments after adding other datasets.\n"
     ]
    }
   ],
   "source": [
    "data = data + offcombr + nccvg + hlphsd + told_br\n",
    "\n",
    "print(f\"Total of {len(data)} comments after adding other datasets.\")"
   ]
  },
  {
   "attachments": {},
   "cell_type": "markdown",
   "metadata": {},
   "source": [
    "## Remove OLID-BR Iterations\n",
    "\n",
    "In this section, we will remove all comments that was labeled in previous iterations of OLID-BR."
   ]
  },
  {
   "cell_type": "code",
   "execution_count": 20,
   "metadata": {},
   "outputs": [],
   "source": [
    "iterations = [\n",
    "    \"processed/olid-br/iterations/1/olidbr.json\",\n",
    "    \"processed/olid-br/iterations/2/olidbr.json\",\n",
    "    \"processed/olid-br/iterations/3/olidbr.json\",\n",
    "    \"processed/olid-br/iterations/4/olidbr.json\"\n",
    "]"
   ]
  },
  {
   "cell_type": "code",
   "execution_count": 21,
   "metadata": {},
   "outputs": [
    {
     "name": "stdout",
     "output_type": "stream",
     "text": [
      "Total of 8684 comments.\n"
     ]
    }
   ],
   "source": [
    "olidbr_iterations = []\n",
    "\n",
    "for iteration in iterations:\n",
    "    iteration_data = bucket.download_json(key=iteration)\n",
    "    olidbr_iterations.extend(iteration_data)\n",
    "    \n",
    "print(f\"Total of {len(olidbr_iterations)} comments.\")"
   ]
  },
  {
   "cell_type": "code",
   "execution_count": 22,
   "metadata": {},
   "outputs": [
    {
     "name": "stdout",
     "output_type": "stream",
     "text": [
      "Total of 280270 comments after filtering OLID-BR iterations.\n"
     ]
    }
   ],
   "source": [
    "iterations_texts = [i[\"text\"] for i in olidbr_iterations]\n",
    "\n",
    "data = [i for i in data if i[\"data\"][\"text\"] not in iterations_texts]\n",
    "\n",
    "print(f\"Total of {len(data)} comments after filtering OLID-BR iterations.\")"
   ]
  },
  {
   "cell_type": "markdown",
   "metadata": {},
   "source": [
    "## Remove duplicates\n",
    "\n",
    "In the next step, we will remove duplicates text."
   ]
  },
  {
   "cell_type": "code",
   "execution_count": 23,
   "metadata": {},
   "outputs": [
    {
     "name": "stdout",
     "output_type": "stream",
     "text": [
      "Total of 243663 comments after filtering duplicates.\n"
     ]
    }
   ],
   "source": [
    "new_data = []\n",
    "unique_texts = []\n",
    "\n",
    "for row in data:\n",
    "    if row[\"data\"][\"text\"] not in unique_texts:\n",
    "        new_data.append(row)\n",
    "        unique_texts.append(row[\"data\"][\"text\"])\n",
    "\n",
    "print(f\"Total of {len(new_data)} comments after filtering duplicates.\")"
   ]
  },
  {
   "cell_type": "markdown",
   "metadata": {},
   "source": [
    "## Remove missunderstood comments\n",
    "\n",
    "In the next step, we will remove comments that we don't understand because the anonymization process removed some of the important information.\n"
   ]
  },
  {
   "cell_type": "code",
   "execution_count": 24,
   "metadata": {},
   "outputs": [
    {
     "name": "stdout",
     "output_type": "stream",
     "text": [
      "Total of 242413 comments after filtering anon_words and non-alphabetic texts.\n"
     ]
    }
   ],
   "source": [
    "cc = CommentChecker()\n",
    "\n",
    "new_data = [row for row in new_data if cc.has_alpha(row[\"data\"][\"text\"]) and not cc.only_contains_anon(row[\"data\"][\"text\"])]\n",
    "\n",
    "print(f\"Total of {len(new_data)} comments after filtering anon_words and non-alphabetic texts.\")"
   ]
  },
  {
   "cell_type": "markdown",
   "metadata": {},
   "source": [
    "## Filter toxic comments by toxicity_score\n",
    "\n",
    "In this section, we will guarantee that we will only keep toxic comments with a toxicity score greater than defined."
   ]
  },
  {
   "cell_type": "code",
   "execution_count": 27,
   "metadata": {},
   "outputs": [
    {
     "name": "stdout",
     "output_type": "stream",
     "text": [
      "Total of 170723 comments after filtering comments with toxicity score > 0.7.\n"
     ]
    }
   ],
   "source": [
    "def filter_perspective(data: List[dict], threshold: float = 0.5):\n",
    "    new_data = []\n",
    "    for row in data:\n",
    "        if row[\"data\"][\"meta_info\"][\"toxicity_score\"] > threshold:\n",
    "            new_data.append(row)\n",
    "    return new_data\n",
    "\n",
    "new_data = filter_perspective(new_data, args.PERSPECTIVE_THRESHOLD)\n",
    "\n",
    "print(f\"Total of {len(new_data)} comments after filtering comments with toxicity score > {args.PERSPECTIVE_THRESHOLD}.\")"
   ]
  },
  {
   "cell_type": "markdown",
   "metadata": {},
   "source": [
    "## Filter non-portuguese comments\n",
    "\n",
    "In this section, we will filter out all non-portuguese comments."
   ]
  },
  {
   "cell_type": "code",
   "execution_count": 28,
   "metadata": {},
   "outputs": [
    {
     "name": "stdout",
     "output_type": "stream",
     "text": [
      "Total of 170723 comments before filtering non-portuguese comments.\n"
     ]
    },
    {
     "name": "stderr",
     "output_type": "stream",
     "text": [
      "Predicting languages: 100%|██████████| 170723/170723 [23:44<00:00, 119.88it/s]\n"
     ]
    },
    {
     "name": "stdout",
     "output_type": "stream",
     "text": [
      "Total of 153559 comments after filtering non-portuguese comments.\n"
     ]
    }
   ],
   "source": [
    "def filter_non_portuguese(data: List[dict]):\n",
    "    detector = LanguageDetector()\n",
    "    \n",
    "    new_data = []\n",
    "    with tqdm(total=len(data)) as pbar:\n",
    "        pbar.set_description(\"Predicting languages\")\n",
    "        for row in data:\n",
    "            if detector.predict(row[\"data\"][\"text\"], raise_on_error=False) == \"pt\":\n",
    "                new_data.append(row)\n",
    "            pbar.update(1)\n",
    "        return new_data\n",
    "\n",
    "print(f\"Total of {len(new_data)} comments before filtering non-portuguese comments.\")\n",
    "new_data = filter_non_portuguese(new_data)\n",
    "print(f\"Total of {len(new_data)} comments after filtering non-portuguese comments.\")"
   ]
  },
  {
   "cell_type": "markdown",
   "metadata": {},
   "source": [
    "## Sampling data\n",
    "\n",
    "In this section, we will analyze the data origin and sampling the data using Stratified Sampling technique."
   ]
  },
  {
   "cell_type": "code",
   "execution_count": 29,
   "metadata": {},
   "outputs": [
    {
     "data": {
      "image/png": "[encoded data removed]",
      "text/plain": [
       "<Figure size 1008x432 with 1 Axes>"
      ]
     },
     "metadata": {},
     "output_type": "display_data"
    }
   ],
   "source": [
    "origins = [i[\"data\"][\"meta_info\"][\"source\"] for i in new_data]\n",
    "\n",
    "df_eda = pd.DataFrame(\n",
    "    {\"origin\": origins,\n",
    "    \"i\": 1}).groupby(\"origin\").count()\n",
    "\n",
    "ax = df_eda.plot(\n",
    "    kind=\"bar\", grid=False,\n",
    "    legend=False, figsize=(14, 6),\n",
    "    xlabel=\"Origins\", ylabel=\"Number of texts\", fontsize=14,\n",
    "    rot=1, title=\"Texts by origin\")\n",
    "\n",
    "for container in ax.containers:\n",
    "    ax.bar_label(container, fontsize=12)"
   ]
  },
  {
   "cell_type": "markdown",
   "metadata": {},
   "source": [
    "## Text length distribution"
   ]
  },
  {
   "cell_type": "code",
   "execution_count": 63,
   "metadata": {},
   "outputs": [
    {
     "data": {
      "image/png": "[encoded data removed]",
      "text/plain": [
       "<Figure size 1008x432 with 1 Axes>"
      ]
     },
     "metadata": {},
     "output_type": "display_data"
    }
   ],
   "source": [
    "text_lengths = [len(i[\"data\"][\"text\"]) for i in new_data]\n",
    "\n",
    "df_eda = pd.DataFrame(\n",
    "    {\"length\": text_lengths,\n",
    "    \"i\": 1}).groupby(\"length\").count()\n",
    "\n",
    "ax = df_eda.plot(\n",
    "    kind=\"line\", grid=False,\n",
    "    legend=False, figsize=(14, 6),\n",
    "    xlabel=\"Length\", ylabel=\"Number of texts\", fontsize=14,\n",
    "    rot=1, title=\"Texts by length\")"
   ]
  },
  {
   "cell_type": "code",
   "execution_count": 55,
   "metadata": {},
   "outputs": [
    {
     "name": "stdout",
     "output_type": "stream",
     "text": [
      "Total of 25000 comments for the next phase.\n"
     ]
    }
   ],
   "source": [
    "olidbr_next_phase = train_test_split(\n",
    "    new_data,\n",
    "    stratify=origins,\n",
    "    test_size=0.162802,\n",
    "    random_state=seed)[1]\n",
    "\n",
    "print(f\"Total of {len(olidbr_next_phase)} comments for the next phase.\")"
   ]
  },
  {
   "cell_type": "markdown",
   "metadata": {},
   "source": [
    "## Check the origin distribution of the next phase data"
   ]
  },
  {
   "cell_type": "code",
   "execution_count": 56,
   "metadata": {},
   "outputs": [
    {
     "data": {
      "image/png": "[encoded data removed]",
      "text/plain": [
       "<Figure size 1008x432 with 1 Axes>"
      ]
     },
     "metadata": {},
     "output_type": "display_data"
    }
   ],
   "source": [
    "pilot_origins = [i[\"data\"][\"meta_info\"][\"source\"] for i in olidbr_next_phase]\n",
    "\n",
    "df_eda = pd.DataFrame(\n",
    "    {\"origin\": pilot_origins,\n",
    "    \"i\": 1}).groupby(\"origin\").count()\n",
    "\n",
    "ax = df_eda.plot(\n",
    "    kind=\"bar\", grid=False,\n",
    "    legend=False, figsize=(14, 6),\n",
    "    xlabel=\"Origins\", ylabel=\"Number of texts\", fontsize=14,\n",
    "    rot=1, title=\"Texts by origin\")\n",
    "\n",
    "for container in ax.containers:\n",
    "    ax.bar_label(container, fontsize=12)\n"
   ]
  },
  {
   "cell_type": "markdown",
   "metadata": {},
   "source": [
    "## Upload to S3\n",
    "\n",
    "To finish, we will upload the data to S3."
   ]
  },
  {
   "cell_type": "code",
   "execution_count": 57,
   "metadata": {},
   "outputs": [
    {
     "name": "stdout",
     "output_type": "stream",
     "text": [
      "Uploaded unlabeled data.\n"
     ]
    }
   ],
   "source": [
    "bucket.upload_json(\n",
    "    data=new_data,\n",
    "    key=f\"raw/unlabeled/{datetime.datetime.now().date().isoformat()}-unlabeled.json\")\n",
    "\n",
    "print(\"Uploaded unlabeled data.\")"
   ]
  },
  {
   "cell_type": "code",
   "execution_count": 58,
   "metadata": {},
   "outputs": [
    {
     "name": "stdout",
     "output_type": "stream",
     "text": [
      "Uploaded OLID-BR next phase data.\n"
     ]
    }
   ],
   "source": [
    "bucket.upload_json( \n",
    "    data=olidbr_next_phase,\n",
    "    key=\"raw/unlabeled/olid-br-phase-4-rev2.json\")\n",
    "\n",
    "print(\"Uploaded OLID-BR next phase data.\")"
   ]
  }
 ],
 "metadata": {
  "kernelspec": {
   "display_name": "Python 3.10.5 64-bit",
   "language": "python",
   "name": "python3"
  },
  "language_info": {
   "codemirror_mode": {
    "name": "ipython",
    "version": 3
   },
   "file_extension": ".py",
   "mimetype": "text/x-python",
   "name": "python",
   "nbconvert_exporter": "python",
   "pygments_lexer": "ipython3",
   "version": "3.10.8"
  },
  "orig_nbformat": 4,
  "vscode": {
   "interpreter": {
    "hash": "369f2c481f4da34e4445cda3fffd2e751bd1c4d706f27375911949ba6bb62e1c"
   }
  }
 },
 "nbformat": 4,
 "nbformat_minor": 2
}
