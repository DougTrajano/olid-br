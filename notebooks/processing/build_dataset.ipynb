{
 "cells": [
  {
   "cell_type": "markdown",
   "metadata": {},
   "source": [
    "# OLID-BR (Build Dataset)\n",
    "\n",
    "In this notebook, we will build the OLID-BR dataset from the processed data."
   ]
  },
  {
   "cell_type": "markdown",
   "metadata": {},
   "source": [
    "## Imports"
   ]
  },
  {
   "cell_type": "code",
   "execution_count": 1,
   "metadata": {},
   "outputs": [],
   "source": [
    "import sys\n",
    "from pathlib import Path\n",
    "\n",
    "if str(Path(\".\").absolute().parent) not in sys.path:\n",
    "    sys.path.append(str(Path(\".\").absolute().parent.parent))"
   ]
  },
  {
   "cell_type": "code",
   "execution_count": 2,
   "metadata": {},
   "outputs": [
    {
     "data": {
      "text/plain": [
       "True"
      ]
     },
     "execution_count": 2,
     "metadata": {},
     "output_type": "execute_result"
    }
   ],
   "source": [
    "from dotenv import load_dotenv\n",
    "\n",
    "# Initialize the env vars\n",
    "load_dotenv(\"../../.env\")"
   ]
  },
  {
   "cell_type": "code",
   "execution_count": 3,
   "metadata": {},
   "outputs": [],
   "source": [
    "import os\n",
    "import json\n",
    "import datetime\n",
    "import pandas as pd\n",
    "from pandas_profiling import ProfileReport\n",
    "from kaggle.api.kaggle_api_extended import KaggleApi\n",
    "from src.s3 import Bucket\n",
    "from src.settings import AppSettings"
   ]
  },
  {
   "cell_type": "code",
   "execution_count": 4,
   "metadata": {},
   "outputs": [],
   "source": [
    "args = AppSettings()\n",
    "\n",
    "version = \"v1.0\"\n",
    "\n",
    "bucket = Bucket(args.AWS_S3_BUCKET)\n",
    "\n",
    "bucket.get_session_from_aksk(\n",
    "    args.AWS_ACCESS_KEY_ID,\n",
    "    args.AWS_SECRET_ACCESS_KEY)"
   ]
  },
  {
   "cell_type": "markdown",
   "metadata": {},
   "source": [
    "## Load data\n",
    "\n",
    "In the next cells, we will load all processed data."
   ]
  },
  {
   "cell_type": "code",
   "execution_count": 5,
   "metadata": {},
   "outputs": [],
   "source": [
    "iterations = [\n",
    "    # {\n",
    "    #     \"data\": \"processed/olid-br/iterations/1/olidbr.json\",\n",
    "    #     \"metadata\": \"processed/olid-br/iterations/1/metadata.json\"\n",
    "    # },\n",
    "    {\n",
    "        \"data\": \"processed/olid-br/iterations/2/olidbr.json\",\n",
    "        \"metadata\": \"processed/olid-br/iterations/2/metadata.json\",\n",
    "        \"full_data\": \"processed/olid-br/iterations/2/full_olidbr.json\"\n",
    "    },\n",
    "    {\n",
    "        \"data\": \"processed/olid-br/iterations/3/olidbr.json\",\n",
    "        \"metadata\": \"processed/olid-br/iterations/3/metadata.json\",\n",
    "        \"full_data\": \"processed/olid-br/iterations/3/full_olidbr.json\"\n",
    "    },\n",
    "    {\n",
    "        \"data\": \"processed/olid-br/iterations/4/olidbr.json\",\n",
    "        \"metadata\": \"processed/olid-br/iterations/4/metadata.json\",\n",
    "        \"full_data\": \"processed/olid-br/iterations/4/full_olidbr.json\",\n",
    "        \"additional_data\": \"processed/olid-br/iterations/4/additional_texts.json\"\n",
    "    }\n",
    "]"
   ]
  },
  {
   "cell_type": "code",
   "execution_count": 6,
   "metadata": {},
   "outputs": [
    {
     "name": "stdout",
     "output_type": "stream",
     "text": [
      "Loading processed/olid-br/iterations/2/olidbr.json\n",
      "Data iteration size: 2996\n",
      "Metadata iteration size: 11984\n",
      "Full data iteration size: 2996\n",
      "\n",
      "\n",
      "Loading processed/olid-br/iterations/3/olidbr.json\n",
      "Data iteration size: 2987\n",
      "Metadata iteration size: 11948\n",
      "Full data iteration size: 2987\n",
      "\n",
      "\n",
      "Loading processed/olid-br/iterations/4/olidbr.json\n",
      "Data iteration size: 1995\n",
      "Metadata iteration size: 7980\n",
      "Full data iteration size: 1995\n",
      "Additional data iteration size: 6478\n",
      "\n",
      "\n",
      "\n",
      "\n",
      "Data: 7978\n",
      "Metadata: 31912\n",
      "Full data: 7978\n",
      "Additional data: 6478\n"
     ]
    }
   ],
   "source": [
    "data = []\n",
    "metadata = []\n",
    "full_data = []\n",
    "additional_data = []\n",
    "\n",
    "for iteration in iterations:\n",
    "    print(f\"Loading {iteration['data']}\")\n",
    "\n",
    "    iteration_data = bucket.download_json(key=iteration[\"data\"])\n",
    "    iteration_metadata = bucket.download_json(key=iteration[\"metadata\"])\n",
    "\n",
    "    data.extend(iteration_data)\n",
    "    metadata.extend(iteration_metadata)\n",
    "    \n",
    "    print(f\"Data iteration size: {len(iteration_data)}\")\n",
    "    print(f\"Metadata iteration size: {len(iteration_metadata)}\")\n",
    "\n",
    "    if iteration.get(\"full_data\"):\n",
    "        iteration_full_data = bucket.download_json(key=iteration[\"full_data\"])\n",
    "        full_data.extend(iteration_full_data)\n",
    "        print(f\"Full data iteration size: {len(iteration_full_data)}\")\n",
    "\n",
    "    if iteration.get(\"additional_data\"):\n",
    "        iteration_additional_data = bucket.download_json(key=iteration[\"additional_data\"])\n",
    "        additional_data.extend(iteration_additional_data)\n",
    "        print(f\"Additional data iteration size: {len(iteration_additional_data)}\")\n",
    "    print(\"\\n\")\n",
    "    \n",
    "print(\"\\n\")\n",
    "print(f\"Data: {len(data)}\")\n",
    "print(f\"Metadata: {len(metadata)}\")\n",
    "print(f\"Full data: {len(full_data)}\")\n",
    "print(f\"Additional data: {len(additional_data)}\")"
   ]
  },
  {
   "cell_type": "markdown",
   "metadata": {},
   "source": [
    "## Data processing\n",
    "\n",
    "In this section, we will perform some data processing in order to clean and fix some issues in the dataset."
   ]
  },
  {
   "cell_type": "markdown",
   "metadata": {},
   "source": [
    "### Remove duplicated entries"
   ]
  },
  {
   "cell_type": "code",
   "execution_count": 7,
   "metadata": {},
   "outputs": [
    {
     "name": "stdout",
     "output_type": "stream",
     "text": [
      "Duplicated text: 35\n",
      "(7943, 17)\n"
     ]
    }
   ],
   "source": [
    "df = pd.DataFrame(data)\n",
    "print(f\"Duplicated text: {df['text'].duplicated().sum()}\")\n",
    "\n",
    "df.drop_duplicates(subset=\"text\", inplace=True)\n",
    "print(df.shape)\n",
    "\n",
    "data = df.to_dict(\"records\")"
   ]
  },
  {
   "cell_type": "code",
   "execution_count": 23,
   "metadata": {},
   "outputs": [
    {
     "name": "stdout",
     "output_type": "stream",
     "text": [
      "Full data: 7943\n"
     ]
    }
   ],
   "source": [
    "# Remove duplicated texts from full data\n",
    "full_data = [i for i in full_data if i[\"id\"] in df[\"id\"].values]\n",
    "\n",
    "print(f\"Full data: {len(full_data)}\")"
   ]
  },
  {
   "cell_type": "code",
   "execution_count": 24,
   "metadata": {},
   "outputs": [
    {
     "name": "stdout",
     "output_type": "stream",
     "text": [
      "Count metadata (before): 31772\n",
      "Count metadata (after): 31772\n"
     ]
    }
   ],
   "source": [
    "# Remove duplicated texts from metadata\n",
    "print(f\"Count metadata (before): {len(metadata)}\")\n",
    "metadata = [i for i in metadata if i[\"id\"] in df[\"id\"].values]\n",
    "print(f\"Count metadata (after): {len(metadata)}\")"
   ]
  },
  {
   "cell_type": "markdown",
   "metadata": {},
   "source": [
    "## Profiling Report\n",
    "\n",
    "In this section, we will generate a profiling report for the dataset."
   ]
  },
  {
   "cell_type": "code",
   "execution_count": 25,
   "metadata": {},
   "outputs": [
    {
     "data": {
      "application/vnd.jupyter.widget-view+json": {
       "model_id": "5fadfcd85f3243f7a11c2fea5eb8d634",
       "version_major": 2,
       "version_minor": 0
      },
      "text/plain": [
       "Summarize dataset:   0%|          | 0/5 [00:00<?, ?it/s]"
      ]
     },
     "metadata": {},
     "output_type": "display_data"
    },
    {
     "data": {
      "application/vnd.jupyter.widget-view+json": {
       "model_id": "17461c2b1b3a45439b7814f1704ebf71",
       "version_major": 2,
       "version_minor": 0
      },
      "text/plain": [
       "Generate report structure:   0%|          | 0/1 [00:00<?, ?it/s]"
      ]
     },
     "metadata": {},
     "output_type": "display_data"
    },
    {
     "data": {
      "application/vnd.jupyter.widget-view+json": {
       "model_id": "8c8986d3d0a94c4e8761baae2d191752",
       "version_major": 2,
       "version_minor": 0
      },
      "text/plain": [
       "Render HTML:   0%|          | 0/1 [00:00<?, ?it/s]"
      ]
     },
     "metadata": {},
     "output_type": "display_data"
    },
    {
     "data": {
      "application/vnd.jupyter.widget-view+json": {
       "model_id": "bc04956db71b4e00897789871f759606",
       "version_major": 2,
       "version_minor": 0
      },
      "text/plain": [
       "Export report to file:   0%|          | 0/1 [00:00<?, ?it/s]"
      ]
     },
     "metadata": {},
     "output_type": "display_data"
    }
   ],
   "source": [
    "profile = ProfileReport(\n",
    "    pd.DataFrame(data),\n",
    "    title=f\"OLID-BR {version}\",\n",
    "    explorative=True)\n",
    "\n",
    "profile.to_file(f\"../../docs/reports/olidbr_{version}.html\")"
   ]
  },
  {
   "cell_type": "markdown",
   "metadata": {},
   "source": [
    "## Split into train, validation and test sets\n",
    "\n",
    "- **Training set**: 60% of the dataset.\n",
    "- **Validation set**: 20% of the dataset.\n",
    "- **Test set**: 20% of the dataset."
   ]
  },
  {
   "cell_type": "markdown",
   "metadata": {},
   "source": [
    "Convert `is_offensive`, `is_targeted`, and `targeted_type` categories values to int"
   ]
  },
  {
   "cell_type": "code",
   "execution_count": 26,
   "metadata": {},
   "outputs": [],
   "source": [
    "# is_offensive\n",
    "df[\"is_offensive\"] = df[\"is_offensive\"].replace({\n",
    "    \"OFF\": 1,\n",
    "    \"NOT\": 0\n",
    "})\n",
    "\n",
    "# is_targeted\n",
    "df[\"is_targeted\"] = df[\"is_targeted\"].replace({\n",
    "    \"TIN\": 1,\n",
    "    \"UNT\": 0\n",
    "})\n",
    "\n",
    "# targeted_type\n",
    "df[\"targeted_type\"].fillna(0, inplace=True)\n",
    "df[\"targeted_type\"] = df[\"targeted_type\"].replace({\n",
    "    \"IND\": 1,\n",
    "    \"GRP\": 2,\n",
    "    \"OTH\": 3\n",
    "})"
   ]
  },
  {
   "cell_type": "code",
   "execution_count": 27,
   "metadata": {},
   "outputs": [],
   "source": [
    "params = {\n",
    "    \"seed\": 1993,\n",
    "    \"test_size\": 0.2,\n",
    "    \"val_size\": 0.25 # 0.25 x 0.8 = 0.2\n",
    "}\n",
    "\n",
    "labels = [\n",
    "    \"is_offensive\",\n",
    "    \"is_targeted\",\n",
    "    \"targeted_type\",\n",
    "    \"health\",\n",
    "    \"ideology\",\n",
    "    \"insult\",\n",
    "    \"lgbtqphobia\",\n",
    "    \"other_lifestyle\",\n",
    "    \"physical_aspects\",\n",
    "    \"profanity_obscene\",\n",
    "    \"racism\",\n",
    "    \"religious_intolerance\",\n",
    "    \"sexism\",\n",
    "    \"xenophobia\"\n",
    "]\n",
    "\n",
    "X = df[[\"id\", \"text\"]].values\n",
    "y = df[labels].astype(int).values"
   ]
  },
  {
   "cell_type": "code",
   "execution_count": 28,
   "metadata": {},
   "outputs": [
    {
     "name": "stdout",
     "output_type": "stream",
     "text": [
      "Train: (4765, 2)\n",
      "Validation: (1589, 2)\n",
      "Test: (1589, 2)\n"
     ]
    }
   ],
   "source": [
    "from src.modeling.selection import multilabel_train_test_split\n",
    "\n",
    "X_train, X_test, y_train, y_test = multilabel_train_test_split(\n",
    "    X, y, test_size=params[\"test_size\"],\n",
    "    random_state=params[\"seed\"], stratify=y)\n",
    "\n",
    "X_train, X_val, y_train, y_val = multilabel_train_test_split(\n",
    "    X_train, y_train, test_size=params[\"val_size\"],\n",
    "    random_state=params[\"seed\"], stratify=y_train)\n",
    "\n",
    "print(f\"Train: {X_train.shape}\")\n",
    "print(f\"Validation: {X_val.shape}\")\n",
    "print(f\"Test: {X_test.shape}\")"
   ]
  },
  {
   "cell_type": "code",
   "execution_count": 29,
   "metadata": {},
   "outputs": [
    {
     "name": "stdout",
     "output_type": "stream",
     "text": [
      "Train: 4765\n",
      "Validation: 1589\n",
      "Test: 1589\n",
      "Full train: 4765\n",
      "Full validation: 1589\n",
      "Full test: 1589\n"
     ]
    }
   ],
   "source": [
    "train_data = [item for item in data if item[\"id\"] in X_train[:, 0]]\n",
    "val_data = [item for item in data if item[\"id\"] in X_val[:, 0]]\n",
    "test_data = [item for item in data if item[\"id\"] in X_test[:, 0]]\n",
    "\n",
    "train_metadata = [item for item in metadata if item[\"id\"] in [i[\"id\"] for i in train_data]]\n",
    "val_metadata = [item for item in metadata if item[\"id\"] in [i[\"id\"] for i in val_data]]\n",
    "test_metadata = [item for item in metadata if item[\"id\"] in [i[\"id\"] for i in test_data]]\n",
    "\n",
    "full_train_data = [item for item in full_data if item[\"id\"] in X_train[:, 0]]\n",
    "full_val_data = [item for item in full_data if item[\"id\"] in X_val[:, 0]]\n",
    "full_test_data = [item for item in full_data if item[\"id\"] in X_test[:, 0]]\n",
    "\n",
    "print(f\"Train: {len(train_data)}\")\n",
    "print(f\"Validation: {len(val_data)}\")\n",
    "print(f\"Test: {len(test_data)}\")\n",
    "\n",
    "print(f\"Full train: {len(full_train_data)}\")\n",
    "print(f\"Full validation: {len(full_val_data)}\")\n",
    "print(f\"Full test: {len(full_test_data)}\")"
   ]
  },
  {
   "cell_type": "markdown",
   "metadata": {},
   "source": [
    "## Sanity check"
   ]
  },
  {
   "cell_type": "code",
   "execution_count": 31,
   "metadata": {},
   "outputs": [],
   "source": [
    "assert len(full_data) == len(train_data) + len(val_data) + len(test_data)\n",
    "\n",
    "assert len(metadata) == len(train_metadata) + len(val_metadata) + len(test_metadata)"
   ]
  },
  {
   "cell_type": "markdown",
   "metadata": {},
   "source": [
    "## Upload data to S3"
   ]
  },
  {
   "cell_type": "code",
   "execution_count": 20,
   "metadata": {},
   "outputs": [
    {
     "name": "stdout",
     "output_type": "stream",
     "text": [
      "Saving train.csv - Done\n",
      "Saving validation.csv - Done\n",
      "Saving test.csv - Done\n",
      "Saving train_metadata.csv - Done\n",
      "Saving validation_metadata.csv - Done\n",
      "Saving test_metadata.csv - Done\n",
      "Saving train.json - Done\n",
      "Saving validation.json - Done\n",
      "Saving test.json - Done\n",
      "Saving additional_data.json - Done\n",
      "All files uploaded.\n"
     ]
    }
   ],
   "source": [
    "files = {\n",
    "    \"train.csv\": pd.DataFrame(train_data),\n",
    "    \"validation.csv\": pd.DataFrame(val_data),\n",
    "    \"test.csv\": pd.DataFrame(test_data),\n",
    "    \"train_metadata.csv\": pd.DataFrame(train_metadata),\n",
    "    \"validation_metadata.csv\": pd.DataFrame(val_metadata),\n",
    "    \"test_metadata.csv\": pd.DataFrame(test_metadata),\n",
    "    \"train.json\": full_train_data,\n",
    "    \"validation.json\": full_val_data,\n",
    "    \"test.json\": full_test_data,\n",
    "    \"additional_data.json\": additional_data\n",
    "}\n",
    "\n",
    "for file, obj in files.items():\n",
    "    print(f\"Saving {file}\", end=\"\")\n",
    "    if file.endswith(\".csv\"):\n",
    "        bucket.upload_csv(\n",
    "            data=obj,\n",
    "            key=f\"processed/olid-br/{version}/{file}\")\n",
    "    elif file.endswith(\".json\"):\n",
    "        bucket.upload_json(\n",
    "            data=obj,\n",
    "            key=f\"processed/olid-br/{version}/{file}\")\n",
    "    else:\n",
    "        raise ValueError(\"Invalid file format\")\n",
    "    print(\" - Done\")\n",
    "\n",
    "print(\"All files uploaded.\")"
   ]
  },
  {
   "cell_type": "markdown",
   "metadata": {},
   "source": [
    "## Upload dataset to Kaggle and Hugging Face"
   ]
  },
  {
   "cell_type": "markdown",
   "metadata": {},
   "source": [
    "Kaggle"
   ]
  },
  {
   "cell_type": "code",
   "execution_count": 21,
   "metadata": {},
   "outputs": [],
   "source": [
    "date = datetime.datetime.now().strftime('%Y-%m-%d')\n",
    "\n",
    "temp_dir = \"temp\""
   ]
  },
  {
   "cell_type": "code",
   "execution_count": 27,
   "metadata": {},
   "outputs": [],
   "source": [
    "private_files = [\n",
    "    \"validation.csv\",\n",
    "    \"validation_metadata.csv\",\n",
    "    \"validation.json\"\n",
    "]\n",
    "\n",
    "dataset_metadata = {\n",
    "    \"id\": \"dougtrajano/olidbr\",\n",
    "    \"licenses\": [{\"name\": \"CC BY 4.0\"}],\n",
    "    \"title\": \"OLID-BR\"\n",
    "}\n",
    "\n",
    "os.makedirs(temp_dir, exist_ok=True)\n",
    "if not os.path.exists(f\"{temp_dir}/dataset-metadata.json\"):\n",
    "    with open(os.path.join(temp_dir, \"dataset-metadata.json\"), \"w\") as f:\n",
    "        json.dump(dataset_metadata, f, indent=4)\n",
    "\n",
    "for file, obj in files.items():\n",
    "    if file.endswith(\".csv\") and file not in private_files:\n",
    "        obj.to_csv(f\"{temp_dir}/{file}\", index=False, encoding=\"utf-8\")\n",
    "    elif file.endswith(\".json\") and file not in private_files:\n",
    "        with open(f\"{temp_dir}/{file}\", \"w\") as f:\n",
    "            json.dump(obj, f, indent=4)"
   ]
  },
  {
   "cell_type": "code",
   "execution_count": 28,
   "metadata": {},
   "outputs": [
    {
     "name": "stdout",
     "output_type": "stream",
     "text": [
      "Starting upload for file additional_data.json\n"
     ]
    },
    {
     "name": "stderr",
     "output_type": "stream",
     "text": [
      "100%|██████████| 10.3M/10.3M [00:03<00:00, 3.44MB/s]\n"
     ]
    },
    {
     "name": "stdout",
     "output_type": "stream",
     "text": [
      "Upload successful: additional_data.json (10MB)\n",
      "Starting upload for file test.csv\n"
     ]
    },
    {
     "name": "stderr",
     "output_type": "stream",
     "text": [
      "100%|██████████| 500k/500k [00:03<00:00, 163kB/s]  \n"
     ]
    },
    {
     "name": "stdout",
     "output_type": "stream",
     "text": [
      "Upload successful: test.csv (500KB)\n",
      "Starting upload for file test.json\n"
     ]
    },
    {
     "name": "stderr",
     "output_type": "stream",
     "text": [
      "100%|██████████| 4.91M/4.91M [00:02<00:00, 2.19MB/s]\n"
     ]
    },
    {
     "name": "stdout",
     "output_type": "stream",
     "text": [
      "Upload successful: test.json (5MB)\n",
      "Starting upload for file test_metadata.csv\n"
     ]
    },
    {
     "name": "stderr",
     "output_type": "stream",
     "text": [
      "100%|██████████| 601k/601k [00:02<00:00, 280kB/s]  \n"
     ]
    },
    {
     "name": "stdout",
     "output_type": "stream",
     "text": [
      "Upload successful: test_metadata.csv (601KB)\n",
      "Starting upload for file train.csv\n"
     ]
    },
    {
     "name": "stderr",
     "output_type": "stream",
     "text": [
      "100%|██████████| 1.47M/1.47M [00:02<00:00, 696kB/s] \n"
     ]
    },
    {
     "name": "stdout",
     "output_type": "stream",
     "text": [
      "Upload successful: train.csv (1MB)\n",
      "Starting upload for file train.json\n"
     ]
    },
    {
     "name": "stderr",
     "output_type": "stream",
     "text": [
      "100%|██████████| 14.7M/14.7M [00:03<00:00, 4.33MB/s]\n"
     ]
    },
    {
     "name": "stdout",
     "output_type": "stream",
     "text": [
      "Upload successful: train.json (15MB)\n",
      "Starting upload for file train_metadata.csv\n"
     ]
    },
    {
     "name": "stderr",
     "output_type": "stream",
     "text": [
      "100%|██████████| 1.76M/1.76M [00:02<00:00, 779kB/s] \n"
     ]
    },
    {
     "name": "stdout",
     "output_type": "stream",
     "text": [
      "Upload successful: train_metadata.csv (2MB)\n",
      "Dataset uploaded to Kaggle.\n"
     ]
    }
   ],
   "source": [
    "api = KaggleApi()\n",
    "api.authenticate()\n",
    "\n",
    "api.dataset_create_version(\n",
    "    folder=temp_dir,\n",
    "    version_notes=f\"OLID-BR {version} - {date}\",\n",
    "    convert_to_csv=False,\n",
    "    delete_old_versions=True\n",
    ")\n",
    "\n",
    "print(\"Dataset uploaded to Kaggle.\")"
   ]
  },
  {
   "cell_type": "markdown",
   "metadata": {},
   "source": [
    "Hugging Face"
   ]
  },
  {
   "cell_type": "code",
   "execution_count": 29,
   "metadata": {},
   "outputs": [
    {
     "data": {
      "text/plain": [
       "DatasetDict({\n",
       "    train: Dataset({\n",
       "        features: ['id', 'text', 'is_offensive', 'is_targeted', 'targeted_type', 'toxic_spans', 'health', 'ideology', 'insult', 'lgbtqphobia', 'other_lifestyle', 'physical_aspects', 'profanity_obscene', 'racism', 'religious_intolerance', 'sexism', 'xenophobia'],\n",
       "        num_rows: 4765\n",
       "    })\n",
       "    test: Dataset({\n",
       "        features: ['id', 'text', 'is_offensive', 'is_targeted', 'targeted_type', 'toxic_spans', 'health', 'ideology', 'insult', 'lgbtqphobia', 'other_lifestyle', 'physical_aspects', 'profanity_obscene', 'racism', 'religious_intolerance', 'sexism', 'xenophobia'],\n",
       "        num_rows: 1589\n",
       "    })\n",
       "})"
      ]
     },
     "execution_count": 29,
     "metadata": {},
     "output_type": "execute_result"
    }
   ],
   "source": [
    "import datasets\n",
    "\n",
    "dataset = datasets.dataset_dict.DatasetDict({\n",
    "    \"train\": datasets.Dataset.from_pandas(pd.DataFrame(train_data), split=\"train\"),\n",
    "    \"test\": datasets.Dataset.from_pandas(pd.DataFrame(test_data), split=\"test\"),\n",
    "})\n",
    "\n",
    "dataset"
   ]
  },
  {
   "cell_type": "code",
   "execution_count": 30,
   "metadata": {},
   "outputs": [
    {
     "name": "stderr",
     "output_type": "stream",
     "text": [
      "Pushing split train to the Hub.\n",
      "Resuming upload of the dataset shards.\n"
     ]
    },
    {
     "data": {
      "application/vnd.jupyter.widget-view+json": {
       "model_id": "21cff4b410fe4870b1c1eccf3aa1dd31",
       "version_major": 2,
       "version_minor": 0
      },
      "text/plain": [
       "Pushing dataset shards to the dataset hub:   0%|          | 0/1 [00:00<?, ?it/s]"
      ]
     },
     "metadata": {},
     "output_type": "display_data"
    },
    {
     "name": "stderr",
     "output_type": "stream",
     "text": [
      "Pushing split test to the Hub.\n",
      "Resuming upload of the dataset shards.\n"
     ]
    },
    {
     "data": {
      "application/vnd.jupyter.widget-view+json": {
       "model_id": "4cdba7dd32a24c0688c55ef6360da655",
       "version_major": 2,
       "version_minor": 0
      },
      "text/plain": [
       "Pushing dataset shards to the dataset hub:   0%|          | 0/1 [00:00<?, ?it/s]"
      ]
     },
     "metadata": {},
     "output_type": "display_data"
    },
    {
     "name": "stderr",
     "output_type": "stream",
     "text": [
      "c:\\Python310\\lib\\site-packages\\huggingface_hub\\hf_api.py:2165: FutureWarning: `identical_ok` has no effect and is deprecated. It will be removed in 0.11.0.\n",
      "  warnings.warn(\n"
     ]
    }
   ],
   "source": [
    "dataset.push_to_hub(\n",
    "    repo_id=\"dougtrajano/olid-br\",\n",
    "    private=True,\n",
    "    token=args.HUGGINGFACE_HUB_TOKEN)"
   ]
  },
  {
   "cell_type": "markdown",
   "metadata": {},
   "source": [
    "Delete local files"
   ]
  },
  {
   "cell_type": "code",
   "execution_count": 31,
   "metadata": {},
   "outputs": [],
   "source": [
    "import shutil\n",
    "shutil.rmtree(temp_dir)"
   ]
  },
  {
   "cell_type": "markdown",
   "metadata": {},
   "source": [
    "## Inter-Rater Reliability (IRR) analysis\n",
    "\n",
    "a.k.a inter-rater agreement (IRA) or concordance.\n",
    "\n",
    "In the next cells, we will perform an agreement analysis to check if the annotations are consistent.\n",
    "\n",
    "See [Inter-Rater Reliability - OLID-BR](https://dougtrajano.github.io/olid-br/annotation/inter-rater-reliability.html) for more details."
   ]
  },
  {
   "cell_type": "code",
   "execution_count": 63,
   "metadata": {},
   "outputs": [],
   "source": [
    "from typing import Any, Dict, List\n",
    "\n",
    "from irrCAC.raw import CAC\n",
    "from src.labeling.metrics import percent_agreement\n",
    "from src.utils import get_annotations_by_rater\n",
    "\n",
    "import nltk\n",
    "from nltk.metrics import agreement\n",
    "from nltk.metrics.agreement import AnnotationTask\n",
    "from nltk.metrics import masi_distance, jaccard_distance\n",
    "\n",
    "def get_annotations(\n",
    "    annotations: Dict[str, Any],\n",
    "    label: str,\n",
    "    annotation_id_key: str = \"annotator_id\") -> List[Any]:\n",
    "    \"\"\"\n",
    "    Get annotations for a given label.\n",
    "\n",
    "    Args:\n",
    "    - annotations: Dictionary with annotations.\n",
    "    - label: Label to get annotations for.\n",
    "    - annotation_id_key: Key to use for annotation id.\n",
    "\n",
    "    Returns:\n",
    "    - List of annotations for the given label.\n",
    "    \"\"\"\n",
    "    data = {}\n",
    "    for annotation in annotations:\n",
    "        for key, value in annotation.items():\n",
    "            if key == label:\n",
    "                data[annotation[annotation_id_key]] = value\n",
    "    \n",
    "    # Replace annotator ids to A, B, C, etc.\n",
    "    annotators = {\n",
    "        126: \"A\",\n",
    "        127: \"B\",\n",
    "        128: \"C\",\n",
    "        260: \"C\",\n",
    "        504: \"A\",\n",
    "    }\n",
    "\n",
    "    return {\n",
    "        annotators.get(key, key): value\n",
    "        for key, value in data.items()\n",
    "    }"
   ]
  },
  {
   "cell_type": "markdown",
   "metadata": {},
   "source": [
    "### `is_offensive`"
   ]
  },
  {
   "cell_type": "code",
   "execution_count": 55,
   "metadata": {},
   "outputs": [
    {
     "data": {
      "text/html": [
       "<div>\n",
       "<style scoped>\n",
       "    .dataframe tbody tr th:only-of-type {\n",
       "        vertical-align: middle;\n",
       "    }\n",
       "\n",
       "    .dataframe tbody tr th {\n",
       "        vertical-align: top;\n",
       "    }\n",
       "\n",
       "    .dataframe thead th {\n",
       "        text-align: right;\n",
       "    }\n",
       "</style>\n",
       "<table border=\"1\" class=\"dataframe\">\n",
       "  <thead>\n",
       "    <tr style=\"text-align: right;\">\n",
       "      <th></th>\n",
       "      <th>0</th>\n",
       "      <th>1</th>\n",
       "      <th>2</th>\n",
       "      <th>3</th>\n",
       "      <th>4</th>\n",
       "      <th>5</th>\n",
       "      <th>6</th>\n",
       "      <th>7</th>\n",
       "      <th>8</th>\n",
       "      <th>9</th>\n",
       "      <th>...</th>\n",
       "      <th>7933</th>\n",
       "      <th>7934</th>\n",
       "      <th>7935</th>\n",
       "      <th>7936</th>\n",
       "      <th>7937</th>\n",
       "      <th>7938</th>\n",
       "      <th>7939</th>\n",
       "      <th>7940</th>\n",
       "      <th>7941</th>\n",
       "      <th>7942</th>\n",
       "    </tr>\n",
       "  </thead>\n",
       "  <tbody>\n",
       "    <tr>\n",
       "      <th>A</th>\n",
       "      <td>OFF</td>\n",
       "      <td>OFF</td>\n",
       "      <td>OFF</td>\n",
       "      <td>OFF</td>\n",
       "      <td>OFF</td>\n",
       "      <td>NOT</td>\n",
       "      <td>OFF</td>\n",
       "      <td>OFF</td>\n",
       "      <td>OFF</td>\n",
       "      <td>OFF</td>\n",
       "      <td>...</td>\n",
       "      <td>OFF</td>\n",
       "      <td>OFF</td>\n",
       "      <td>OFF</td>\n",
       "      <td>OFF</td>\n",
       "      <td>OFF</td>\n",
       "      <td>NOT</td>\n",
       "      <td>OFF</td>\n",
       "      <td>OFF</td>\n",
       "      <td>OFF</td>\n",
       "      <td>OFF</td>\n",
       "    </tr>\n",
       "    <tr>\n",
       "      <th>B</th>\n",
       "      <td>OFF</td>\n",
       "      <td>OFF</td>\n",
       "      <td>OFF</td>\n",
       "      <td>OFF</td>\n",
       "      <td>OFF</td>\n",
       "      <td>NOT</td>\n",
       "      <td>OFF</td>\n",
       "      <td>OFF</td>\n",
       "      <td>NOT</td>\n",
       "      <td>OFF</td>\n",
       "      <td>...</td>\n",
       "      <td>OFF</td>\n",
       "      <td>OFF</td>\n",
       "      <td>NOT</td>\n",
       "      <td>NOT</td>\n",
       "      <td>OFF</td>\n",
       "      <td>NOT</td>\n",
       "      <td>OFF</td>\n",
       "      <td>OFF</td>\n",
       "      <td>NOT</td>\n",
       "      <td>OFF</td>\n",
       "    </tr>\n",
       "    <tr>\n",
       "      <th>C</th>\n",
       "      <td>OFF</td>\n",
       "      <td>OFF</td>\n",
       "      <td>OFF</td>\n",
       "      <td>OFF</td>\n",
       "      <td>OFF</td>\n",
       "      <td>NOT</td>\n",
       "      <td>OFF</td>\n",
       "      <td>OFF</td>\n",
       "      <td>OFF</td>\n",
       "      <td>OFF</td>\n",
       "      <td>...</td>\n",
       "      <td>OFF</td>\n",
       "      <td>NOT</td>\n",
       "      <td>NOT</td>\n",
       "      <td>OFF</td>\n",
       "      <td>OFF</td>\n",
       "      <td>NOT</td>\n",
       "      <td>OFF</td>\n",
       "      <td>OFF</td>\n",
       "      <td>NOT</td>\n",
       "      <td>NOT</td>\n",
       "    </tr>\n",
       "  </tbody>\n",
       "</table>\n",
       "<p>3 rows × 7943 columns</p>\n",
       "</div>"
      ],
      "text/plain": [
       "  0    1    2    3    4    5    6    7    8    9     ... 7933 7934 7935 7936  \\\n",
       "A  OFF  OFF  OFF  OFF  OFF  NOT  OFF  OFF  OFF  OFF  ...  OFF  OFF  OFF  OFF   \n",
       "B  OFF  OFF  OFF  OFF  OFF  NOT  OFF  OFF  NOT  OFF  ...  OFF  OFF  NOT  NOT   \n",
       "C  OFF  OFF  OFF  OFF  OFF  NOT  OFF  OFF  OFF  OFF  ...  OFF  NOT  NOT  OFF   \n",
       "\n",
       "  7937 7938 7939 7940 7941 7942  \n",
       "A  OFF  NOT  OFF  OFF  OFF  OFF  \n",
       "B  OFF  NOT  OFF  OFF  NOT  OFF  \n",
       "C  OFF  NOT  OFF  OFF  NOT  NOT  \n",
       "\n",
       "[3 rows x 7943 columns]"
      ]
     },
     "execution_count": 55,
     "metadata": {},
     "output_type": "execute_result"
    }
   ],
   "source": [
    "is_offensive = pd.DataFrame(\n",
    "    [\n",
    "        get_annotations(\n",
    "            annotations=item[\"annotations\"],\n",
    "            label=\"is_offensive\",\n",
    "            annotation_id_key=\"annotator_id\")\n",
    "        for item in full_data\n",
    "    ]\n",
    ")\n",
    "\n",
    "is_offensive.transpose().head()"
   ]
  },
  {
   "cell_type": "code",
   "execution_count": 56,
   "metadata": {},
   "outputs": [
    {
     "name": "stdout",
     "output_type": "stream",
     "text": [
      "CAC: <irrCAC.raw.CAC Subjects: 7943, Raters: 3, Categories: ['NOT', 'OFF'], Weights: \"identity\">\n",
      "Percent agreement: 0.6641\n",
      "Krippendorff's alpha: 0.1733\n",
      "Gwet's AC1: 0.6929\n"
     ]
    }
   ],
   "source": [
    "cac = CAC(is_offensive)\n",
    "\n",
    "print(\"CAC:\", cac)\n",
    "print(f\"Percent agreement: {percent_agreement(cac.ratings):.4f}\")\n",
    "print(f\"Krippendorff's alpha: {cac.krippendorff()['est']['coefficient_value']:.4f}\")\n",
    "print(f\"Gwet's AC1: {cac.gwet()['est']['coefficient_value']:.4f}\")"
   ]
  },
  {
   "cell_type": "markdown",
   "metadata": {},
   "source": [
    "### `is_targeted`"
   ]
  },
  {
   "cell_type": "code",
   "execution_count": 57,
   "metadata": {},
   "outputs": [
    {
     "data": {
      "text/html": [
       "<div>\n",
       "<style scoped>\n",
       "    .dataframe tbody tr th:only-of-type {\n",
       "        vertical-align: middle;\n",
       "    }\n",
       "\n",
       "    .dataframe tbody tr th {\n",
       "        vertical-align: top;\n",
       "    }\n",
       "\n",
       "    .dataframe thead th {\n",
       "        text-align: right;\n",
       "    }\n",
       "</style>\n",
       "<table border=\"1\" class=\"dataframe\">\n",
       "  <thead>\n",
       "    <tr style=\"text-align: right;\">\n",
       "      <th></th>\n",
       "      <th>0</th>\n",
       "      <th>1</th>\n",
       "      <th>2</th>\n",
       "      <th>3</th>\n",
       "      <th>4</th>\n",
       "      <th>5</th>\n",
       "      <th>6</th>\n",
       "      <th>7</th>\n",
       "      <th>8</th>\n",
       "      <th>9</th>\n",
       "      <th>...</th>\n",
       "      <th>7933</th>\n",
       "      <th>7934</th>\n",
       "      <th>7935</th>\n",
       "      <th>7936</th>\n",
       "      <th>7937</th>\n",
       "      <th>7938</th>\n",
       "      <th>7939</th>\n",
       "      <th>7940</th>\n",
       "      <th>7941</th>\n",
       "      <th>7942</th>\n",
       "    </tr>\n",
       "  </thead>\n",
       "  <tbody>\n",
       "    <tr>\n",
       "      <th>A</th>\n",
       "      <td>TIN</td>\n",
       "      <td>TIN</td>\n",
       "      <td>TIN</td>\n",
       "      <td>TIN</td>\n",
       "      <td>TIN</td>\n",
       "      <td>TIN</td>\n",
       "      <td>TIN</td>\n",
       "      <td>TIN</td>\n",
       "      <td>TIN</td>\n",
       "      <td>TIN</td>\n",
       "      <td>...</td>\n",
       "      <td>TIN</td>\n",
       "      <td>UNT</td>\n",
       "      <td>TIN</td>\n",
       "      <td>UNT</td>\n",
       "      <td>TIN</td>\n",
       "      <td>UNT</td>\n",
       "      <td>UNT</td>\n",
       "      <td>UNT</td>\n",
       "      <td>UNT</td>\n",
       "      <td>UNT</td>\n",
       "    </tr>\n",
       "    <tr>\n",
       "      <th>B</th>\n",
       "      <td>UNT</td>\n",
       "      <td>UNT</td>\n",
       "      <td>UNT</td>\n",
       "      <td>UNT</td>\n",
       "      <td>TIN</td>\n",
       "      <td>UNT</td>\n",
       "      <td>UNT</td>\n",
       "      <td>UNT</td>\n",
       "      <td>UNT</td>\n",
       "      <td>UNT</td>\n",
       "      <td>...</td>\n",
       "      <td>TIN</td>\n",
       "      <td>TIN</td>\n",
       "      <td>UNT</td>\n",
       "      <td>UNT</td>\n",
       "      <td>TIN</td>\n",
       "      <td>UNT</td>\n",
       "      <td>TIN</td>\n",
       "      <td>TIN</td>\n",
       "      <td>UNT</td>\n",
       "      <td>TIN</td>\n",
       "    </tr>\n",
       "    <tr>\n",
       "      <th>C</th>\n",
       "      <td>UNT</td>\n",
       "      <td>TIN</td>\n",
       "      <td>UNT</td>\n",
       "      <td>UNT</td>\n",
       "      <td>UNT</td>\n",
       "      <td>UNT</td>\n",
       "      <td>UNT</td>\n",
       "      <td>TIN</td>\n",
       "      <td>UNT</td>\n",
       "      <td>UNT</td>\n",
       "      <td>...</td>\n",
       "      <td>TIN</td>\n",
       "      <td>UNT</td>\n",
       "      <td>UNT</td>\n",
       "      <td>UNT</td>\n",
       "      <td>TIN</td>\n",
       "      <td>UNT</td>\n",
       "      <td>TIN</td>\n",
       "      <td>TIN</td>\n",
       "      <td>UNT</td>\n",
       "      <td>UNT</td>\n",
       "    </tr>\n",
       "  </tbody>\n",
       "</table>\n",
       "<p>3 rows × 7943 columns</p>\n",
       "</div>"
      ],
      "text/plain": [
       "  0    1    2    3    4    5    6    7    8    9     ... 7933 7934 7935 7936  \\\n",
       "A  TIN  TIN  TIN  TIN  TIN  TIN  TIN  TIN  TIN  TIN  ...  TIN  UNT  TIN  UNT   \n",
       "B  UNT  UNT  UNT  UNT  TIN  UNT  UNT  UNT  UNT  UNT  ...  TIN  TIN  UNT  UNT   \n",
       "C  UNT  TIN  UNT  UNT  UNT  UNT  UNT  TIN  UNT  UNT  ...  TIN  UNT  UNT  UNT   \n",
       "\n",
       "  7937 7938 7939 7940 7941 7942  \n",
       "A  TIN  UNT  UNT  UNT  UNT  UNT  \n",
       "B  TIN  UNT  TIN  TIN  UNT  TIN  \n",
       "C  TIN  UNT  TIN  TIN  UNT  UNT  \n",
       "\n",
       "[3 rows x 7943 columns]"
      ]
     },
     "execution_count": 57,
     "metadata": {},
     "output_type": "execute_result"
    }
   ],
   "source": [
    "is_targeted = pd.DataFrame(\n",
    "    [\n",
    "        get_annotations(\n",
    "            annotations=item[\"annotations\"],\n",
    "            label=\"is_targeted\",\n",
    "            annotation_id_key=\"annotator_id\")\n",
    "        for item in full_data\n",
    "    ]\n",
    ")\n",
    "\n",
    "is_targeted.transpose().head()"
   ]
  },
  {
   "cell_type": "code",
   "execution_count": 58,
   "metadata": {},
   "outputs": [
    {
     "name": "stdout",
     "output_type": "stream",
     "text": [
      "CAC: <irrCAC.raw.CAC Subjects: 7943, Raters: 3, Categories: ['TIN', 'UNT'], Weights: \"identity\">\n",
      "Percent agreement: 0.3000\n",
      "Krippendorff's alpha: 0.0355\n",
      "Gwet's AC1: 0.0960\n"
     ]
    }
   ],
   "source": [
    "cac = CAC(is_targeted)\n",
    "\n",
    "print(\"CAC:\", cac)\n",
    "print(f\"Percent agreement: {percent_agreement(cac.ratings):.4f}\")\n",
    "print(f\"Krippendorff's alpha: {cac.krippendorff()['est']['coefficient_value']:.4f}\")\n",
    "print(f\"Gwet's AC1: {cac.gwet()['est']['coefficient_value']:.4f}\")"
   ]
  },
  {
   "cell_type": "markdown",
   "metadata": {},
   "source": [
    "### `targeted_type`"
   ]
  },
  {
   "cell_type": "code",
   "execution_count": 59,
   "metadata": {},
   "outputs": [
    {
     "data": {
      "text/html": [
       "<div>\n",
       "<style scoped>\n",
       "    .dataframe tbody tr th:only-of-type {\n",
       "        vertical-align: middle;\n",
       "    }\n",
       "\n",
       "    .dataframe tbody tr th {\n",
       "        vertical-align: top;\n",
       "    }\n",
       "\n",
       "    .dataframe thead th {\n",
       "        text-align: right;\n",
       "    }\n",
       "</style>\n",
       "<table border=\"1\" class=\"dataframe\">\n",
       "  <thead>\n",
       "    <tr style=\"text-align: right;\">\n",
       "      <th></th>\n",
       "      <th>0</th>\n",
       "      <th>1</th>\n",
       "      <th>2</th>\n",
       "      <th>3</th>\n",
       "      <th>4</th>\n",
       "      <th>5</th>\n",
       "      <th>6</th>\n",
       "      <th>7</th>\n",
       "      <th>8</th>\n",
       "      <th>9</th>\n",
       "      <th>...</th>\n",
       "      <th>7933</th>\n",
       "      <th>7934</th>\n",
       "      <th>7935</th>\n",
       "      <th>7936</th>\n",
       "      <th>7937</th>\n",
       "      <th>7938</th>\n",
       "      <th>7939</th>\n",
       "      <th>7940</th>\n",
       "      <th>7941</th>\n",
       "      <th>7942</th>\n",
       "    </tr>\n",
       "  </thead>\n",
       "  <tbody>\n",
       "    <tr>\n",
       "      <th>A</th>\n",
       "      <td>IND</td>\n",
       "      <td>GRP</td>\n",
       "      <td>GRP</td>\n",
       "      <td>GRP</td>\n",
       "      <td>GRP</td>\n",
       "      <td>OTH</td>\n",
       "      <td>GRP</td>\n",
       "      <td>GRP</td>\n",
       "      <td>IND</td>\n",
       "      <td>IND</td>\n",
       "      <td>...</td>\n",
       "      <td>OTH</td>\n",
       "      <td>None</td>\n",
       "      <td>IND</td>\n",
       "      <td>None</td>\n",
       "      <td>IND</td>\n",
       "      <td>None</td>\n",
       "      <td>None</td>\n",
       "      <td>None</td>\n",
       "      <td>None</td>\n",
       "      <td>None</td>\n",
       "    </tr>\n",
       "    <tr>\n",
       "      <th>B</th>\n",
       "      <td>None</td>\n",
       "      <td>None</td>\n",
       "      <td>None</td>\n",
       "      <td>None</td>\n",
       "      <td>GRP</td>\n",
       "      <td>None</td>\n",
       "      <td>None</td>\n",
       "      <td>None</td>\n",
       "      <td>None</td>\n",
       "      <td>None</td>\n",
       "      <td>...</td>\n",
       "      <td>OTH</td>\n",
       "      <td>GRP</td>\n",
       "      <td>None</td>\n",
       "      <td>None</td>\n",
       "      <td>IND</td>\n",
       "      <td>None</td>\n",
       "      <td>GRP</td>\n",
       "      <td>GRP</td>\n",
       "      <td>None</td>\n",
       "      <td>GRP</td>\n",
       "    </tr>\n",
       "    <tr>\n",
       "      <th>C</th>\n",
       "      <td>None</td>\n",
       "      <td>IND</td>\n",
       "      <td>None</td>\n",
       "      <td>None</td>\n",
       "      <td>None</td>\n",
       "      <td>None</td>\n",
       "      <td>None</td>\n",
       "      <td>IND</td>\n",
       "      <td>None</td>\n",
       "      <td>None</td>\n",
       "      <td>...</td>\n",
       "      <td>OTH</td>\n",
       "      <td>None</td>\n",
       "      <td>None</td>\n",
       "      <td>None</td>\n",
       "      <td>IND</td>\n",
       "      <td>None</td>\n",
       "      <td>IND</td>\n",
       "      <td>GRP</td>\n",
       "      <td>None</td>\n",
       "      <td>None</td>\n",
       "    </tr>\n",
       "  </tbody>\n",
       "</table>\n",
       "<p>3 rows × 7943 columns</p>\n",
       "</div>"
      ],
      "text/plain": [
       "   0     1     2     3     4     5     6     7     8     9     ... 7933  7934  \\\n",
       "A   IND   GRP   GRP   GRP   GRP   OTH   GRP   GRP   IND   IND  ...  OTH  None   \n",
       "B  None  None  None  None   GRP  None  None  None  None  None  ...  OTH   GRP   \n",
       "C  None   IND  None  None  None  None  None   IND  None  None  ...  OTH  None   \n",
       "\n",
       "   7935  7936 7937  7938  7939  7940  7941  7942  \n",
       "A   IND  None  IND  None  None  None  None  None  \n",
       "B  None  None  IND  None   GRP   GRP  None   GRP  \n",
       "C  None  None  IND  None   IND   GRP  None  None  \n",
       "\n",
       "[3 rows x 7943 columns]"
      ]
     },
     "execution_count": 59,
     "metadata": {},
     "output_type": "execute_result"
    }
   ],
   "source": [
    "targeted_type = pd.DataFrame(\n",
    "    [\n",
    "        get_annotations(\n",
    "            annotations=item[\"annotations\"],\n",
    "            label=\"targeted_type\",\n",
    "            annotation_id_key=\"annotator_id\")\n",
    "        for item in full_data\n",
    "    ]\n",
    ")\n",
    "\n",
    "targeted_type.transpose().head()"
   ]
  },
  {
   "cell_type": "code",
   "execution_count": 61,
   "metadata": {},
   "outputs": [
    {
     "name": "stdout",
     "output_type": "stream",
     "text": [
      "CAC: <irrCAC.raw.CAC Subjects: 7322, Raters: 3, Categories: ['GRP', 'IND', 'OTH'], Weights: \"identity\">\n",
      "Percent agreement: 0.1505\n",
      "Krippendorff's alpha: 0.4149\n",
      "Gwet's AC1: 0.5689\n"
     ]
    }
   ],
   "source": [
    "cac = CAC(targeted_type)\n",
    "\n",
    "print(\"CAC:\", cac)\n",
    "print(f\"Percent agreement: {percent_agreement(cac.ratings):.4f}\")\n",
    "print(f\"Krippendorff's alpha: {cac.krippendorff()['est']['coefficient_value']:.4f}\")\n",
    "print(f\"Gwet's AC1: {cac.gwet()['est']['coefficient_value']:.4f}\")"
   ]
  },
  {
   "cell_type": "markdown",
   "metadata": {},
   "source": [
    "### `toxic_spans`"
   ]
  },
  {
   "cell_type": "code",
   "execution_count": 64,
   "metadata": {},
   "outputs": [
    {
     "data": {
      "text/html": [
       "<div>\n",
       "<style scoped>\n",
       "    .dataframe tbody tr th:only-of-type {\n",
       "        vertical-align: middle;\n",
       "    }\n",
       "\n",
       "    .dataframe tbody tr th {\n",
       "        vertical-align: top;\n",
       "    }\n",
       "\n",
       "    .dataframe thead th {\n",
       "        text-align: right;\n",
       "    }\n",
       "</style>\n",
       "<table border=\"1\" class=\"dataframe\">\n",
       "  <thead>\n",
       "    <tr style=\"text-align: right;\">\n",
       "      <th></th>\n",
       "      <th>A</th>\n",
       "      <th>B</th>\n",
       "      <th>C</th>\n",
       "    </tr>\n",
       "  </thead>\n",
       "  <tbody>\n",
       "    <tr>\n",
       "      <th>0</th>\n",
       "      <td>[]</td>\n",
       "      <td>[52, 53, 54, 55, 56, 57, 58, 59, 60, 61, 62, 6...</td>\n",
       "      <td>[]</td>\n",
       "    </tr>\n",
       "    <tr>\n",
       "      <th>1</th>\n",
       "      <td>[20, 21, 22, 23, 24, 25, 93, 94, 95, 96, 97]</td>\n",
       "      <td>[0, 1, 2, 3, 4, 5, 6, 7, 8, 9, 10, 11, 12, 13,...</td>\n",
       "      <td>[]</td>\n",
       "    </tr>\n",
       "    <tr>\n",
       "      <th>2</th>\n",
       "      <td>[14, 15, 16, 17, 18]</td>\n",
       "      <td>[0, 1, 2, 3, 4, 5, 6, 7, 8, 9, 10, 11, 12, 13,...</td>\n",
       "      <td>[]</td>\n",
       "    </tr>\n",
       "    <tr>\n",
       "      <th>3</th>\n",
       "      <td>[10, 11, 12, 13, 14, 17, 18, 19, 20, 21, 22, 2...</td>\n",
       "      <td>[0, 1, 2, 3, 4, 5, 6, 7, 8, 9, 10, 11, 12, 13,...</td>\n",
       "      <td>[]</td>\n",
       "    </tr>\n",
       "    <tr>\n",
       "      <th>4</th>\n",
       "      <td>[10, 11, 12, 13, 14, 165, 166, 167, 176, 177, ...</td>\n",
       "      <td>[0, 1, 2, 3, 4, 5, 6, 7, 8, 9, 10, 11, 12, 13,...</td>\n",
       "      <td>[10, 11, 12, 13, 14, 176, 177, 178, 179, 180, ...</td>\n",
       "    </tr>\n",
       "  </tbody>\n",
       "</table>\n",
       "</div>"
      ],
      "text/plain": [
       "                                                   A  \\\n",
       "0                                                 []   \n",
       "1       [20, 21, 22, 23, 24, 25, 93, 94, 95, 96, 97]   \n",
       "2                               [14, 15, 16, 17, 18]   \n",
       "3  [10, 11, 12, 13, 14, 17, 18, 19, 20, 21, 22, 2...   \n",
       "4  [10, 11, 12, 13, 14, 165, 166, 167, 176, 177, ...   \n",
       "\n",
       "                                                   B  \\\n",
       "0  [52, 53, 54, 55, 56, 57, 58, 59, 60, 61, 62, 6...   \n",
       "1  [0, 1, 2, 3, 4, 5, 6, 7, 8, 9, 10, 11, 12, 13,...   \n",
       "2  [0, 1, 2, 3, 4, 5, 6, 7, 8, 9, 10, 11, 12, 13,...   \n",
       "3  [0, 1, 2, 3, 4, 5, 6, 7, 8, 9, 10, 11, 12, 13,...   \n",
       "4  [0, 1, 2, 3, 4, 5, 6, 7, 8, 9, 10, 11, 12, 13,...   \n",
       "\n",
       "                                                   C  \n",
       "0                                                 []  \n",
       "1                                                 []  \n",
       "2                                                 []  \n",
       "3                                                 []  \n",
       "4  [10, 11, 12, 13, 14, 176, 177, 178, 179, 180, ...  "
      ]
     },
     "execution_count": 64,
     "metadata": {},
     "output_type": "execute_result"
    }
   ],
   "source": [
    "toxic_spans = pd.DataFrame(\n",
    "    [\n",
    "        get_annotations(\n",
    "            annotations=item[\"annotations\"],\n",
    "            label=\"toxic_spans\",\n",
    "            annotation_id_key=\"annotator_id\")\n",
    "        for item in full_data\n",
    "    ]\n",
    ")\n",
    "\n",
    "toxic_spans.head()"
   ]
  },
  {
   "cell_type": "code",
   "execution_count": 65,
   "metadata": {},
   "outputs": [
    {
     "name": "stdout",
     "output_type": "stream",
     "text": [
      "Krippendorff's alpha using <function jaccard_distance at 0x000001EA0C304790>\n",
      "Krippendorff's alpha: 0.5403 \n",
      "\n",
      "Krippendorff's alpha using <function masi_distance at 0x000001EA0C304820>\n",
      "Krippendorff's alpha: 0.3918 \n",
      "\n",
      "Percent agreement: 0.1679\n"
     ]
    }
   ],
   "source": [
    "task_data = []\n",
    "for annotator in toxic_spans.columns:\n",
    "    for item in range(len(toxic_spans)):\n",
    "        temp = toxic_spans.iloc[item][annotator]\n",
    "        if temp != []:\n",
    "            task_data.append((\n",
    "                annotator,\n",
    "                item,\n",
    "                frozenset(temp)\n",
    "            ))\n",
    "\n",
    "jaccard_task = AnnotationTask(distance=jaccard_distance)\n",
    "masi_task = AnnotationTask(distance=masi_distance)\n",
    "\n",
    "for task in [jaccard_task, masi_task]:\n",
    "    task.load_array(task_data)\n",
    "    print(f\"Krippendorff's alpha using {task.distance}\")\n",
    "    print(f\"Krippendorff's alpha: {task.alpha():.4f}\", \"\\n\")\n",
    "\n",
    "print(f\"Percent agreement: {percent_agreement(toxic_spans):.4f}\")"
   ]
  },
  {
   "cell_type": "markdown",
   "metadata": {},
   "source": [
    "### `health`"
   ]
  },
  {
   "cell_type": "code",
   "execution_count": 66,
   "metadata": {},
   "outputs": [
    {
     "data": {
      "text/html": [
       "<div>\n",
       "<style scoped>\n",
       "    .dataframe tbody tr th:only-of-type {\n",
       "        vertical-align: middle;\n",
       "    }\n",
       "\n",
       "    .dataframe tbody tr th {\n",
       "        vertical-align: top;\n",
       "    }\n",
       "\n",
       "    .dataframe thead th {\n",
       "        text-align: right;\n",
       "    }\n",
       "</style>\n",
       "<table border=\"1\" class=\"dataframe\">\n",
       "  <thead>\n",
       "    <tr style=\"text-align: right;\">\n",
       "      <th></th>\n",
       "      <th>0</th>\n",
       "      <th>1</th>\n",
       "      <th>2</th>\n",
       "      <th>3</th>\n",
       "      <th>4</th>\n",
       "      <th>5</th>\n",
       "      <th>6</th>\n",
       "      <th>7</th>\n",
       "      <th>8</th>\n",
       "      <th>9</th>\n",
       "      <th>...</th>\n",
       "      <th>7933</th>\n",
       "      <th>7934</th>\n",
       "      <th>7935</th>\n",
       "      <th>7936</th>\n",
       "      <th>7937</th>\n",
       "      <th>7938</th>\n",
       "      <th>7939</th>\n",
       "      <th>7940</th>\n",
       "      <th>7941</th>\n",
       "      <th>7942</th>\n",
       "    </tr>\n",
       "  </thead>\n",
       "  <tbody>\n",
       "    <tr>\n",
       "      <th>A</th>\n",
       "      <td>False</td>\n",
       "      <td>False</td>\n",
       "      <td>False</td>\n",
       "      <td>False</td>\n",
       "      <td>False</td>\n",
       "      <td>False</td>\n",
       "      <td>False</td>\n",
       "      <td>False</td>\n",
       "      <td>False</td>\n",
       "      <td>False</td>\n",
       "      <td>...</td>\n",
       "      <td>False</td>\n",
       "      <td>False</td>\n",
       "      <td>False</td>\n",
       "      <td>False</td>\n",
       "      <td>False</td>\n",
       "      <td>False</td>\n",
       "      <td>False</td>\n",
       "      <td>False</td>\n",
       "      <td>False</td>\n",
       "      <td>False</td>\n",
       "    </tr>\n",
       "    <tr>\n",
       "      <th>B</th>\n",
       "      <td>False</td>\n",
       "      <td>False</td>\n",
       "      <td>False</td>\n",
       "      <td>False</td>\n",
       "      <td>False</td>\n",
       "      <td>False</td>\n",
       "      <td>False</td>\n",
       "      <td>False</td>\n",
       "      <td>False</td>\n",
       "      <td>False</td>\n",
       "      <td>...</td>\n",
       "      <td>False</td>\n",
       "      <td>False</td>\n",
       "      <td>False</td>\n",
       "      <td>False</td>\n",
       "      <td>False</td>\n",
       "      <td>False</td>\n",
       "      <td>False</td>\n",
       "      <td>False</td>\n",
       "      <td>False</td>\n",
       "      <td>False</td>\n",
       "    </tr>\n",
       "    <tr>\n",
       "      <th>C</th>\n",
       "      <td>False</td>\n",
       "      <td>False</td>\n",
       "      <td>False</td>\n",
       "      <td>False</td>\n",
       "      <td>False</td>\n",
       "      <td>False</td>\n",
       "      <td>False</td>\n",
       "      <td>False</td>\n",
       "      <td>False</td>\n",
       "      <td>False</td>\n",
       "      <td>...</td>\n",
       "      <td>False</td>\n",
       "      <td>False</td>\n",
       "      <td>False</td>\n",
       "      <td>False</td>\n",
       "      <td>False</td>\n",
       "      <td>False</td>\n",
       "      <td>False</td>\n",
       "      <td>False</td>\n",
       "      <td>False</td>\n",
       "      <td>False</td>\n",
       "    </tr>\n",
       "  </tbody>\n",
       "</table>\n",
       "<p>3 rows × 7943 columns</p>\n",
       "</div>"
      ],
      "text/plain": [
       "    0      1      2      3      4      5      6      7      8      9     ...  \\\n",
       "A  False  False  False  False  False  False  False  False  False  False  ...   \n",
       "B  False  False  False  False  False  False  False  False  False  False  ...   \n",
       "C  False  False  False  False  False  False  False  False  False  False  ...   \n",
       "\n",
       "    7933   7934   7935   7936   7937   7938   7939   7940   7941   7942  \n",
       "A  False  False  False  False  False  False  False  False  False  False  \n",
       "B  False  False  False  False  False  False  False  False  False  False  \n",
       "C  False  False  False  False  False  False  False  False  False  False  \n",
       "\n",
       "[3 rows x 7943 columns]"
      ]
     },
     "execution_count": 66,
     "metadata": {},
     "output_type": "execute_result"
    }
   ],
   "source": [
    "health = pd.DataFrame(\n",
    "    [\n",
    "        get_annotations(\n",
    "            annotations=item[\"annotations\"],\n",
    "            label=\"health\",\n",
    "            annotation_id_key=\"annotator_id\")\n",
    "        for item in full_data\n",
    "    ]\n",
    ")\n",
    "\n",
    "health.transpose().head()"
   ]
  },
  {
   "cell_type": "code",
   "execution_count": 67,
   "metadata": {},
   "outputs": [
    {
     "name": "stdout",
     "output_type": "stream",
     "text": [
      "CAC: <irrCAC.raw.CAC Subjects: 7943, Raters: 3, Categories: [False, True], Weights: \"identity\">\n",
      "Percent agreement: 0.9748\n",
      "Krippendorff's alpha: 0.1752\n",
      "Gwet's AC1: 0.9829\n"
     ]
    }
   ],
   "source": [
    "cac = CAC(health)\n",
    "\n",
    "print(\"CAC:\", cac)\n",
    "print(f\"Percent agreement: {percent_agreement(cac.ratings):.4f}\")\n",
    "print(f\"Krippendorff's alpha: {cac.krippendorff()['est']['coefficient_value']:.4f}\")\n",
    "print(f\"Gwet's AC1: {cac.gwet()['est']['coefficient_value']:.4f}\")"
   ]
  },
  {
   "cell_type": "markdown",
   "metadata": {},
   "source": [
    "### `ideology`"
   ]
  },
  {
   "cell_type": "code",
   "execution_count": 68,
   "metadata": {},
   "outputs": [
    {
     "data": {
      "text/html": [
       "<div>\n",
       "<style scoped>\n",
       "    .dataframe tbody tr th:only-of-type {\n",
       "        vertical-align: middle;\n",
       "    }\n",
       "\n",
       "    .dataframe tbody tr th {\n",
       "        vertical-align: top;\n",
       "    }\n",
       "\n",
       "    .dataframe thead th {\n",
       "        text-align: right;\n",
       "    }\n",
       "</style>\n",
       "<table border=\"1\" class=\"dataframe\">\n",
       "  <thead>\n",
       "    <tr style=\"text-align: right;\">\n",
       "      <th></th>\n",
       "      <th>0</th>\n",
       "      <th>1</th>\n",
       "      <th>2</th>\n",
       "      <th>3</th>\n",
       "      <th>4</th>\n",
       "      <th>5</th>\n",
       "      <th>6</th>\n",
       "      <th>7</th>\n",
       "      <th>8</th>\n",
       "      <th>9</th>\n",
       "      <th>...</th>\n",
       "      <th>7933</th>\n",
       "      <th>7934</th>\n",
       "      <th>7935</th>\n",
       "      <th>7936</th>\n",
       "      <th>7937</th>\n",
       "      <th>7938</th>\n",
       "      <th>7939</th>\n",
       "      <th>7940</th>\n",
       "      <th>7941</th>\n",
       "      <th>7942</th>\n",
       "    </tr>\n",
       "  </thead>\n",
       "  <tbody>\n",
       "    <tr>\n",
       "      <th>A</th>\n",
       "      <td>False</td>\n",
       "      <td>False</td>\n",
       "      <td>True</td>\n",
       "      <td>False</td>\n",
       "      <td>False</td>\n",
       "      <td>False</td>\n",
       "      <td>False</td>\n",
       "      <td>False</td>\n",
       "      <td>False</td>\n",
       "      <td>False</td>\n",
       "      <td>...</td>\n",
       "      <td>False</td>\n",
       "      <td>False</td>\n",
       "      <td>False</td>\n",
       "      <td>False</td>\n",
       "      <td>False</td>\n",
       "      <td>False</td>\n",
       "      <td>False</td>\n",
       "      <td>False</td>\n",
       "      <td>False</td>\n",
       "      <td>False</td>\n",
       "    </tr>\n",
       "    <tr>\n",
       "      <th>B</th>\n",
       "      <td>False</td>\n",
       "      <td>False</td>\n",
       "      <td>False</td>\n",
       "      <td>False</td>\n",
       "      <td>False</td>\n",
       "      <td>False</td>\n",
       "      <td>False</td>\n",
       "      <td>False</td>\n",
       "      <td>False</td>\n",
       "      <td>False</td>\n",
       "      <td>...</td>\n",
       "      <td>False</td>\n",
       "      <td>False</td>\n",
       "      <td>False</td>\n",
       "      <td>False</td>\n",
       "      <td>False</td>\n",
       "      <td>False</td>\n",
       "      <td>False</td>\n",
       "      <td>False</td>\n",
       "      <td>False</td>\n",
       "      <td>False</td>\n",
       "    </tr>\n",
       "    <tr>\n",
       "      <th>C</th>\n",
       "      <td>False</td>\n",
       "      <td>False</td>\n",
       "      <td>False</td>\n",
       "      <td>False</td>\n",
       "      <td>False</td>\n",
       "      <td>False</td>\n",
       "      <td>False</td>\n",
       "      <td>False</td>\n",
       "      <td>False</td>\n",
       "      <td>False</td>\n",
       "      <td>...</td>\n",
       "      <td>False</td>\n",
       "      <td>False</td>\n",
       "      <td>False</td>\n",
       "      <td>False</td>\n",
       "      <td>False</td>\n",
       "      <td>False</td>\n",
       "      <td>False</td>\n",
       "      <td>False</td>\n",
       "      <td>False</td>\n",
       "      <td>False</td>\n",
       "    </tr>\n",
       "  </tbody>\n",
       "</table>\n",
       "<p>3 rows × 7943 columns</p>\n",
       "</div>"
      ],
      "text/plain": [
       "    0      1      2      3      4      5      6      7      8      9     ...  \\\n",
       "A  False  False   True  False  False  False  False  False  False  False  ...   \n",
       "B  False  False  False  False  False  False  False  False  False  False  ...   \n",
       "C  False  False  False  False  False  False  False  False  False  False  ...   \n",
       "\n",
       "    7933   7934   7935   7936   7937   7938   7939   7940   7941   7942  \n",
       "A  False  False  False  False  False  False  False  False  False  False  \n",
       "B  False  False  False  False  False  False  False  False  False  False  \n",
       "C  False  False  False  False  False  False  False  False  False  False  \n",
       "\n",
       "[3 rows x 7943 columns]"
      ]
     },
     "execution_count": 68,
     "metadata": {},
     "output_type": "execute_result"
    }
   ],
   "source": [
    "ideology = pd.DataFrame(\n",
    "    [\n",
    "        get_annotations(\n",
    "            annotations=item[\"annotations\"],\n",
    "            label=\"ideology\",\n",
    "            annotation_id_key=\"annotator_id\")\n",
    "        for item in full_data\n",
    "    ]\n",
    ")\n",
    "\n",
    "ideology.transpose().head()"
   ]
  },
  {
   "cell_type": "code",
   "execution_count": 69,
   "metadata": {},
   "outputs": [
    {
     "name": "stdout",
     "output_type": "stream",
     "text": [
      "CAC: <irrCAC.raw.CAC Subjects: 7943, Raters: 3, Categories: [False, True], Weights: \"identity\">\n",
      "Percent agreement: 0.8255\n",
      "Krippendorff's alpha: 0.3619\n",
      "Gwet's AC1: 0.8577\n"
     ]
    }
   ],
   "source": [
    "cac = CAC(ideology)\n",
    "\n",
    "print(\"CAC:\", cac)\n",
    "print(f\"Percent agreement: {percent_agreement(cac.ratings):.4f}\")\n",
    "print(f\"Krippendorff's alpha: {cac.krippendorff()['est']['coefficient_value']:.4f}\")\n",
    "print(f\"Gwet's AC1: {cac.gwet()['est']['coefficient_value']:.4f}\")"
   ]
  },
  {
   "cell_type": "markdown",
   "metadata": {},
   "source": [
    "### `insult`"
   ]
  },
  {
   "cell_type": "code",
   "execution_count": 70,
   "metadata": {},
   "outputs": [
    {
     "data": {
      "text/html": [
       "<div>\n",
       "<style scoped>\n",
       "    .dataframe tbody tr th:only-of-type {\n",
       "        vertical-align: middle;\n",
       "    }\n",
       "\n",
       "    .dataframe tbody tr th {\n",
       "        vertical-align: top;\n",
       "    }\n",
       "\n",
       "    .dataframe thead th {\n",
       "        text-align: right;\n",
       "    }\n",
       "</style>\n",
       "<table border=\"1\" class=\"dataframe\">\n",
       "  <thead>\n",
       "    <tr style=\"text-align: right;\">\n",
       "      <th></th>\n",
       "      <th>0</th>\n",
       "      <th>1</th>\n",
       "      <th>2</th>\n",
       "      <th>3</th>\n",
       "      <th>4</th>\n",
       "      <th>5</th>\n",
       "      <th>6</th>\n",
       "      <th>7</th>\n",
       "      <th>8</th>\n",
       "      <th>9</th>\n",
       "      <th>...</th>\n",
       "      <th>7933</th>\n",
       "      <th>7934</th>\n",
       "      <th>7935</th>\n",
       "      <th>7936</th>\n",
       "      <th>7937</th>\n",
       "      <th>7938</th>\n",
       "      <th>7939</th>\n",
       "      <th>7940</th>\n",
       "      <th>7941</th>\n",
       "      <th>7942</th>\n",
       "    </tr>\n",
       "  </thead>\n",
       "  <tbody>\n",
       "    <tr>\n",
       "      <th>A</th>\n",
       "      <td>True</td>\n",
       "      <td>True</td>\n",
       "      <td>False</td>\n",
       "      <td>True</td>\n",
       "      <td>True</td>\n",
       "      <td>True</td>\n",
       "      <td>True</td>\n",
       "      <td>False</td>\n",
       "      <td>False</td>\n",
       "      <td>True</td>\n",
       "      <td>...</td>\n",
       "      <td>True</td>\n",
       "      <td>False</td>\n",
       "      <td>True</td>\n",
       "      <td>False</td>\n",
       "      <td>True</td>\n",
       "      <td>False</td>\n",
       "      <td>True</td>\n",
       "      <td>True</td>\n",
       "      <td>False</td>\n",
       "      <td>True</td>\n",
       "    </tr>\n",
       "    <tr>\n",
       "      <th>B</th>\n",
       "      <td>True</td>\n",
       "      <td>True</td>\n",
       "      <td>True</td>\n",
       "      <td>True</td>\n",
       "      <td>False</td>\n",
       "      <td>False</td>\n",
       "      <td>True</td>\n",
       "      <td>True</td>\n",
       "      <td>False</td>\n",
       "      <td>True</td>\n",
       "      <td>...</td>\n",
       "      <td>True</td>\n",
       "      <td>True</td>\n",
       "      <td>False</td>\n",
       "      <td>False</td>\n",
       "      <td>True</td>\n",
       "      <td>False</td>\n",
       "      <td>True</td>\n",
       "      <td>True</td>\n",
       "      <td>False</td>\n",
       "      <td>True</td>\n",
       "    </tr>\n",
       "    <tr>\n",
       "      <th>C</th>\n",
       "      <td>True</td>\n",
       "      <td>True</td>\n",
       "      <td>True</td>\n",
       "      <td>True</td>\n",
       "      <td>True</td>\n",
       "      <td>False</td>\n",
       "      <td>True</td>\n",
       "      <td>False</td>\n",
       "      <td>True</td>\n",
       "      <td>True</td>\n",
       "      <td>...</td>\n",
       "      <td>True</td>\n",
       "      <td>False</td>\n",
       "      <td>False</td>\n",
       "      <td>False</td>\n",
       "      <td>True</td>\n",
       "      <td>False</td>\n",
       "      <td>True</td>\n",
       "      <td>True</td>\n",
       "      <td>False</td>\n",
       "      <td>False</td>\n",
       "    </tr>\n",
       "  </tbody>\n",
       "</table>\n",
       "<p>3 rows × 7943 columns</p>\n",
       "</div>"
      ],
      "text/plain": [
       "   0     1      2     3      4      5     6      7      8     9     ...  7933  \\\n",
       "A  True  True  False  True   True   True  True  False  False  True  ...  True   \n",
       "B  True  True   True  True  False  False  True   True  False  True  ...  True   \n",
       "C  True  True   True  True   True  False  True  False   True  True  ...  True   \n",
       "\n",
       "    7934   7935   7936  7937   7938  7939  7940   7941   7942  \n",
       "A  False   True  False  True  False  True  True  False   True  \n",
       "B   True  False  False  True  False  True  True  False   True  \n",
       "C  False  False  False  True  False  True  True  False  False  \n",
       "\n",
       "[3 rows x 7943 columns]"
      ]
     },
     "execution_count": 70,
     "metadata": {},
     "output_type": "execute_result"
    }
   ],
   "source": [
    "insult = pd.DataFrame(\n",
    "    [\n",
    "        get_annotations(\n",
    "            annotations=item[\"annotations\"],\n",
    "            label=\"insult\",\n",
    "            annotation_id_key=\"annotator_id\")\n",
    "        for item in full_data\n",
    "    ]\n",
    ")\n",
    "\n",
    "insult.transpose().head()"
   ]
  },
  {
   "cell_type": "code",
   "execution_count": 71,
   "metadata": {},
   "outputs": [
    {
     "name": "stdout",
     "output_type": "stream",
     "text": [
      "CAC: <irrCAC.raw.CAC Subjects: 7943, Raters: 3, Categories: [False, True], Weights: \"identity\">\n",
      "Percent agreement: 0.5065\n",
      "Krippendorff's alpha: 0.2491\n",
      "Gwet's AC1: 0.4144\n"
     ]
    }
   ],
   "source": [
    "cac = CAC(insult)\n",
    "\n",
    "print(\"CAC:\", cac)\n",
    "print(f\"Percent agreement: {percent_agreement(cac.ratings):.4f}\")\n",
    "print(f\"Krippendorff's alpha: {cac.krippendorff()['est']['coefficient_value']:.4f}\")\n",
    "print(f\"Gwet's AC1: {cac.gwet()['est']['coefficient_value']:.4f}\")"
   ]
  },
  {
   "cell_type": "markdown",
   "metadata": {},
   "source": [
    "### `lgbtqphobia`"
   ]
  },
  {
   "cell_type": "code",
   "execution_count": 72,
   "metadata": {},
   "outputs": [
    {
     "data": {
      "text/html": [
       "<div>\n",
       "<style scoped>\n",
       "    .dataframe tbody tr th:only-of-type {\n",
       "        vertical-align: middle;\n",
       "    }\n",
       "\n",
       "    .dataframe tbody tr th {\n",
       "        vertical-align: top;\n",
       "    }\n",
       "\n",
       "    .dataframe thead th {\n",
       "        text-align: right;\n",
       "    }\n",
       "</style>\n",
       "<table border=\"1\" class=\"dataframe\">\n",
       "  <thead>\n",
       "    <tr style=\"text-align: right;\">\n",
       "      <th></th>\n",
       "      <th>0</th>\n",
       "      <th>1</th>\n",
       "      <th>2</th>\n",
       "      <th>3</th>\n",
       "      <th>4</th>\n",
       "      <th>5</th>\n",
       "      <th>6</th>\n",
       "      <th>7</th>\n",
       "      <th>8</th>\n",
       "      <th>9</th>\n",
       "      <th>...</th>\n",
       "      <th>7933</th>\n",
       "      <th>7934</th>\n",
       "      <th>7935</th>\n",
       "      <th>7936</th>\n",
       "      <th>7937</th>\n",
       "      <th>7938</th>\n",
       "      <th>7939</th>\n",
       "      <th>7940</th>\n",
       "      <th>7941</th>\n",
       "      <th>7942</th>\n",
       "    </tr>\n",
       "  </thead>\n",
       "  <tbody>\n",
       "    <tr>\n",
       "      <th>A</th>\n",
       "      <td>False</td>\n",
       "      <td>False</td>\n",
       "      <td>False</td>\n",
       "      <td>False</td>\n",
       "      <td>False</td>\n",
       "      <td>False</td>\n",
       "      <td>False</td>\n",
       "      <td>False</td>\n",
       "      <td>False</td>\n",
       "      <td>False</td>\n",
       "      <td>...</td>\n",
       "      <td>False</td>\n",
       "      <td>True</td>\n",
       "      <td>False</td>\n",
       "      <td>False</td>\n",
       "      <td>False</td>\n",
       "      <td>False</td>\n",
       "      <td>False</td>\n",
       "      <td>False</td>\n",
       "      <td>False</td>\n",
       "      <td>False</td>\n",
       "    </tr>\n",
       "    <tr>\n",
       "      <th>B</th>\n",
       "      <td>False</td>\n",
       "      <td>False</td>\n",
       "      <td>False</td>\n",
       "      <td>False</td>\n",
       "      <td>False</td>\n",
       "      <td>False</td>\n",
       "      <td>False</td>\n",
       "      <td>False</td>\n",
       "      <td>False</td>\n",
       "      <td>False</td>\n",
       "      <td>...</td>\n",
       "      <td>False</td>\n",
       "      <td>False</td>\n",
       "      <td>False</td>\n",
       "      <td>False</td>\n",
       "      <td>False</td>\n",
       "      <td>False</td>\n",
       "      <td>False</td>\n",
       "      <td>False</td>\n",
       "      <td>False</td>\n",
       "      <td>False</td>\n",
       "    </tr>\n",
       "    <tr>\n",
       "      <th>C</th>\n",
       "      <td>False</td>\n",
       "      <td>False</td>\n",
       "      <td>False</td>\n",
       "      <td>False</td>\n",
       "      <td>False</td>\n",
       "      <td>False</td>\n",
       "      <td>False</td>\n",
       "      <td>False</td>\n",
       "      <td>False</td>\n",
       "      <td>False</td>\n",
       "      <td>...</td>\n",
       "      <td>False</td>\n",
       "      <td>False</td>\n",
       "      <td>False</td>\n",
       "      <td>False</td>\n",
       "      <td>False</td>\n",
       "      <td>False</td>\n",
       "      <td>False</td>\n",
       "      <td>False</td>\n",
       "      <td>False</td>\n",
       "      <td>False</td>\n",
       "    </tr>\n",
       "  </tbody>\n",
       "</table>\n",
       "<p>3 rows × 7943 columns</p>\n",
       "</div>"
      ],
      "text/plain": [
       "    0      1      2      3      4      5      6      7      8      9     ...  \\\n",
       "A  False  False  False  False  False  False  False  False  False  False  ...   \n",
       "B  False  False  False  False  False  False  False  False  False  False  ...   \n",
       "C  False  False  False  False  False  False  False  False  False  False  ...   \n",
       "\n",
       "    7933   7934   7935   7936   7937   7938   7939   7940   7941   7942  \n",
       "A  False   True  False  False  False  False  False  False  False  False  \n",
       "B  False  False  False  False  False  False  False  False  False  False  \n",
       "C  False  False  False  False  False  False  False  False  False  False  \n",
       "\n",
       "[3 rows x 7943 columns]"
      ]
     },
     "execution_count": 72,
     "metadata": {},
     "output_type": "execute_result"
    }
   ],
   "source": [
    "lgbtqphobia = pd.DataFrame(\n",
    "    [\n",
    "        get_annotations(\n",
    "            annotations=item[\"annotations\"],\n",
    "            label=\"lgbtqphobia\",\n",
    "            annotation_id_key=\"annotator_id\")\n",
    "        for item in full_data\n",
    "    ]\n",
    ")\n",
    "\n",
    "lgbtqphobia.transpose().head()"
   ]
  },
  {
   "cell_type": "code",
   "execution_count": 73,
   "metadata": {},
   "outputs": [
    {
     "name": "stdout",
     "output_type": "stream",
     "text": [
      "CAC: <irrCAC.raw.CAC Subjects: 7943, Raters: 3, Categories: [False, True], Weights: \"identity\">\n",
      "Percent agreement: 0.9539\n",
      "Krippendorff's alpha: 0.5765\n",
      "Gwet's AC1: 0.9669\n"
     ]
    }
   ],
   "source": [
    "cac = CAC(lgbtqphobia)\n",
    "\n",
    "print(\"CAC:\", cac)\n",
    "print(f\"Percent agreement: {percent_agreement(cac.ratings):.4f}\")\n",
    "print(f\"Krippendorff's alpha: {cac.krippendorff()['est']['coefficient_value']:.4f}\")\n",
    "print(f\"Gwet's AC1: {cac.gwet()['est']['coefficient_value']:.4f}\")"
   ]
  },
  {
   "cell_type": "markdown",
   "metadata": {},
   "source": [
    "### `other_lifestyle`"
   ]
  },
  {
   "cell_type": "code",
   "execution_count": 74,
   "metadata": {},
   "outputs": [
    {
     "data": {
      "text/html": [
       "<div>\n",
       "<style scoped>\n",
       "    .dataframe tbody tr th:only-of-type {\n",
       "        vertical-align: middle;\n",
       "    }\n",
       "\n",
       "    .dataframe tbody tr th {\n",
       "        vertical-align: top;\n",
       "    }\n",
       "\n",
       "    .dataframe thead th {\n",
       "        text-align: right;\n",
       "    }\n",
       "</style>\n",
       "<table border=\"1\" class=\"dataframe\">\n",
       "  <thead>\n",
       "    <tr style=\"text-align: right;\">\n",
       "      <th></th>\n",
       "      <th>0</th>\n",
       "      <th>1</th>\n",
       "      <th>2</th>\n",
       "      <th>3</th>\n",
       "      <th>4</th>\n",
       "      <th>5</th>\n",
       "      <th>6</th>\n",
       "      <th>7</th>\n",
       "      <th>8</th>\n",
       "      <th>9</th>\n",
       "      <th>...</th>\n",
       "      <th>7933</th>\n",
       "      <th>7934</th>\n",
       "      <th>7935</th>\n",
       "      <th>7936</th>\n",
       "      <th>7937</th>\n",
       "      <th>7938</th>\n",
       "      <th>7939</th>\n",
       "      <th>7940</th>\n",
       "      <th>7941</th>\n",
       "      <th>7942</th>\n",
       "    </tr>\n",
       "  </thead>\n",
       "  <tbody>\n",
       "    <tr>\n",
       "      <th>A</th>\n",
       "      <td>False</td>\n",
       "      <td>False</td>\n",
       "      <td>False</td>\n",
       "      <td>False</td>\n",
       "      <td>False</td>\n",
       "      <td>False</td>\n",
       "      <td>False</td>\n",
       "      <td>False</td>\n",
       "      <td>False</td>\n",
       "      <td>False</td>\n",
       "      <td>...</td>\n",
       "      <td>False</td>\n",
       "      <td>False</td>\n",
       "      <td>False</td>\n",
       "      <td>False</td>\n",
       "      <td>False</td>\n",
       "      <td>False</td>\n",
       "      <td>False</td>\n",
       "      <td>False</td>\n",
       "      <td>False</td>\n",
       "      <td>False</td>\n",
       "    </tr>\n",
       "    <tr>\n",
       "      <th>B</th>\n",
       "      <td>False</td>\n",
       "      <td>False</td>\n",
       "      <td>False</td>\n",
       "      <td>False</td>\n",
       "      <td>False</td>\n",
       "      <td>False</td>\n",
       "      <td>False</td>\n",
       "      <td>False</td>\n",
       "      <td>False</td>\n",
       "      <td>False</td>\n",
       "      <td>...</td>\n",
       "      <td>False</td>\n",
       "      <td>False</td>\n",
       "      <td>False</td>\n",
       "      <td>False</td>\n",
       "      <td>False</td>\n",
       "      <td>False</td>\n",
       "      <td>False</td>\n",
       "      <td>False</td>\n",
       "      <td>False</td>\n",
       "      <td>False</td>\n",
       "    </tr>\n",
       "    <tr>\n",
       "      <th>C</th>\n",
       "      <td>False</td>\n",
       "      <td>False</td>\n",
       "      <td>False</td>\n",
       "      <td>False</td>\n",
       "      <td>False</td>\n",
       "      <td>False</td>\n",
       "      <td>False</td>\n",
       "      <td>False</td>\n",
       "      <td>False</td>\n",
       "      <td>False</td>\n",
       "      <td>...</td>\n",
       "      <td>False</td>\n",
       "      <td>False</td>\n",
       "      <td>False</td>\n",
       "      <td>False</td>\n",
       "      <td>False</td>\n",
       "      <td>False</td>\n",
       "      <td>False</td>\n",
       "      <td>False</td>\n",
       "      <td>False</td>\n",
       "      <td>False</td>\n",
       "    </tr>\n",
       "  </tbody>\n",
       "</table>\n",
       "<p>3 rows × 7943 columns</p>\n",
       "</div>"
      ],
      "text/plain": [
       "    0      1      2      3      4      5      6      7      8      9     ...  \\\n",
       "A  False  False  False  False  False  False  False  False  False  False  ...   \n",
       "B  False  False  False  False  False  False  False  False  False  False  ...   \n",
       "C  False  False  False  False  False  False  False  False  False  False  ...   \n",
       "\n",
       "    7933   7934   7935   7936   7937   7938   7939   7940   7941   7942  \n",
       "A  False  False  False  False  False  False  False  False  False  False  \n",
       "B  False  False  False  False  False  False  False  False  False  False  \n",
       "C  False  False  False  False  False  False  False  False  False  False  \n",
       "\n",
       "[3 rows x 7943 columns]"
      ]
     },
     "execution_count": 74,
     "metadata": {},
     "output_type": "execute_result"
    }
   ],
   "source": [
    "other_lifestyle = pd.DataFrame(\n",
    "    [\n",
    "        get_annotations(\n",
    "            annotations=item[\"annotations\"],\n",
    "            label=\"other_lifestyle\",\n",
    "            annotation_id_key=\"annotator_id\")\n",
    "        for item in full_data\n",
    "    ]\n",
    ")\n",
    "\n",
    "other_lifestyle.transpose().head()"
   ]
  },
  {
   "cell_type": "code",
   "execution_count": 75,
   "metadata": {},
   "outputs": [
    {
     "name": "stdout",
     "output_type": "stream",
     "text": [
      "CAC: <irrCAC.raw.CAC Subjects: 7943, Raters: 3, Categories: [False, True], Weights: \"identity\">\n",
      "Percent agreement: 0.9794\n",
      "Krippendorff's alpha: 0.3209\n",
      "Gwet's AC1: 0.9859\n"
     ]
    }
   ],
   "source": [
    "cac = CAC(other_lifestyle)\n",
    "\n",
    "print(\"CAC:\", cac)\n",
    "print(f\"Percent agreement: {percent_agreement(cac.ratings):.4f}\")\n",
    "print(f\"Krippendorff's alpha: {cac.krippendorff()['est']['coefficient_value']:.4f}\")\n",
    "print(f\"Gwet's AC1: {cac.gwet()['est']['coefficient_value']:.4f}\")"
   ]
  },
  {
   "cell_type": "markdown",
   "metadata": {},
   "source": [
    "### `physical_aspects`"
   ]
  },
  {
   "cell_type": "code",
   "execution_count": 76,
   "metadata": {},
   "outputs": [
    {
     "data": {
      "text/html": [
       "<div>\n",
       "<style scoped>\n",
       "    .dataframe tbody tr th:only-of-type {\n",
       "        vertical-align: middle;\n",
       "    }\n",
       "\n",
       "    .dataframe tbody tr th {\n",
       "        vertical-align: top;\n",
       "    }\n",
       "\n",
       "    .dataframe thead th {\n",
       "        text-align: right;\n",
       "    }\n",
       "</style>\n",
       "<table border=\"1\" class=\"dataframe\">\n",
       "  <thead>\n",
       "    <tr style=\"text-align: right;\">\n",
       "      <th></th>\n",
       "      <th>0</th>\n",
       "      <th>1</th>\n",
       "      <th>2</th>\n",
       "      <th>3</th>\n",
       "      <th>4</th>\n",
       "      <th>5</th>\n",
       "      <th>6</th>\n",
       "      <th>7</th>\n",
       "      <th>8</th>\n",
       "      <th>9</th>\n",
       "      <th>...</th>\n",
       "      <th>7933</th>\n",
       "      <th>7934</th>\n",
       "      <th>7935</th>\n",
       "      <th>7936</th>\n",
       "      <th>7937</th>\n",
       "      <th>7938</th>\n",
       "      <th>7939</th>\n",
       "      <th>7940</th>\n",
       "      <th>7941</th>\n",
       "      <th>7942</th>\n",
       "    </tr>\n",
       "  </thead>\n",
       "  <tbody>\n",
       "    <tr>\n",
       "      <th>A</th>\n",
       "      <td>False</td>\n",
       "      <td>False</td>\n",
       "      <td>False</td>\n",
       "      <td>False</td>\n",
       "      <td>False</td>\n",
       "      <td>False</td>\n",
       "      <td>False</td>\n",
       "      <td>False</td>\n",
       "      <td>True</td>\n",
       "      <td>False</td>\n",
       "      <td>...</td>\n",
       "      <td>False</td>\n",
       "      <td>False</td>\n",
       "      <td>False</td>\n",
       "      <td>False</td>\n",
       "      <td>False</td>\n",
       "      <td>False</td>\n",
       "      <td>False</td>\n",
       "      <td>False</td>\n",
       "      <td>False</td>\n",
       "      <td>False</td>\n",
       "    </tr>\n",
       "    <tr>\n",
       "      <th>B</th>\n",
       "      <td>False</td>\n",
       "      <td>False</td>\n",
       "      <td>False</td>\n",
       "      <td>False</td>\n",
       "      <td>False</td>\n",
       "      <td>False</td>\n",
       "      <td>False</td>\n",
       "      <td>False</td>\n",
       "      <td>False</td>\n",
       "      <td>False</td>\n",
       "      <td>...</td>\n",
       "      <td>False</td>\n",
       "      <td>False</td>\n",
       "      <td>False</td>\n",
       "      <td>False</td>\n",
       "      <td>False</td>\n",
       "      <td>False</td>\n",
       "      <td>False</td>\n",
       "      <td>False</td>\n",
       "      <td>False</td>\n",
       "      <td>False</td>\n",
       "    </tr>\n",
       "    <tr>\n",
       "      <th>C</th>\n",
       "      <td>False</td>\n",
       "      <td>False</td>\n",
       "      <td>False</td>\n",
       "      <td>False</td>\n",
       "      <td>False</td>\n",
       "      <td>False</td>\n",
       "      <td>False</td>\n",
       "      <td>False</td>\n",
       "      <td>False</td>\n",
       "      <td>False</td>\n",
       "      <td>...</td>\n",
       "      <td>False</td>\n",
       "      <td>False</td>\n",
       "      <td>False</td>\n",
       "      <td>False</td>\n",
       "      <td>False</td>\n",
       "      <td>False</td>\n",
       "      <td>False</td>\n",
       "      <td>False</td>\n",
       "      <td>False</td>\n",
       "      <td>False</td>\n",
       "    </tr>\n",
       "  </tbody>\n",
       "</table>\n",
       "<p>3 rows × 7943 columns</p>\n",
       "</div>"
      ],
      "text/plain": [
       "    0      1      2      3      4      5      6      7      8      9     ...  \\\n",
       "A  False  False  False  False  False  False  False  False   True  False  ...   \n",
       "B  False  False  False  False  False  False  False  False  False  False  ...   \n",
       "C  False  False  False  False  False  False  False  False  False  False  ...   \n",
       "\n",
       "    7933   7934   7935   7936   7937   7938   7939   7940   7941   7942  \n",
       "A  False  False  False  False  False  False  False  False  False  False  \n",
       "B  False  False  False  False  False  False  False  False  False  False  \n",
       "C  False  False  False  False  False  False  False  False  False  False  \n",
       "\n",
       "[3 rows x 7943 columns]"
      ]
     },
     "execution_count": 76,
     "metadata": {},
     "output_type": "execute_result"
    }
   ],
   "source": [
    "physical_aspects = pd.DataFrame(\n",
    "    [\n",
    "        get_annotations(\n",
    "            annotations=item[\"annotations\"],\n",
    "            label=\"physical_aspects\",\n",
    "            annotation_id_key=\"annotator_id\")\n",
    "        for item in full_data\n",
    "    ]\n",
    ")\n",
    "\n",
    "physical_aspects.transpose().head()"
   ]
  },
  {
   "cell_type": "code",
   "execution_count": 77,
   "metadata": {},
   "outputs": [
    {
     "name": "stdout",
     "output_type": "stream",
     "text": [
      "CAC: <irrCAC.raw.CAC Subjects: 7943, Raters: 3, Categories: [False, True], Weights: \"identity\">\n",
      "Percent agreement: 0.9525\n",
      "Krippendorff's alpha: 0.3698\n",
      "Gwet's AC1: 0.9667\n"
     ]
    }
   ],
   "source": [
    "cac = CAC(physical_aspects)\n",
    "\n",
    "print(\"CAC:\", cac)\n",
    "print(f\"Percent agreement: {percent_agreement(cac.ratings):.4f}\")\n",
    "print(f\"Krippendorff's alpha: {cac.krippendorff()['est']['coefficient_value']:.4f}\")\n",
    "print(f\"Gwet's AC1: {cac.gwet()['est']['coefficient_value']:.4f}\")"
   ]
  },
  {
   "cell_type": "markdown",
   "metadata": {},
   "source": [
    "### `profanity_obscene`"
   ]
  },
  {
   "cell_type": "code",
   "execution_count": 78,
   "metadata": {},
   "outputs": [
    {
     "data": {
      "text/html": [
       "<div>\n",
       "<style scoped>\n",
       "    .dataframe tbody tr th:only-of-type {\n",
       "        vertical-align: middle;\n",
       "    }\n",
       "\n",
       "    .dataframe tbody tr th {\n",
       "        vertical-align: top;\n",
       "    }\n",
       "\n",
       "    .dataframe thead th {\n",
       "        text-align: right;\n",
       "    }\n",
       "</style>\n",
       "<table border=\"1\" class=\"dataframe\">\n",
       "  <thead>\n",
       "    <tr style=\"text-align: right;\">\n",
       "      <th></th>\n",
       "      <th>0</th>\n",
       "      <th>1</th>\n",
       "      <th>2</th>\n",
       "      <th>3</th>\n",
       "      <th>4</th>\n",
       "      <th>5</th>\n",
       "      <th>6</th>\n",
       "      <th>7</th>\n",
       "      <th>8</th>\n",
       "      <th>9</th>\n",
       "      <th>...</th>\n",
       "      <th>7933</th>\n",
       "      <th>7934</th>\n",
       "      <th>7935</th>\n",
       "      <th>7936</th>\n",
       "      <th>7937</th>\n",
       "      <th>7938</th>\n",
       "      <th>7939</th>\n",
       "      <th>7940</th>\n",
       "      <th>7941</th>\n",
       "      <th>7942</th>\n",
       "    </tr>\n",
       "  </thead>\n",
       "  <tbody>\n",
       "    <tr>\n",
       "      <th>A</th>\n",
       "      <td>True</td>\n",
       "      <td>False</td>\n",
       "      <td>False</td>\n",
       "      <td>False</td>\n",
       "      <td>False</td>\n",
       "      <td>False</td>\n",
       "      <td>False</td>\n",
       "      <td>True</td>\n",
       "      <td>False</td>\n",
       "      <td>False</td>\n",
       "      <td>...</td>\n",
       "      <td>False</td>\n",
       "      <td>False</td>\n",
       "      <td>False</td>\n",
       "      <td>False</td>\n",
       "      <td>True</td>\n",
       "      <td>False</td>\n",
       "      <td>False</td>\n",
       "      <td>True</td>\n",
       "      <td>True</td>\n",
       "      <td>False</td>\n",
       "    </tr>\n",
       "    <tr>\n",
       "      <th>B</th>\n",
       "      <td>False</td>\n",
       "      <td>False</td>\n",
       "      <td>False</td>\n",
       "      <td>False</td>\n",
       "      <td>False</td>\n",
       "      <td>False</td>\n",
       "      <td>False</td>\n",
       "      <td>False</td>\n",
       "      <td>False</td>\n",
       "      <td>False</td>\n",
       "      <td>...</td>\n",
       "      <td>False</td>\n",
       "      <td>False</td>\n",
       "      <td>False</td>\n",
       "      <td>False</td>\n",
       "      <td>False</td>\n",
       "      <td>False</td>\n",
       "      <td>False</td>\n",
       "      <td>False</td>\n",
       "      <td>False</td>\n",
       "      <td>False</td>\n",
       "    </tr>\n",
       "    <tr>\n",
       "      <th>C</th>\n",
       "      <td>False</td>\n",
       "      <td>False</td>\n",
       "      <td>False</td>\n",
       "      <td>False</td>\n",
       "      <td>False</td>\n",
       "      <td>False</td>\n",
       "      <td>True</td>\n",
       "      <td>True</td>\n",
       "      <td>False</td>\n",
       "      <td>False</td>\n",
       "      <td>...</td>\n",
       "      <td>False</td>\n",
       "      <td>False</td>\n",
       "      <td>False</td>\n",
       "      <td>False</td>\n",
       "      <td>True</td>\n",
       "      <td>False</td>\n",
       "      <td>False</td>\n",
       "      <td>False</td>\n",
       "      <td>False</td>\n",
       "      <td>False</td>\n",
       "    </tr>\n",
       "  </tbody>\n",
       "</table>\n",
       "<p>3 rows × 7943 columns</p>\n",
       "</div>"
      ],
      "text/plain": [
       "    0      1      2      3      4      5      6      7      8      9     ...  \\\n",
       "A   True  False  False  False  False  False  False   True  False  False  ...   \n",
       "B  False  False  False  False  False  False  False  False  False  False  ...   \n",
       "C  False  False  False  False  False  False   True   True  False  False  ...   \n",
       "\n",
       "    7933   7934   7935   7936   7937   7938   7939   7940   7941   7942  \n",
       "A  False  False  False  False   True  False  False   True   True  False  \n",
       "B  False  False  False  False  False  False  False  False  False  False  \n",
       "C  False  False  False  False   True  False  False  False  False  False  \n",
       "\n",
       "[3 rows x 7943 columns]"
      ]
     },
     "execution_count": 78,
     "metadata": {},
     "output_type": "execute_result"
    }
   ],
   "source": [
    "profanity_obscene = pd.DataFrame(\n",
    "    [\n",
    "        get_annotations(\n",
    "            annotations=item[\"annotations\"],\n",
    "            label=\"profanity_obscene\",\n",
    "            annotation_id_key=\"annotator_id\")\n",
    "        for item in full_data\n",
    "    ]\n",
    ")\n",
    "\n",
    "profanity_obscene.transpose().head()"
   ]
  },
  {
   "cell_type": "code",
   "execution_count": 79,
   "metadata": {},
   "outputs": [
    {
     "name": "stdout",
     "output_type": "stream",
     "text": [
      "CAC: <irrCAC.raw.CAC Subjects: 7943, Raters: 3, Categories: [False, True], Weights: \"identity\">\n",
      "Percent agreement: 0.7079\n",
      "Krippendorff's alpha: 0.4132\n",
      "Gwet's AC1: 0.7086\n"
     ]
    }
   ],
   "source": [
    "cac = CAC(profanity_obscene)\n",
    "\n",
    "print(\"CAC:\", cac)\n",
    "print(f\"Percent agreement: {percent_agreement(cac.ratings):.4f}\")\n",
    "print(f\"Krippendorff's alpha: {cac.krippendorff()['est']['coefficient_value']:.4f}\")\n",
    "print(f\"Gwet's AC1: {cac.gwet()['est']['coefficient_value']:.4f}\")"
   ]
  },
  {
   "cell_type": "markdown",
   "metadata": {},
   "source": [
    "### `racism`"
   ]
  },
  {
   "cell_type": "code",
   "execution_count": 80,
   "metadata": {},
   "outputs": [
    {
     "data": {
      "text/html": [
       "<div>\n",
       "<style scoped>\n",
       "    .dataframe tbody tr th:only-of-type {\n",
       "        vertical-align: middle;\n",
       "    }\n",
       "\n",
       "    .dataframe tbody tr th {\n",
       "        vertical-align: top;\n",
       "    }\n",
       "\n",
       "    .dataframe thead th {\n",
       "        text-align: right;\n",
       "    }\n",
       "</style>\n",
       "<table border=\"1\" class=\"dataframe\">\n",
       "  <thead>\n",
       "    <tr style=\"text-align: right;\">\n",
       "      <th></th>\n",
       "      <th>0</th>\n",
       "      <th>1</th>\n",
       "      <th>2</th>\n",
       "      <th>3</th>\n",
       "      <th>4</th>\n",
       "      <th>5</th>\n",
       "      <th>6</th>\n",
       "      <th>7</th>\n",
       "      <th>8</th>\n",
       "      <th>9</th>\n",
       "      <th>...</th>\n",
       "      <th>7933</th>\n",
       "      <th>7934</th>\n",
       "      <th>7935</th>\n",
       "      <th>7936</th>\n",
       "      <th>7937</th>\n",
       "      <th>7938</th>\n",
       "      <th>7939</th>\n",
       "      <th>7940</th>\n",
       "      <th>7941</th>\n",
       "      <th>7942</th>\n",
       "    </tr>\n",
       "  </thead>\n",
       "  <tbody>\n",
       "    <tr>\n",
       "      <th>A</th>\n",
       "      <td>False</td>\n",
       "      <td>False</td>\n",
       "      <td>False</td>\n",
       "      <td>False</td>\n",
       "      <td>False</td>\n",
       "      <td>False</td>\n",
       "      <td>False</td>\n",
       "      <td>False</td>\n",
       "      <td>False</td>\n",
       "      <td>False</td>\n",
       "      <td>...</td>\n",
       "      <td>False</td>\n",
       "      <td>False</td>\n",
       "      <td>False</td>\n",
       "      <td>False</td>\n",
       "      <td>False</td>\n",
       "      <td>False</td>\n",
       "      <td>False</td>\n",
       "      <td>False</td>\n",
       "      <td>False</td>\n",
       "      <td>False</td>\n",
       "    </tr>\n",
       "    <tr>\n",
       "      <th>B</th>\n",
       "      <td>False</td>\n",
       "      <td>False</td>\n",
       "      <td>False</td>\n",
       "      <td>False</td>\n",
       "      <td>False</td>\n",
       "      <td>False</td>\n",
       "      <td>False</td>\n",
       "      <td>False</td>\n",
       "      <td>False</td>\n",
       "      <td>False</td>\n",
       "      <td>...</td>\n",
       "      <td>False</td>\n",
       "      <td>False</td>\n",
       "      <td>False</td>\n",
       "      <td>False</td>\n",
       "      <td>False</td>\n",
       "      <td>False</td>\n",
       "      <td>False</td>\n",
       "      <td>False</td>\n",
       "      <td>False</td>\n",
       "      <td>False</td>\n",
       "    </tr>\n",
       "    <tr>\n",
       "      <th>C</th>\n",
       "      <td>False</td>\n",
       "      <td>False</td>\n",
       "      <td>False</td>\n",
       "      <td>False</td>\n",
       "      <td>False</td>\n",
       "      <td>False</td>\n",
       "      <td>False</td>\n",
       "      <td>False</td>\n",
       "      <td>False</td>\n",
       "      <td>False</td>\n",
       "      <td>...</td>\n",
       "      <td>False</td>\n",
       "      <td>False</td>\n",
       "      <td>False</td>\n",
       "      <td>False</td>\n",
       "      <td>False</td>\n",
       "      <td>False</td>\n",
       "      <td>False</td>\n",
       "      <td>False</td>\n",
       "      <td>False</td>\n",
       "      <td>False</td>\n",
       "    </tr>\n",
       "  </tbody>\n",
       "</table>\n",
       "<p>3 rows × 7943 columns</p>\n",
       "</div>"
      ],
      "text/plain": [
       "    0      1      2      3      4      5      6      7      8      9     ...  \\\n",
       "A  False  False  False  False  False  False  False  False  False  False  ...   \n",
       "B  False  False  False  False  False  False  False  False  False  False  ...   \n",
       "C  False  False  False  False  False  False  False  False  False  False  ...   \n",
       "\n",
       "    7933   7934   7935   7936   7937   7938   7939   7940   7941   7942  \n",
       "A  False  False  False  False  False  False  False  False  False  False  \n",
       "B  False  False  False  False  False  False  False  False  False  False  \n",
       "C  False  False  False  False  False  False  False  False  False  False  \n",
       "\n",
       "[3 rows x 7943 columns]"
      ]
     },
     "execution_count": 80,
     "metadata": {},
     "output_type": "execute_result"
    }
   ],
   "source": [
    "racism = pd.DataFrame(\n",
    "    [\n",
    "        get_annotations(\n",
    "            annotations=item[\"annotations\"],\n",
    "            label=\"racism\",\n",
    "            annotation_id_key=\"annotator_id\")\n",
    "        for item in full_data\n",
    "    ]\n",
    ")\n",
    "\n",
    "racism.transpose().head()"
   ]
  },
  {
   "cell_type": "code",
   "execution_count": 81,
   "metadata": {},
   "outputs": [
    {
     "name": "stdout",
     "output_type": "stream",
     "text": [
      "CAC: <irrCAC.raw.CAC Subjects: 7943, Raters: 3, Categories: [False, True], Weights: \"identity\">\n",
      "Percent agreement: 0.9860\n",
      "Krippendorff's alpha: 0.2928\n",
      "Gwet's AC1: 0.9906\n"
     ]
    }
   ],
   "source": [
    "cac = CAC(racism)\n",
    "\n",
    "print(\"CAC:\", cac)\n",
    "print(f\"Percent agreement: {percent_agreement(cac.ratings):.4f}\")\n",
    "print(f\"Krippendorff's alpha: {cac.krippendorff()['est']['coefficient_value']:.4f}\")\n",
    "print(f\"Gwet's AC1: {cac.gwet()['est']['coefficient_value']:.4f}\")"
   ]
  },
  {
   "cell_type": "markdown",
   "metadata": {},
   "source": [
    "### `religious_intolerance`"
   ]
  },
  {
   "cell_type": "code",
   "execution_count": 82,
   "metadata": {},
   "outputs": [
    {
     "data": {
      "text/html": [
       "<div>\n",
       "<style scoped>\n",
       "    .dataframe tbody tr th:only-of-type {\n",
       "        vertical-align: middle;\n",
       "    }\n",
       "\n",
       "    .dataframe tbody tr th {\n",
       "        vertical-align: top;\n",
       "    }\n",
       "\n",
       "    .dataframe thead th {\n",
       "        text-align: right;\n",
       "    }\n",
       "</style>\n",
       "<table border=\"1\" class=\"dataframe\">\n",
       "  <thead>\n",
       "    <tr style=\"text-align: right;\">\n",
       "      <th></th>\n",
       "      <th>0</th>\n",
       "      <th>1</th>\n",
       "      <th>2</th>\n",
       "      <th>3</th>\n",
       "      <th>4</th>\n",
       "      <th>5</th>\n",
       "      <th>6</th>\n",
       "      <th>7</th>\n",
       "      <th>8</th>\n",
       "      <th>9</th>\n",
       "      <th>...</th>\n",
       "      <th>7933</th>\n",
       "      <th>7934</th>\n",
       "      <th>7935</th>\n",
       "      <th>7936</th>\n",
       "      <th>7937</th>\n",
       "      <th>7938</th>\n",
       "      <th>7939</th>\n",
       "      <th>7940</th>\n",
       "      <th>7941</th>\n",
       "      <th>7942</th>\n",
       "    </tr>\n",
       "  </thead>\n",
       "  <tbody>\n",
       "    <tr>\n",
       "      <th>A</th>\n",
       "      <td>False</td>\n",
       "      <td>False</td>\n",
       "      <td>False</td>\n",
       "      <td>False</td>\n",
       "      <td>False</td>\n",
       "      <td>False</td>\n",
       "      <td>False</td>\n",
       "      <td>False</td>\n",
       "      <td>False</td>\n",
       "      <td>False</td>\n",
       "      <td>...</td>\n",
       "      <td>False</td>\n",
       "      <td>False</td>\n",
       "      <td>False</td>\n",
       "      <td>False</td>\n",
       "      <td>False</td>\n",
       "      <td>False</td>\n",
       "      <td>False</td>\n",
       "      <td>False</td>\n",
       "      <td>False</td>\n",
       "      <td>False</td>\n",
       "    </tr>\n",
       "    <tr>\n",
       "      <th>B</th>\n",
       "      <td>False</td>\n",
       "      <td>False</td>\n",
       "      <td>False</td>\n",
       "      <td>False</td>\n",
       "      <td>False</td>\n",
       "      <td>False</td>\n",
       "      <td>False</td>\n",
       "      <td>False</td>\n",
       "      <td>False</td>\n",
       "      <td>False</td>\n",
       "      <td>...</td>\n",
       "      <td>False</td>\n",
       "      <td>False</td>\n",
       "      <td>False</td>\n",
       "      <td>False</td>\n",
       "      <td>False</td>\n",
       "      <td>False</td>\n",
       "      <td>False</td>\n",
       "      <td>False</td>\n",
       "      <td>False</td>\n",
       "      <td>False</td>\n",
       "    </tr>\n",
       "    <tr>\n",
       "      <th>C</th>\n",
       "      <td>False</td>\n",
       "      <td>False</td>\n",
       "      <td>False</td>\n",
       "      <td>False</td>\n",
       "      <td>False</td>\n",
       "      <td>False</td>\n",
       "      <td>False</td>\n",
       "      <td>False</td>\n",
       "      <td>False</td>\n",
       "      <td>False</td>\n",
       "      <td>...</td>\n",
       "      <td>False</td>\n",
       "      <td>False</td>\n",
       "      <td>False</td>\n",
       "      <td>False</td>\n",
       "      <td>False</td>\n",
       "      <td>False</td>\n",
       "      <td>False</td>\n",
       "      <td>False</td>\n",
       "      <td>False</td>\n",
       "      <td>False</td>\n",
       "    </tr>\n",
       "  </tbody>\n",
       "</table>\n",
       "<p>3 rows × 7943 columns</p>\n",
       "</div>"
      ],
      "text/plain": [
       "    0      1      2      3      4      5      6      7      8      9     ...  \\\n",
       "A  False  False  False  False  False  False  False  False  False  False  ...   \n",
       "B  False  False  False  False  False  False  False  False  False  False  ...   \n",
       "C  False  False  False  False  False  False  False  False  False  False  ...   \n",
       "\n",
       "    7933   7934   7935   7936   7937   7938   7939   7940   7941   7942  \n",
       "A  False  False  False  False  False  False  False  False  False  False  \n",
       "B  False  False  False  False  False  False  False  False  False  False  \n",
       "C  False  False  False  False  False  False  False  False  False  False  \n",
       "\n",
       "[3 rows x 7943 columns]"
      ]
     },
     "execution_count": 82,
     "metadata": {},
     "output_type": "execute_result"
    }
   ],
   "source": [
    "religious_intolerance = pd.DataFrame(\n",
    "    [\n",
    "        get_annotations(\n",
    "            annotations=item[\"annotations\"],\n",
    "            label=\"religious_intolerance\",\n",
    "            annotation_id_key=\"annotator_id\")\n",
    "        for item in full_data\n",
    "    ]\n",
    ")\n",
    "\n",
    "religious_intolerance.transpose().head()"
   ]
  },
  {
   "cell_type": "code",
   "execution_count": 84,
   "metadata": {},
   "outputs": [
    {
     "name": "stdout",
     "output_type": "stream",
     "text": [
      "CAC: <irrCAC.raw.CAC Subjects: 7943, Raters: 3, Categories: [False], Weights: \"identity\">\n",
      "Percent agreement: 1.0000\n",
      "Krippendorff's alpha: 1.0000\n",
      "Gwet's AC1: 1.0000\n"
     ]
    }
   ],
   "source": [
    "cac = CAC(religious_intolerance)\n",
    "\n",
    "print(\"CAC:\", cac)\n",
    "print(f\"Percent agreement: {percent_agreement(cac.ratings):.4f}\")\n",
    "print(f\"Krippendorff's alpha: {cac.krippendorff()['est']['coefficient_value']:.4f}\")\n",
    "print(f\"Gwet's AC1: {cac.gwet()['est']['coefficient_value']:.4f}\")"
   ]
  },
  {
   "cell_type": "markdown",
   "metadata": {},
   "source": [
    "### `sexism`"
   ]
  },
  {
   "cell_type": "code",
   "execution_count": 85,
   "metadata": {},
   "outputs": [
    {
     "data": {
      "text/html": [
       "<div>\n",
       "<style scoped>\n",
       "    .dataframe tbody tr th:only-of-type {\n",
       "        vertical-align: middle;\n",
       "    }\n",
       "\n",
       "    .dataframe tbody tr th {\n",
       "        vertical-align: top;\n",
       "    }\n",
       "\n",
       "    .dataframe thead th {\n",
       "        text-align: right;\n",
       "    }\n",
       "</style>\n",
       "<table border=\"1\" class=\"dataframe\">\n",
       "  <thead>\n",
       "    <tr style=\"text-align: right;\">\n",
       "      <th></th>\n",
       "      <th>0</th>\n",
       "      <th>1</th>\n",
       "      <th>2</th>\n",
       "      <th>3</th>\n",
       "      <th>4</th>\n",
       "      <th>5</th>\n",
       "      <th>6</th>\n",
       "      <th>7</th>\n",
       "      <th>8</th>\n",
       "      <th>9</th>\n",
       "      <th>...</th>\n",
       "      <th>7933</th>\n",
       "      <th>7934</th>\n",
       "      <th>7935</th>\n",
       "      <th>7936</th>\n",
       "      <th>7937</th>\n",
       "      <th>7938</th>\n",
       "      <th>7939</th>\n",
       "      <th>7940</th>\n",
       "      <th>7941</th>\n",
       "      <th>7942</th>\n",
       "    </tr>\n",
       "  </thead>\n",
       "  <tbody>\n",
       "    <tr>\n",
       "      <th>A</th>\n",
       "      <td>False</td>\n",
       "      <td>False</td>\n",
       "      <td>False</td>\n",
       "      <td>False</td>\n",
       "      <td>False</td>\n",
       "      <td>False</td>\n",
       "      <td>True</td>\n",
       "      <td>False</td>\n",
       "      <td>False</td>\n",
       "      <td>False</td>\n",
       "      <td>...</td>\n",
       "      <td>False</td>\n",
       "      <td>False</td>\n",
       "      <td>False</td>\n",
       "      <td>False</td>\n",
       "      <td>False</td>\n",
       "      <td>False</td>\n",
       "      <td>False</td>\n",
       "      <td>False</td>\n",
       "      <td>False</td>\n",
       "      <td>False</td>\n",
       "    </tr>\n",
       "    <tr>\n",
       "      <th>B</th>\n",
       "      <td>False</td>\n",
       "      <td>False</td>\n",
       "      <td>False</td>\n",
       "      <td>False</td>\n",
       "      <td>False</td>\n",
       "      <td>False</td>\n",
       "      <td>False</td>\n",
       "      <td>False</td>\n",
       "      <td>False</td>\n",
       "      <td>False</td>\n",
       "      <td>...</td>\n",
       "      <td>False</td>\n",
       "      <td>False</td>\n",
       "      <td>False</td>\n",
       "      <td>False</td>\n",
       "      <td>False</td>\n",
       "      <td>False</td>\n",
       "      <td>False</td>\n",
       "      <td>False</td>\n",
       "      <td>False</td>\n",
       "      <td>False</td>\n",
       "    </tr>\n",
       "    <tr>\n",
       "      <th>C</th>\n",
       "      <td>False</td>\n",
       "      <td>False</td>\n",
       "      <td>False</td>\n",
       "      <td>False</td>\n",
       "      <td>False</td>\n",
       "      <td>False</td>\n",
       "      <td>False</td>\n",
       "      <td>False</td>\n",
       "      <td>False</td>\n",
       "      <td>False</td>\n",
       "      <td>...</td>\n",
       "      <td>False</td>\n",
       "      <td>False</td>\n",
       "      <td>False</td>\n",
       "      <td>False</td>\n",
       "      <td>False</td>\n",
       "      <td>False</td>\n",
       "      <td>False</td>\n",
       "      <td>False</td>\n",
       "      <td>False</td>\n",
       "      <td>False</td>\n",
       "    </tr>\n",
       "  </tbody>\n",
       "</table>\n",
       "<p>3 rows × 7943 columns</p>\n",
       "</div>"
      ],
      "text/plain": [
       "    0      1      2      3      4      5      6      7      8      9     ...  \\\n",
       "A  False  False  False  False  False  False   True  False  False  False  ...   \n",
       "B  False  False  False  False  False  False  False  False  False  False  ...   \n",
       "C  False  False  False  False  False  False  False  False  False  False  ...   \n",
       "\n",
       "    7933   7934   7935   7936   7937   7938   7939   7940   7941   7942  \n",
       "A  False  False  False  False  False  False  False  False  False  False  \n",
       "B  False  False  False  False  False  False  False  False  False  False  \n",
       "C  False  False  False  False  False  False  False  False  False  False  \n",
       "\n",
       "[3 rows x 7943 columns]"
      ]
     },
     "execution_count": 85,
     "metadata": {},
     "output_type": "execute_result"
    }
   ],
   "source": [
    "sexism = pd.DataFrame(\n",
    "    [\n",
    "        get_annotations(\n",
    "            annotations=item[\"annotations\"],\n",
    "            label=\"sexism\",\n",
    "            annotation_id_key=\"annotator_id\")\n",
    "        for item in full_data\n",
    "    ]\n",
    ")\n",
    "\n",
    "sexism.transpose().head()"
   ]
  },
  {
   "cell_type": "code",
   "execution_count": 86,
   "metadata": {},
   "outputs": [
    {
     "name": "stdout",
     "output_type": "stream",
     "text": [
      "CAC: <irrCAC.raw.CAC Subjects: 7943, Raters: 3, Categories: [False, True], Weights: \"identity\">\n",
      "Percent agreement: 0.9272\n",
      "Krippendorff's alpha: 0.1789\n",
      "Gwet's AC1: 0.9484\n"
     ]
    }
   ],
   "source": [
    "cac = CAC(sexism)\n",
    "\n",
    "print(\"CAC:\", cac)\n",
    "print(f\"Percent agreement: {percent_agreement(cac.ratings):.4f}\")\n",
    "print(f\"Krippendorff's alpha: {cac.krippendorff()['est']['coefficient_value']:.4f}\")\n",
    "print(f\"Gwet's AC1: {cac.gwet()['est']['coefficient_value']:.4f}\")"
   ]
  },
  {
   "cell_type": "markdown",
   "metadata": {},
   "source": [
    "### `xenophobia`"
   ]
  },
  {
   "cell_type": "code",
   "execution_count": 87,
   "metadata": {},
   "outputs": [
    {
     "data": {
      "text/html": [
       "<div>\n",
       "<style scoped>\n",
       "    .dataframe tbody tr th:only-of-type {\n",
       "        vertical-align: middle;\n",
       "    }\n",
       "\n",
       "    .dataframe tbody tr th {\n",
       "        vertical-align: top;\n",
       "    }\n",
       "\n",
       "    .dataframe thead th {\n",
       "        text-align: right;\n",
       "    }\n",
       "</style>\n",
       "<table border=\"1\" class=\"dataframe\">\n",
       "  <thead>\n",
       "    <tr style=\"text-align: right;\">\n",
       "      <th></th>\n",
       "      <th>0</th>\n",
       "      <th>1</th>\n",
       "      <th>2</th>\n",
       "      <th>3</th>\n",
       "      <th>4</th>\n",
       "      <th>5</th>\n",
       "      <th>6</th>\n",
       "      <th>7</th>\n",
       "      <th>8</th>\n",
       "      <th>9</th>\n",
       "      <th>...</th>\n",
       "      <th>7933</th>\n",
       "      <th>7934</th>\n",
       "      <th>7935</th>\n",
       "      <th>7936</th>\n",
       "      <th>7937</th>\n",
       "      <th>7938</th>\n",
       "      <th>7939</th>\n",
       "      <th>7940</th>\n",
       "      <th>7941</th>\n",
       "      <th>7942</th>\n",
       "    </tr>\n",
       "  </thead>\n",
       "  <tbody>\n",
       "    <tr>\n",
       "      <th>A</th>\n",
       "      <td>False</td>\n",
       "      <td>False</td>\n",
       "      <td>False</td>\n",
       "      <td>False</td>\n",
       "      <td>False</td>\n",
       "      <td>False</td>\n",
       "      <td>False</td>\n",
       "      <td>False</td>\n",
       "      <td>False</td>\n",
       "      <td>False</td>\n",
       "      <td>...</td>\n",
       "      <td>False</td>\n",
       "      <td>False</td>\n",
       "      <td>False</td>\n",
       "      <td>False</td>\n",
       "      <td>False</td>\n",
       "      <td>False</td>\n",
       "      <td>False</td>\n",
       "      <td>False</td>\n",
       "      <td>False</td>\n",
       "      <td>False</td>\n",
       "    </tr>\n",
       "    <tr>\n",
       "      <th>B</th>\n",
       "      <td>False</td>\n",
       "      <td>False</td>\n",
       "      <td>True</td>\n",
       "      <td>False</td>\n",
       "      <td>False</td>\n",
       "      <td>False</td>\n",
       "      <td>False</td>\n",
       "      <td>False</td>\n",
       "      <td>False</td>\n",
       "      <td>False</td>\n",
       "      <td>...</td>\n",
       "      <td>False</td>\n",
       "      <td>False</td>\n",
       "      <td>False</td>\n",
       "      <td>False</td>\n",
       "      <td>False</td>\n",
       "      <td>False</td>\n",
       "      <td>False</td>\n",
       "      <td>False</td>\n",
       "      <td>False</td>\n",
       "      <td>False</td>\n",
       "    </tr>\n",
       "    <tr>\n",
       "      <th>C</th>\n",
       "      <td>False</td>\n",
       "      <td>False</td>\n",
       "      <td>True</td>\n",
       "      <td>False</td>\n",
       "      <td>False</td>\n",
       "      <td>False</td>\n",
       "      <td>False</td>\n",
       "      <td>False</td>\n",
       "      <td>False</td>\n",
       "      <td>False</td>\n",
       "      <td>...</td>\n",
       "      <td>False</td>\n",
       "      <td>False</td>\n",
       "      <td>False</td>\n",
       "      <td>False</td>\n",
       "      <td>False</td>\n",
       "      <td>False</td>\n",
       "      <td>False</td>\n",
       "      <td>False</td>\n",
       "      <td>False</td>\n",
       "      <td>False</td>\n",
       "    </tr>\n",
       "  </tbody>\n",
       "</table>\n",
       "<p>3 rows × 7943 columns</p>\n",
       "</div>"
      ],
      "text/plain": [
       "    0      1      2      3      4      5      6      7      8      9     ...  \\\n",
       "A  False  False  False  False  False  False  False  False  False  False  ...   \n",
       "B  False  False   True  False  False  False  False  False  False  False  ...   \n",
       "C  False  False   True  False  False  False  False  False  False  False  ...   \n",
       "\n",
       "    7933   7934   7935   7936   7937   7938   7939   7940   7941   7942  \n",
       "A  False  False  False  False  False  False  False  False  False  False  \n",
       "B  False  False  False  False  False  False  False  False  False  False  \n",
       "C  False  False  False  False  False  False  False  False  False  False  \n",
       "\n",
       "[3 rows x 7943 columns]"
      ]
     },
     "execution_count": 87,
     "metadata": {},
     "output_type": "execute_result"
    }
   ],
   "source": [
    "xenophobia = pd.DataFrame(\n",
    "    [\n",
    "        get_annotations(\n",
    "            annotations=item[\"annotations\"],\n",
    "            label=\"xenophobia\",\n",
    "            annotation_id_key=\"annotator_id\")\n",
    "        for item in full_data\n",
    "    ]\n",
    ")\n",
    "\n",
    "xenophobia.transpose().head()"
   ]
  },
  {
   "cell_type": "code",
   "execution_count": 88,
   "metadata": {},
   "outputs": [
    {
     "name": "stdout",
     "output_type": "stream",
     "text": [
      "CAC: <irrCAC.raw.CAC Subjects: 7943, Raters: 3, Categories: [False, True], Weights: \"identity\">\n",
      "Percent agreement: 0.9796\n",
      "Krippendorff's alpha: 0.1951\n",
      "Gwet's AC1: 0.9862\n"
     ]
    }
   ],
   "source": [
    "cac = CAC(xenophobia)\n",
    "\n",
    "print(\"CAC:\", cac)\n",
    "print(f\"Percent agreement: {percent_agreement(cac.ratings):.4f}\")\n",
    "print(f\"Krippendorff's alpha: {cac.krippendorff()['est']['coefficient_value']:.4f}\")\n",
    "print(f\"Gwet's AC1: {cac.gwet()['est']['coefficient_value']:.4f}\")"
   ]
  },
  {
   "cell_type": "markdown",
   "metadata": {},
   "source": [
    "### Krispendorff's alpha Multi-Label\n",
    "\n",
    "In the next cells, we will calculate the Krippendorff's alpha considering as a multi-label problem instead of several binary problems."
   ]
  },
  {
   "cell_type": "code",
   "execution_count": 89,
   "metadata": {},
   "outputs": [
    {
     "name": "stdout",
     "output_type": "stream",
     "text": [
      "Krippendorff's alpha using <function jaccard_distance at 0x000001EA0C304790>\n",
      "Krippendorff's alpha: 0.3984 \n",
      "\n",
      "Krippendorff's alpha using <function masi_distance at 0x000001EA0C304820>\n",
      "Krippendorff's alpha: 0.3648 \n",
      "\n",
      "Percent agreement: 0.2435\n"
     ]
    }
   ],
   "source": [
    "ratings = {\n",
    "    \"health\": health,\n",
    "    \"ideology\": ideology,\n",
    "    \"insult\": insult,\n",
    "    \"lgbtqphobia\": lgbtqphobia,\n",
    "    \"other_lifestyle\": other_lifestyle,\n",
    "    \"physical_aspects\": physical_aspects,\n",
    "    \"profanity_obscene\": profanity_obscene,\n",
    "    \"racism\": racism,\n",
    "    \"religious_intolerance\": religious_intolerance,\n",
    "    \"sexism\": sexism,\n",
    "    \"xenophobia\": xenophobia\n",
    "}\n",
    "\n",
    "task_data = []\n",
    "for annotator in health.columns.tolist():\n",
    "    for item in range(len(health)):\n",
    "        temp = get_annotations_by_rater(ratings, annotator, item)\n",
    "        if temp != []:\n",
    "            task_data.append((\n",
    "                annotator,\n",
    "                item,\n",
    "                frozenset(temp)\n",
    "            ))\n",
    "\n",
    "jaccard_task = AnnotationTask(distance=jaccard_distance)\n",
    "masi_task = AnnotationTask(distance=masi_distance)\n",
    "\n",
    "for task in [jaccard_task, masi_task]:\n",
    "    task.load_array(task_data)\n",
    "    print(f\"Krippendorff's alpha using {task.distance}\")\n",
    "    print(f\"Krippendorff's alpha: {task.alpha():.4f}\", \"\\n\")\n",
    "\n",
    "pa_mlabels = {}\n",
    "for item in range(len(health)):\n",
    "    for annotator in health.columns.tolist():\n",
    "        temp = get_annotations_by_rater(ratings, annotator, item)\n",
    "        \n",
    "        if annotator not in pa_mlabels.keys():\n",
    "            pa_mlabels[annotator] = []\n",
    "        \n",
    "        pa_mlabels[annotator].append(temp)\n",
    "\n",
    "print(f\"Percent agreement: {percent_agreement(pd.DataFrame(pa_mlabels)):.4f}\")"
   ]
  }
 ],
 "metadata": {
  "kernelspec": {
   "display_name": "Python 3.10.6 64-bit",
   "language": "python",
   "name": "python3"
  },
  "language_info": {
   "codemirror_mode": {
    "name": "ipython",
    "version": 3
   },
   "file_extension": ".py",
   "mimetype": "text/x-python",
   "name": "python",
   "nbconvert_exporter": "python",
   "pygments_lexer": "ipython3",
   "version": "3.10.7"
  },
  "orig_nbformat": 4,
  "vscode": {
   "interpreter": {
    "hash": "369f2c481f4da34e4445cda3fffd2e751bd1c4d706f27375911949ba6bb62e1c"
   }
  }
 },
 "nbformat": 4,
 "nbformat_minor": 2
}
