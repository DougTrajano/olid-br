{
 "cells": [
  {
   "cell_type": "markdown",
   "metadata": {},
   "source": [
    "# OLID-BR (Build Dataset)\n",
    "\n",
    "In this notebook, we will build the OLID-BR dataset from the processed data."
   ]
  },
  {
   "cell_type": "markdown",
   "metadata": {},
   "source": [
    "## Imports"
   ]
  },
  {
   "cell_type": "code",
   "execution_count": 1,
   "metadata": {},
   "outputs": [],
   "source": [
    "import sys\n",
    "from pathlib import Path\n",
    "\n",
    "if str(Path(\".\").absolute().parent) not in sys.path:\n",
    "    sys.path.append(str(Path(\".\").absolute().parent.parent))"
   ]
  },
  {
   "cell_type": "code",
   "execution_count": 2,
   "metadata": {},
   "outputs": [
    {
     "data": {
      "text/plain": [
       "True"
      ]
     },
     "execution_count": 2,
     "metadata": {},
     "output_type": "execute_result"
    }
   ],
   "source": [
    "from dotenv import load_dotenv\n",
    "\n",
    "# Initialize the env vars\n",
    "load_dotenv(\"../../.env\")"
   ]
  },
  {
   "cell_type": "code",
   "execution_count": 3,
   "metadata": {},
   "outputs": [],
   "source": [
    "import pandas as pd\n",
    "from pandas_profiling import ProfileReport\n",
    "from src.s3 import Bucket\n",
    "from src.settings import AppSettings"
   ]
  },
  {
   "cell_type": "code",
   "execution_count": 4,
   "metadata": {},
   "outputs": [],
   "source": [
    "args = AppSettings()\n",
    "\n",
    "version = \"v0.3-alpha\"\n",
    "\n",
    "bucket = Bucket(args.AWS_S3_BUCKET)\n",
    "\n",
    "bucket.get_session_from_aksk(\n",
    "    args.AWS_ACCESS_KEY_ID,\n",
    "    args.AWS_SECRET_ACCESS_KEY)"
   ]
  },
  {
   "cell_type": "markdown",
   "metadata": {},
   "source": [
    "## Load data\n",
    "\n",
    "In the next cells, we will load all processed data."
   ]
  },
  {
   "cell_type": "code",
   "execution_count": 5,
   "metadata": {},
   "outputs": [],
   "source": [
    "iterations = [\n",
    "    {\n",
    "        \"data\": \"processed/olid-br/iterations/1/olidbr.json\",\n",
    "        \"metadata\": \"processed/olid-br/iterations/1/metadata.json\"\n",
    "    },\n",
    "    {\n",
    "        \"data\": \"processed/olid-br/iterations/2/olidbr.json\",\n",
    "        \"metadata\": \"processed/olid-br/iterations/2/metadata.json\"\n",
    "    },\n",
    "    {\n",
    "        \"data\": \"processed/olid-br/iterations/3/olidbr.json\",\n",
    "        \"metadata\": \"processed/olid-br/iterations/3/metadata.json\"\n",
    "    }\n",
    "]"
   ]
  },
  {
   "cell_type": "code",
   "execution_count": 6,
   "metadata": {},
   "outputs": [
    {
     "name": "stdout",
     "output_type": "stream",
     "text": [
      "Loading processed/olid-br/iterations/1/olidbr.json\n",
      "Data iteration size: 706\n",
      "Metadata iteration size: 1520\n",
      "Loading processed/olid-br/iterations/2/olidbr.json\n",
      "Data iteration size: 2996\n",
      "Metadata iteration size: 12000\n",
      "Loading processed/olid-br/iterations/3/olidbr.json\n",
      "Data iteration size: 974\n",
      "Metadata iteration size: 3896\n",
      "Data: 4676\n",
      "Metadata: 17416\n"
     ]
    }
   ],
   "source": [
    "data = []\n",
    "metadata = []\n",
    "\n",
    "for iteration in iterations:\n",
    "    print(f\"Loading {iteration['data']}\")\n",
    "\n",
    "    iteration_data = bucket.download_json(key=iteration[\"data\"])\n",
    "    iteration_metadata = bucket.download_json(key=iteration[\"metadata\"])\n",
    "\n",
    "    print(f\"Data iteration size: {len(iteration_data)}\")\n",
    "    print(f\"Metadata iteration size: {len(iteration_metadata)}\")\n",
    "\n",
    "    data.extend(iteration_data)\n",
    "    metadata.extend(iteration_metadata)\n",
    "\n",
    "print(f\"Data: {len(data)}\")\n",
    "print(f\"Metadata: {len(metadata)}\")"
   ]
  },
  {
   "cell_type": "markdown",
   "metadata": {},
   "source": [
    "### Profiling Report"
   ]
  },
  {
   "cell_type": "code",
   "execution_count": 7,
   "metadata": {},
   "outputs": [
    {
     "data": {
      "application/vnd.jupyter.widget-view+json": {
       "model_id": "4e7376d392d549a4b0b5e89c2bbe62bc",
       "version_major": 2,
       "version_minor": 0
      },
      "text/plain": [
       "Summarize dataset:   0%|          | 0/5 [00:00<?, ?it/s]"
      ]
     },
     "metadata": {},
     "output_type": "display_data"
    },
    {
     "data": {
      "application/vnd.jupyter.widget-view+json": {
       "model_id": "a8626edeae4e4ae8b08fd31e84ef9883",
       "version_major": 2,
       "version_minor": 0
      },
      "text/plain": [
       "Generate report structure:   0%|          | 0/1 [00:00<?, ?it/s]"
      ]
     },
     "metadata": {},
     "output_type": "display_data"
    },
    {
     "data": {
      "application/vnd.jupyter.widget-view+json": {
       "model_id": "164ae9ffed054f3792ebf53e110a0b7a",
       "version_major": 2,
       "version_minor": 0
      },
      "text/plain": [
       "Render HTML:   0%|          | 0/1 [00:00<?, ?it/s]"
      ]
     },
     "metadata": {},
     "output_type": "display_data"
    },
    {
     "data": {
      "application/vnd.jupyter.widget-view+json": {
       "model_id": "79be52025e7c444f8e88aae9d470ff15",
       "version_major": 2,
       "version_minor": 0
      },
      "text/plain": [
       "Export report to file:   0%|          | 0/1 [00:00<?, ?it/s]"
      ]
     },
     "metadata": {},
     "output_type": "display_data"
    }
   ],
   "source": [
    "profile = ProfileReport(\n",
    "    pd.DataFrame(data),\n",
    "    title=f\"OLID-BR {version}\",\n",
    "    explorative=True)\n",
    "\n",
    "profile.to_file(f\"../../docs/reports/olidbr_{version}.html\")"
   ]
  },
  {
   "cell_type": "markdown",
   "metadata": {},
   "source": [
    "### Upload data to S3"
   ]
  },
  {
   "cell_type": "markdown",
   "metadata": {},
   "source": [
    "Saving in CSV format."
   ]
  },
  {
   "cell_type": "code",
   "execution_count": 8,
   "metadata": {},
   "outputs": [
    {
     "name": "stdout",
     "output_type": "stream",
     "text": [
      "CSV Files uploaded.\n"
     ]
    }
   ],
   "source": [
    "bucket.upload_csv(\n",
    "    data=pd.DataFrame(data),\n",
    "    key=f\"processed/olid-br/{version}/olidbr.csv\")\n",
    "\n",
    "bucket.upload_csv(\n",
    "    data=pd.DataFrame(metadata),\n",
    "    key=f\"processed/olid-br/{version}/metadata.csv\")\n",
    "\n",
    "print(\"CSV Files uploaded.\")"
   ]
  },
  {
   "cell_type": "markdown",
   "metadata": {},
   "source": [
    "Saving in JSON format."
   ]
  },
  {
   "cell_type": "code",
   "execution_count": 9,
   "metadata": {},
   "outputs": [
    {
     "name": "stdout",
     "output_type": "stream",
     "text": [
      "JSON Files uploaded.\n"
     ]
    }
   ],
   "source": [
    "bucket.upload_json(\n",
    "    data=data,\n",
    "    key=f\"processed/olid-br/{version}/olidbr.json\")\n",
    "\n",
    "bucket.upload_json(\n",
    "    data=metadata,\n",
    "    key=f\"processed/olid-br/{version}/metadata.json\")\n",
    "\n",
    "print(\"JSON Files uploaded.\")"
   ]
  }
 ],
 "metadata": {
  "interpreter": {
   "hash": "ad2bdc8ecc057115af97d19610ffacc2b4e99fae6737bb82f5d7fb13d2f2c186"
  },
  "kernelspec": {
   "display_name": "Python 3.9.12 ('base')",
   "language": "python",
   "name": "python3"
  },
  "language_info": {
   "codemirror_mode": {
    "name": "ipython",
    "version": 3
   },
   "file_extension": ".py",
   "mimetype": "text/x-python",
   "name": "python",
   "nbconvert_exporter": "python",
   "pygments_lexer": "ipython3",
   "version": "3.9.12"
  },
  "orig_nbformat": 4
 },
 "nbformat": 4,
 "nbformat_minor": 2
}
