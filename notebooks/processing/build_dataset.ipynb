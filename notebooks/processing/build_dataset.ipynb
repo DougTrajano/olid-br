{
 "cells": [
  {
   "cell_type": "markdown",
   "metadata": {},
   "source": [
    "# OLID-BR (Build Dataset)\n",
    "\n",
    "In this notebook, we will build the OLID-BR dataset from the processed data."
   ]
  },
  {
   "cell_type": "markdown",
   "metadata": {},
   "source": [
    "## Imports"
   ]
  },
  {
   "cell_type": "code",
   "execution_count": 1,
   "metadata": {},
   "outputs": [],
   "source": [
    "import sys\n",
    "from pathlib import Path\n",
    "\n",
    "if str(Path(\".\").absolute().parent) not in sys.path:\n",
    "    sys.path.append(str(Path(\".\").absolute().parent.parent))"
   ]
  },
  {
   "cell_type": "code",
   "execution_count": 2,
   "metadata": {},
   "outputs": [
    {
     "data": {
      "text/plain": [
       "True"
      ]
     },
     "execution_count": 2,
     "metadata": {},
     "output_type": "execute_result"
    }
   ],
   "source": [
    "from dotenv import load_dotenv\n",
    "\n",
    "# Initialize the env vars\n",
    "load_dotenv(\"../../.env\")"
   ]
  },
  {
   "cell_type": "code",
   "execution_count": 3,
   "metadata": {},
   "outputs": [],
   "source": [
    "import pandas as pd\n",
    "from pandas_profiling import ProfileReport\n",
    "from src.s3 import Bucket\n",
    "from src.settings import AppSettings"
   ]
  },
  {
   "cell_type": "code",
   "execution_count": 4,
   "metadata": {},
   "outputs": [],
   "source": [
    "args = AppSettings()\n",
    "\n",
    "version = \"v0.4-alpha\"\n",
    "\n",
    "bucket = Bucket(args.AWS_S3_BUCKET)\n",
    "\n",
    "bucket.get_session_from_aksk(\n",
    "    args.AWS_ACCESS_KEY_ID,\n",
    "    args.AWS_SECRET_ACCESS_KEY)"
   ]
  },
  {
   "cell_type": "markdown",
   "metadata": {},
   "source": [
    "## Load data\n",
    "\n",
    "In the next cells, we will load all processed data."
   ]
  },
  {
   "cell_type": "code",
   "execution_count": 5,
   "metadata": {},
   "outputs": [],
   "source": [
    "iterations = [\n",
    "    {\n",
    "        \"data\": \"processed/olid-br/iterations/1/olidbr.json\",\n",
    "        \"metadata\": \"processed/olid-br/iterations/1/metadata.json\"\n",
    "    },\n",
    "    {\n",
    "        \"data\": \"processed/olid-br/iterations/2/olidbr.json\",\n",
    "        \"metadata\": \"processed/olid-br/iterations/2/metadata.json\",\n",
    "        \"full_data\": \"processed/olid-br/iterations/2/full_olidbr.json\"\n",
    "    },\n",
    "    {\n",
    "        \"data\": \"processed/olid-br/iterations/3/olidbr.json\",\n",
    "        \"metadata\": \"processed/olid-br/iterations/3/metadata.json\",\n",
    "        \"full_data\": \"processed/olid-br/iterations/3/full_olidbr.json\"\n",
    "    },\n",
    "    {\n",
    "        \"data\": \"processed/olid-br/iterations/4/olidbr.json\",\n",
    "        \"metadata\": \"processed/olid-br/iterations/4/metadata.json\",\n",
    "        \"full_data\": \"processed/olid-br/iterations/4/full_olidbr.json\"\n",
    "    }\n",
    "]"
   ]
  },
  {
   "cell_type": "code",
   "execution_count": 6,
   "metadata": {},
   "outputs": [
    {
     "name": "stdout",
     "output_type": "stream",
     "text": [
      "Loading processed/olid-br/iterations/1/olidbr.json\n",
      "Data iteration size: 706\n",
      "Metadata iteration size: 1520\n",
      "Loading processed/olid-br/iterations/2/olidbr.json\n",
      "Data iteration size: 2996\n",
      "Metadata iteration size: 11984\n",
      "Full data iteration size: 2996\n",
      "Loading processed/olid-br/iterations/3/olidbr.json\n",
      "Data iteration size: 2987\n",
      "Metadata iteration size: 11948\n",
      "Full data iteration size: 2987\n",
      "Loading processed/olid-br/iterations/4/olidbr.json\n",
      "Data iteration size: 1851\n",
      "Metadata iteration size: 7404\n",
      "Full data iteration size: 1851\n",
      "Data: 8540\n",
      "Metadata: 32856\n",
      "Full data: 7834\n"
     ]
    }
   ],
   "source": [
    "data = []\n",
    "metadata = []\n",
    "full_data = []\n",
    "\n",
    "for iteration in iterations:\n",
    "    print(f\"Loading {iteration['data']}\")\n",
    "\n",
    "    iteration_data = bucket.download_json(key=iteration[\"data\"])\n",
    "    iteration_metadata = bucket.download_json(key=iteration[\"metadata\"])\n",
    "\n",
    "    data.extend(iteration_data)\n",
    "    metadata.extend(iteration_metadata)\n",
    "    \n",
    "    print(f\"Data iteration size: {len(iteration_data)}\")\n",
    "    print(f\"Metadata iteration size: {len(iteration_metadata)}\")\n",
    "\n",
    "    if iteration.get(\"full_data\"):\n",
    "        iteration_full_data = bucket.download_json(key=iteration[\"full_data\"])\n",
    "        full_data.extend(iteration_full_data)\n",
    "        print(f\"Full data iteration size: {len(iteration_full_data)}\")\n",
    "\n",
    "print(f\"Data: {len(data)}\")\n",
    "print(f\"Metadata: {len(metadata)}\")\n",
    "print(f\"Full data: {len(full_data)}\")"
   ]
  },
  {
   "cell_type": "markdown",
   "metadata": {},
   "source": [
    "## Remove duplicated entries"
   ]
  },
  {
   "cell_type": "code",
   "execution_count": 7,
   "metadata": {},
   "outputs": [
    {
     "name": "stdout",
     "output_type": "stream",
     "text": [
      "Duplicated text: 37\n",
      "(8503, 17)\n"
     ]
    }
   ],
   "source": [
    "df = pd.DataFrame(data)\n",
    "print(f\"Duplicated text: {df['text'].duplicated().sum()}\")\n",
    "\n",
    "df.drop_duplicates(subset=\"text\", inplace=True)\n",
    "print(df.shape)\n",
    "\n",
    "data = df.to_dict(\"records\")"
   ]
  },
  {
   "cell_type": "code",
   "execution_count": 8,
   "metadata": {},
   "outputs": [
    {
     "name": "stdout",
     "output_type": "stream",
     "text": [
      "Full data: 7834\n"
     ]
    }
   ],
   "source": [
    "# Remove duplicated texts from full data\n",
    "full_data = [i for i in full_data if i[\"text\"] in df[\"text\"].values]\n",
    "\n",
    "print(f\"Full data: {len(full_data)}\")"
   ]
  },
  {
   "cell_type": "code",
   "execution_count": 9,
   "metadata": {},
   "outputs": [
    {
     "name": "stdout",
     "output_type": "stream",
     "text": [
      "Count metadata (before): 32856\n",
      "Count metadata (after): 32657\n"
     ]
    }
   ],
   "source": [
    "# Remove duplicated texts from metadata\n",
    "print(f\"Count metadata (before): {len(metadata)}\")\n",
    "metadata = [i for i in metadata if i[\"id\"] in df[\"id\"].values]\n",
    "print(f\"Count metadata (after): {len(metadata)}\")"
   ]
  },
  {
   "cell_type": "markdown",
   "metadata": {},
   "source": [
    "### Profiling Report"
   ]
  },
  {
   "cell_type": "code",
   "execution_count": 10,
   "metadata": {},
   "outputs": [
    {
     "data": {
      "application/vnd.jupyter.widget-view+json": {
       "model_id": "348837c3e45c4d6e950c63fa948f943f",
       "version_major": 2,
       "version_minor": 0
      },
      "text/plain": [
       "Summarize dataset:   0%|          | 0/5 [00:00<?, ?it/s]"
      ]
     },
     "metadata": {},
     "output_type": "display_data"
    },
    {
     "data": {
      "application/vnd.jupyter.widget-view+json": {
       "model_id": "7774d9772b79499f95ffd111baccb268",
       "version_major": 2,
       "version_minor": 0
      },
      "text/plain": [
       "Generate report structure:   0%|          | 0/1 [00:00<?, ?it/s]"
      ]
     },
     "metadata": {},
     "output_type": "display_data"
    },
    {
     "data": {
      "application/vnd.jupyter.widget-view+json": {
       "model_id": "77c9692b6d7142798d66794f5e6f4476",
       "version_major": 2,
       "version_minor": 0
      },
      "text/plain": [
       "Render HTML:   0%|          | 0/1 [00:00<?, ?it/s]"
      ]
     },
     "metadata": {},
     "output_type": "display_data"
    },
    {
     "data": {
      "application/vnd.jupyter.widget-view+json": {
       "model_id": "3bd6a4891235448c8a5bf0074b867b30",
       "version_major": 2,
       "version_minor": 0
      },
      "text/plain": [
       "Export report to file:   0%|          | 0/1 [00:00<?, ?it/s]"
      ]
     },
     "metadata": {},
     "output_type": "display_data"
    }
   ],
   "source": [
    "profile = ProfileReport(\n",
    "    pd.DataFrame(data),\n",
    "    title=f\"OLID-BR {version}\",\n",
    "    explorative=True)\n",
    "\n",
    "profile.to_file(f\"../../docs/reports/olidbr_{version}.html\")"
   ]
  },
  {
   "cell_type": "markdown",
   "metadata": {},
   "source": [
    "### Upload data to S3"
   ]
  },
  {
   "cell_type": "markdown",
   "metadata": {},
   "source": [
    "Saving in CSV format."
   ]
  },
  {
   "cell_type": "code",
   "execution_count": 11,
   "metadata": {},
   "outputs": [
    {
     "name": "stdout",
     "output_type": "stream",
     "text": [
      "CSV Files uploaded.\n"
     ]
    }
   ],
   "source": [
    "bucket.upload_csv(\n",
    "    data=pd.DataFrame(data),\n",
    "    key=f\"processed/olid-br/{version}/olidbr.csv\")\n",
    "\n",
    "bucket.upload_csv(\n",
    "    data=pd.DataFrame(metadata),\n",
    "    key=f\"processed/olid-br/{version}/metadata.csv\")\n",
    "\n",
    "print(\"CSV Files uploaded.\")"
   ]
  },
  {
   "cell_type": "markdown",
   "metadata": {},
   "source": [
    "Saving in JSON format."
   ]
  },
  {
   "cell_type": "code",
   "execution_count": 12,
   "metadata": {},
   "outputs": [
    {
     "name": "stdout",
     "output_type": "stream",
     "text": [
      "JSON Files uploaded.\n"
     ]
    }
   ],
   "source": [
    "bucket.upload_json(\n",
    "    data=data,\n",
    "    key=f\"processed/olid-br/{version}/olidbr.json\")\n",
    "\n",
    "bucket.upload_json(\n",
    "    data=metadata,\n",
    "    key=f\"processed/olid-br/{version}/metadata.json\")\n",
    "\n",
    "bucket.upload_json(\n",
    "    data=full_data,\n",
    "    key=f\"processed/olid-br/{version}/full_olidbr.json\")\n",
    "\n",
    "print(\"JSON Files uploaded.\")"
   ]
  }
 ],
 "metadata": {
  "kernelspec": {
   "display_name": "Python 3.10.6 64-bit",
   "language": "python",
   "name": "python3"
  },
  "language_info": {
   "codemirror_mode": {
    "name": "ipython",
    "version": 3
   },
   "file_extension": ".py",
   "mimetype": "text/x-python",
   "name": "python",
   "nbconvert_exporter": "python",
   "pygments_lexer": "ipython3",
   "version": "3.10.6"
  },
  "orig_nbformat": 4,
  "vscode": {
   "interpreter": {
    "hash": "369f2c481f4da34e4445cda3fffd2e751bd1c4d706f27375911949ba6bb62e1c"
   }
  }
 },
 "nbformat": 4,
 "nbformat_minor": 2
}
