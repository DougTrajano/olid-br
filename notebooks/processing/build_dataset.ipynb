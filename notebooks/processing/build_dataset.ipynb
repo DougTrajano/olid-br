{
 "cells": [
  {
   "cell_type": "markdown",
   "metadata": {},
   "source": [
    "# OLID-BR (Build Dataset)"
   ]
  },
  {
   "cell_type": "markdown",
   "metadata": {},
   "source": [
    "## Imports"
   ]
  },
  {
   "cell_type": "code",
   "execution_count": 3,
   "metadata": {},
   "outputs": [],
   "source": [
    "import sys\n",
    "from pathlib import Path\n",
    "\n",
    "if str(Path(\".\").absolute().parent) not in sys.path:\n",
    "    sys.path.append(str(Path(\".\").absolute().parent.parent))"
   ]
  },
  {
   "cell_type": "code",
   "execution_count": 4,
   "metadata": {},
   "outputs": [],
   "source": [
    "from dotenv import load_dotenv\n",
    "\n",
    "# Initialize the env vars\n",
    "load_dotenv(\"../../.env\")\n",
    "\n",
    "import uuid\n",
    "import pandas as pd\n",
    "from src.utils import read_json\n",
    "from src.settings import AppSettings\n",
    "from src.s3 import Uploader\n",
    "from src.data_models import Annotator, ProcessedText, Metadata\n",
    "from src.annotations import (\n",
    "    get_is_offensive,\n",
    "    get_is_targeted,\n",
    "    get_targeted_type,\n",
    "    get_offensive_type,\n",
    "    get_toxic_spans\n",
    ")\n",
    "\n",
    "args = AppSettings()\n",
    "\n",
    "args.AWS_S3_BUCKET_PREFIX = \"processed/pilot\""
   ]
  },
  {
   "cell_type": "markdown",
   "metadata": {},
   "source": [
    "## Load data"
   ]
  },
  {
   "cell_type": "code",
   "execution_count": 3,
   "metadata": {},
   "outputs": [
    {
     "name": "stdout",
     "output_type": "stream",
     "text": [
      "Count: 731\n"
     ]
    }
   ],
   "source": [
    "data = read_json(\"olid-br_pilot.json\")\n",
    "\n",
    "print(f\"Count: {len(data)}\")"
   ]
  },
  {
   "cell_type": "code",
   "execution_count": 4,
   "metadata": {},
   "outputs": [],
   "source": [
    "def preprocessing_text(text: str):\n",
    "    \"\"\"\n",
    "    Preprocess the text.\n",
    "    \"\"\"\n",
    "    # Remove new lines\n",
    "    text = text.replace(\"\\n\", \" \")\n",
    "    \n",
    "    # Remove multiple spaces\n",
    "    text = \" \".join(text.split())\n",
    "\n",
    "    return text.strip()"
   ]
  },
  {
   "cell_type": "code",
   "execution_count": 5,
   "metadata": {},
   "outputs": [
    {
     "name": "stdout",
     "output_type": "stream",
     "text": [
      "Texts Count: 731\n",
      "Metadata Count: 1520\n"
     ]
    }
   ],
   "source": [
    "texts = []\n",
    "metadata = []\n",
    "\n",
    "for item in data:\n",
    "    text = ProcessedText(\n",
    "        id=uuid.uuid4().hex,\n",
    "        text=preprocessing_text(item[\"data\"][\"text\"]),\n",
    "        is_offensive=get_is_offensive(item[\"annotations\"]),\n",
    "        is_targeted=get_is_targeted(item[\"annotations\"]),\n",
    "        targeted_type=get_targeted_type(item[\"annotations\"]),\n",
    "        toxic_spans=get_toxic_spans(item[\"annotations\"]),\n",
    "        health=get_offensive_type(item[\"annotations\"], \"Health\"),\n",
    "        ideology=get_offensive_type(item[\"annotations\"], \"Ideology\"),\n",
    "        insult=get_offensive_type(item[\"annotations\"], \"Insult\"),\n",
    "        lgbtqphobia=get_offensive_type(item[\"annotations\"], \"Identity Attack\"),\n",
    "        other_lifestyle=get_offensive_type(item[\"annotations\"], \"Other-Lifestyle\"),\n",
    "        physical_aspects=get_offensive_type(item[\"annotations\"], \"Body\"),\n",
    "        profanity_obscene=get_offensive_type(item[\"annotations\"], \"Profanity\"),\n",
    "        racism=get_offensive_type(item[\"annotations\"], \"Racism\"),\n",
    "        religious_intolerance=get_offensive_type(item[\"annotations\"], \"Religious intolerance\"),\n",
    "        sexism=get_offensive_type(item[\"annotations\"], \"Sexism\"),\n",
    "        xenophobia=get_offensive_type(item[\"annotations\"], \"Xenophobia\")\n",
    "    )\n",
    "\n",
    "    # Metadata\n",
    "    metadata.append(Metadata(\n",
    "        id=text.id,\n",
    "        source=item[\"data\"][\"meta_info\"][\"source\"],\n",
    "        created_at=item[\"data\"][\"meta_info\"][\"created_at\"],\n",
    "        collected_at=item[\"data\"][\"meta_info\"][\"collected_at\"],\n",
    "        toxicity_score=item[\"data\"][\"meta_info\"][\"toxicity_score\"],\n",
    "        category=item[\"data\"][\"meta_info\"].get(\"category\")\n",
    "    )\n",
    "    )\n",
    "\n",
    "    # Annotators\n",
    "    for annotator in item[\"annotations\"]:\n",
    "        if annotator[\"completed_by\"] == 1:\n",
    "            metadata.append(Annotator(\n",
    "                id=text.id,\n",
    "                annotator_id=annotator[\"completed_by\"],\n",
    "                gender=\"Male\",\n",
    "                age=28,\n",
    "                education_level=\"Bachelor's Degree\",\n",
    "                annotator_type=\"Researcher\"\n",
    "            ))\n",
    "        elif annotator[\"completed_by\"] == 32:\n",
    "            metadata.append(Annotator(\n",
    "                id=text.id,\n",
    "                annotator_id=annotator[\"completed_by\"],\n",
    "                gender=\"Female\",\n",
    "                age=30,\n",
    "                education_level=\"Bachelor's Degree\",\n",
    "                annotator_type=\"Volunteer\"\n",
    "            ))\n",
    "        else:\n",
    "            raise ValueError(\"Invalid annotator ID.\", item)\n",
    "\n",
    "    texts.append(text)\n",
    "\n",
    "texts = [text.dict() for text in texts]\n",
    "\n",
    "lst = []\n",
    "for meta in metadata:\n",
    "    meta = meta.dict()\n",
    "    if \"created_at\" in meta.keys():\n",
    "        meta[\"created_at\"] = meta[\"created_at\"].isoformat()\n",
    "    if \"collected_at\" in meta.keys():\n",
    "        meta[\"collected_at\"] = meta[\"collected_at\"].isoformat()\n",
    "    lst.append(meta)\n",
    "\n",
    "metadata = lst.copy()\n",
    "del lst\n",
    "\n",
    "print(f\"Texts Count: {len(texts)}\")\n",
    "print(f\"Metadata Count: {len(metadata)}\")\n"
   ]
  },
  {
   "cell_type": "markdown",
   "metadata": {},
   "source": [
    "## Validate data\n",
    "\n",
    "In the next cells, we will apply some validations to the data."
   ]
  },
  {
   "cell_type": "code",
   "execution_count": 8,
   "metadata": {},
   "outputs": [
    {
     "name": "stdout",
     "output_type": "stream",
     "text": [
      "Shape: (711, 17)\n"
     ]
    },
    {
     "data": {
      "text/html": [
       "<div>\n",
       "<style scoped>\n",
       "    .dataframe tbody tr th:only-of-type {\n",
       "        vertical-align: middle;\n",
       "    }\n",
       "\n",
       "    .dataframe tbody tr th {\n",
       "        vertical-align: top;\n",
       "    }\n",
       "\n",
       "    .dataframe thead th {\n",
       "        text-align: right;\n",
       "    }\n",
       "</style>\n",
       "<table border=\"1\" class=\"dataframe\">\n",
       "  <thead>\n",
       "    <tr style=\"text-align: right;\">\n",
       "      <th></th>\n",
       "      <th>id</th>\n",
       "      <th>text</th>\n",
       "      <th>is_offensive</th>\n",
       "      <th>is_targeted</th>\n",
       "      <th>targeted_type</th>\n",
       "      <th>toxic_spans</th>\n",
       "      <th>health</th>\n",
       "      <th>ideology</th>\n",
       "      <th>insult</th>\n",
       "      <th>lgbtqphobia</th>\n",
       "      <th>other_lifestyle</th>\n",
       "      <th>physical_aspects</th>\n",
       "      <th>profanity_obscene</th>\n",
       "      <th>racism</th>\n",
       "      <th>religious_intolerance</th>\n",
       "      <th>sexism</th>\n",
       "      <th>xenophobia</th>\n",
       "    </tr>\n",
       "  </thead>\n",
       "  <tbody>\n",
       "    <tr>\n",
       "      <th>0</th>\n",
       "      <td>6391e3dbb12848ac8ef6131edf2d69f9</td>\n",
       "      <td>USER Canalha URL</td>\n",
       "      <td>OFF</td>\n",
       "      <td>TIN</td>\n",
       "      <td>IND</td>\n",
       "      <td>[5, 6, 7, 8, 9, 10, 11, 12]</td>\n",
       "      <td>False</td>\n",
       "      <td>False</td>\n",
       "      <td>True</td>\n",
       "      <td>False</td>\n",
       "      <td>False</td>\n",
       "      <td>False</td>\n",
       "      <td>False</td>\n",
       "      <td>False</td>\n",
       "      <td>False</td>\n",
       "      <td>False</td>\n",
       "      <td>False</td>\n",
       "    </tr>\n",
       "    <tr>\n",
       "      <th>1</th>\n",
       "      <td>5a21508c2afc4c3295137451baf8b981</td>\n",
       "      <td>USER VTNSC FDP</td>\n",
       "      <td>OFF</td>\n",
       "      <td>TIN</td>\n",
       "      <td>IND</td>\n",
       "      <td>[5, 6, 7, 8, 9, 10, 11, 12, 13]</td>\n",
       "      <td>False</td>\n",
       "      <td>False</td>\n",
       "      <td>True</td>\n",
       "      <td>False</td>\n",
       "      <td>False</td>\n",
       "      <td>False</td>\n",
       "      <td>True</td>\n",
       "      <td>False</td>\n",
       "      <td>False</td>\n",
       "      <td>False</td>\n",
       "      <td>False</td>\n",
       "    </tr>\n",
       "    <tr>\n",
       "      <th>2</th>\n",
       "      <td>060b0390f99041cd8cd38ca5a2b66907</td>\n",
       "      <td>USER O partido do Kim votou à favor do fundão....</td>\n",
       "      <td>OFF</td>\n",
       "      <td>TIN</td>\n",
       "      <td>IND</td>\n",
       "      <td>NaN</td>\n",
       "      <td>False</td>\n",
       "      <td>False</td>\n",
       "      <td>True</td>\n",
       "      <td>False</td>\n",
       "      <td>False</td>\n",
       "      <td>False</td>\n",
       "      <td>False</td>\n",
       "      <td>False</td>\n",
       "      <td>False</td>\n",
       "      <td>False</td>\n",
       "      <td>False</td>\n",
       "    </tr>\n",
       "    <tr>\n",
       "      <th>3</th>\n",
       "      <td>3264fc0b06974c2daf423a9e5998d003</td>\n",
       "      <td>USER Grande homem. Em um país de covardes. Ete...</td>\n",
       "      <td>OFF</td>\n",
       "      <td>TIN</td>\n",
       "      <td>GRP</td>\n",
       "      <td>[34, 35, 36, 37, 38, 39, 40, 41]</td>\n",
       "      <td>False</td>\n",
       "      <td>False</td>\n",
       "      <td>True</td>\n",
       "      <td>False</td>\n",
       "      <td>False</td>\n",
       "      <td>False</td>\n",
       "      <td>False</td>\n",
       "      <td>False</td>\n",
       "      <td>False</td>\n",
       "      <td>False</td>\n",
       "      <td>False</td>\n",
       "    </tr>\n",
       "    <tr>\n",
       "      <th>4</th>\n",
       "      <td>002bced1b7444833bbe5e054c5aa6512</td>\n",
       "      <td>USER USER QAnon Brasil é um bicho estranho. Ob...</td>\n",
       "      <td>OFF</td>\n",
       "      <td>TIN</td>\n",
       "      <td>IND</td>\n",
       "      <td>[28, 29, 30, 31, 32, 33, 34, 35, 36, 37, 38, 3...</td>\n",
       "      <td>False</td>\n",
       "      <td>False</td>\n",
       "      <td>True</td>\n",
       "      <td>False</td>\n",
       "      <td>False</td>\n",
       "      <td>False</td>\n",
       "      <td>True</td>\n",
       "      <td>False</td>\n",
       "      <td>False</td>\n",
       "      <td>False</td>\n",
       "      <td>False</td>\n",
       "    </tr>\n",
       "  </tbody>\n",
       "</table>\n",
       "</div>"
      ],
      "text/plain": [
       "                                 id  \\\n",
       "0  6391e3dbb12848ac8ef6131edf2d69f9   \n",
       "1  5a21508c2afc4c3295137451baf8b981   \n",
       "2  060b0390f99041cd8cd38ca5a2b66907   \n",
       "3  3264fc0b06974c2daf423a9e5998d003   \n",
       "4  002bced1b7444833bbe5e054c5aa6512   \n",
       "\n",
       "                                                text is_offensive is_targeted  \\\n",
       "0                                   USER Canalha URL          OFF         TIN   \n",
       "1                                     USER VTNSC FDP          OFF         TIN   \n",
       "2  USER O partido do Kim votou à favor do fundão....          OFF         TIN   \n",
       "3  USER Grande homem. Em um país de covardes. Ete...          OFF         TIN   \n",
       "4  USER USER QAnon Brasil é um bicho estranho. Ob...          OFF         TIN   \n",
       "\n",
       "  targeted_type                                        toxic_spans  health  \\\n",
       "0           IND                        [5, 6, 7, 8, 9, 10, 11, 12]   False   \n",
       "1           IND                    [5, 6, 7, 8, 9, 10, 11, 12, 13]   False   \n",
       "2           IND                                                NaN   False   \n",
       "3           GRP                   [34, 35, 36, 37, 38, 39, 40, 41]   False   \n",
       "4           IND  [28, 29, 30, 31, 32, 33, 34, 35, 36, 37, 38, 3...   False   \n",
       "\n",
       "   ideology  insult  lgbtqphobia  other_lifestyle  physical_aspects  \\\n",
       "0     False    True        False            False             False   \n",
       "1     False    True        False            False             False   \n",
       "2     False    True        False            False             False   \n",
       "3     False    True        False            False             False   \n",
       "4     False    True        False            False             False   \n",
       "\n",
       "   profanity_obscene  racism  religious_intolerance  sexism  xenophobia  \n",
       "0              False   False                  False   False       False  \n",
       "1               True   False                  False   False       False  \n",
       "2              False   False                  False   False       False  \n",
       "3              False   False                  False   False       False  \n",
       "4               True   False                  False   False       False  "
      ]
     },
     "execution_count": 8,
     "metadata": {},
     "output_type": "execute_result"
    }
   ],
   "source": [
    "df = pd.DataFrame(texts)\n",
    "\n",
    "df.drop_duplicates(subset=[\"text\"], inplace=True)\n",
    "\n",
    "print(f\"Shape: {df.shape}\")\n",
    "df.head()"
   ]
  },
  {
   "cell_type": "code",
   "execution_count": 9,
   "metadata": {},
   "outputs": [
    {
     "name": "stdout",
     "output_type": "stream",
     "text": [
      "Texts Count: 711\n"
     ]
    }
   ],
   "source": [
    "texts = df.to_dict(\"records\")\n",
    "print(f\"Texts Count: {len(texts)}\")"
   ]
  },
  {
   "cell_type": "code",
   "execution_count": 10,
   "metadata": {},
   "outputs": [
    {
     "name": "stdout",
     "output_type": "stream",
     "text": [
      "Texts Count: 706\n"
     ]
    }
   ],
   "source": [
    "def check_words(text: str, words: list):\n",
    "    \"\"\"\n",
    "    Check if the text contains all the words.\n",
    "    \"\"\"\n",
    "    for word in words:\n",
    "        if word not in text:\n",
    "            return False\n",
    "    return True\n",
    "\n",
    "texts = [i for i in texts if not check_words(i[\"text\"], [\"USER\", \"HASHTAG\", \"URL\"])]\n",
    "\n",
    "print(f\"Texts Count: {len(texts)}\")"
   ]
  },
  {
   "cell_type": "markdown",
   "metadata": {},
   "source": [
    "## Upload to S3"
   ]
  },
  {
   "cell_type": "code",
   "execution_count": 11,
   "metadata": {},
   "outputs": [
    {
     "data": {
      "text/plain": [
       "{'ResponseMetadata': {'RequestId': '2WN3Y4QTQ1QW37M1',\n",
       "  'HostId': 'YYwdJTNRk9gPkDOwzrQsaCkumf1fWHSu8hUB6yMtuu1yVJyrLxkzYdyi3koLOHknOPq+d5/CAG0=',\n",
       "  'HTTPStatusCode': 200,\n",
       "  'HTTPHeaders': {'x-amz-id-2': 'YYwdJTNRk9gPkDOwzrQsaCkumf1fWHSu8hUB6yMtuu1yVJyrLxkzYdyi3koLOHknOPq+d5/CAG0=',\n",
       "   'x-amz-request-id': '2WN3Y4QTQ1QW37M1',\n",
       "   'date': 'Fri, 04 Feb 2022 03:01:01 GMT',\n",
       "   'x-amz-version-id': 'rgjB7ewBDPakKt8YwkfnUzdAiobpIsa6',\n",
       "   'x-amz-server-side-encryption': 'AES256',\n",
       "   'etag': '\"ffa1ae4f738ce8f7983d93f61c7046ac\"',\n",
       "   'server': 'AmazonS3',\n",
       "   'content-length': '0'},\n",
       "  'RetryAttempts': 0},\n",
       " 'ETag': '\"ffa1ae4f738ce8f7983d93f61c7046ac\"',\n",
       " 'ServerSideEncryption': 'AES256',\n",
       " 'VersionId': 'rgjB7ewBDPakKt8YwkfnUzdAiobpIsa6'}"
      ]
     },
     "execution_count": 11,
     "metadata": {},
     "output_type": "execute_result"
    }
   ],
   "source": [
    "uploader = Uploader(bucket=args.AWS_S3_BUCKET,\n",
    "                    bucket_prefix=args.AWS_S3_BUCKET_PREFIX)\n",
    "\n",
    "uploader.upload_aksk(access_key=args.AWS_ACCESS_KEY_ID,\n",
    "                     secret_key=args.AWS_SECRET_ACCESS_KEY,\n",
    "                     key=\"olidbr.json\", data=texts)"
   ]
  },
  {
   "cell_type": "code",
   "execution_count": 9,
   "metadata": {},
   "outputs": [
    {
     "data": {
      "text/plain": [
       "{'ResponseMetadata': {'RequestId': '7B0C9CMX1RPCSKEG',\n",
       "  'HostId': 'u/AQWjaLmY5p/pWIvT7LEvyLoMp6ygvExYhy3/G7zJpbdqlCvy04zCULqx2N4CfWzFiyB1slWFA=',\n",
       "  'HTTPStatusCode': 200,\n",
       "  'HTTPHeaders': {'x-amz-id-2': 'u/AQWjaLmY5p/pWIvT7LEvyLoMp6ygvExYhy3/G7zJpbdqlCvy04zCULqx2N4CfWzFiyB1slWFA=',\n",
       "   'x-amz-request-id': '7B0C9CMX1RPCSKEG',\n",
       "   'date': 'Mon, 24 Jan 2022 02:30:17 GMT',\n",
       "   'x-amz-version-id': '1VhIUK3e4WlGnfqwj84lg4X1TV6tkL3e',\n",
       "   'x-amz-server-side-encryption': 'AES256',\n",
       "   'etag': '\"e8ad2844319dc1a02d9ee97639f11cb4\"',\n",
       "   'server': 'AmazonS3',\n",
       "   'content-length': '0'},\n",
       "  'RetryAttempts': 0},\n",
       " 'ETag': '\"e8ad2844319dc1a02d9ee97639f11cb4\"',\n",
       " 'ServerSideEncryption': 'AES256',\n",
       " 'VersionId': '1VhIUK3e4WlGnfqwj84lg4X1TV6tkL3e'}"
      ]
     },
     "execution_count": 9,
     "metadata": {},
     "output_type": "execute_result"
    }
   ],
   "source": [
    "uploader.upload_aksk(access_key=args.AWS_ACCESS_KEY_ID,\n",
    "                     secret_key=args.AWS_SECRET_ACCESS_KEY,\n",
    "                     key=\"metadata.json\", data=metadata)"
   ]
  }
 ],
 "metadata": {
  "interpreter": {
   "hash": "b3ba2566441a7c06988d0923437866b63cedc61552a5af99d1f4fb67d367b25f"
  },
  "kernelspec": {
   "display_name": "Python 3.8.8 64-bit ('base': conda)",
   "language": "python",
   "name": "python3"
  },
  "language_info": {
   "codemirror_mode": {
    "name": "ipython",
    "version": 3
   },
   "file_extension": ".py",
   "mimetype": "text/x-python",
   "name": "python",
   "nbconvert_exporter": "python",
   "pygments_lexer": "ipython3",
   "version": "3.8.8"
  },
  "orig_nbformat": 4
 },
 "nbformat": 4,
 "nbformat_minor": 2
}
