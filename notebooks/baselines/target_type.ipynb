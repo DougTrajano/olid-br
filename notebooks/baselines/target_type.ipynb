{
 "cells": [
  {
   "cell_type": "markdown",
   "metadata": {},
   "source": [
    "# Toxicity Target Type Classification\n",
    "\n",
    "In this notebook, we will train a baseline model to predict the type of a targeted toxic comment.\n",
    "\n",
    "We will use [simpletransformers](https://simpletransformers.ai/) that is a wrapper for many popular models available in [Hugging Face](https://huggingface.co/).\n",
    "\n",
    "We will use a pre-trained model ([neuralmind/bert-base-portuguese-cased · Hugging Face](https://huggingface.co/neuralmind/bert-base-portuguese-cased)) that is trained on Portuguese."
   ]
  },
  {
   "cell_type": "markdown",
   "metadata": {},
   "source": [
    "## Imports\n",
    "\n",
    "In the first cell, we set the `KAGGLE_USERNAME` and `KAGGLE_KEY` environment variables. We also import the required packages."
   ]
  },
  {
   "cell_type": "code",
   "execution_count": 1,
   "metadata": {},
   "outputs": [],
   "source": [
    "import os\n",
    "\n",
    "os.environ[\"KAGGLE_USERNAME\"] = None\n",
    "os.environ[\"KAGGLE_KEY\"] = None\n",
    "\n",
    "import shutil\n",
    "import logging\n",
    "import numpy as np\n",
    "import pandas as pd\n",
    "import matplotlib.pyplot as plt\n",
    "from typing import List, Dict, Any\n",
    "from kaggle.api.kaggle_api_extended import KaggleApi\n",
    "from sklearn.metrics import classification_report\n",
    "from sklearn.model_selection import train_test_split\n",
    "from sklearn.utils.class_weight import compute_class_weight\n",
    "from simpletransformers.classification import (\n",
    "    ClassificationModel,\n",
    "    ClassificationArgs\n",
    ")\n",
    "\n",
    "%matplotlib inline\n",
    "\n",
    "logging.basicConfig(level=logging.INFO)\n",
    "\n",
    "_logger = logging.getLogger(\"transformers\")\n",
    "_logger.setLevel(logging.WARNING)\n",
    "\n",
    "seed = 1993"
   ]
  },
  {
   "cell_type": "markdown",
   "metadata": {},
   "source": [
    "In the next cell, we will remove some folders used by `simpletransformers`."
   ]
  },
  {
   "cell_type": "code",
   "execution_count": 2,
   "metadata": {},
   "outputs": [],
   "source": [
    "temp_folders = [\"cache_dir\", \"outputs\", \"runs\"]\n",
    "\n",
    "for folder in temp_folders:\n",
    "    if os.path.exists(folder):\n",
    "        shutil.rmtree(folder, ignore_errors=True)"
   ]
  },
  {
   "cell_type": "markdown",
   "metadata": {},
   "source": [
    "## Functions\n",
    "\n",
    "In this section, we will define some helper functions."
   ]
  },
  {
   "cell_type": "code",
   "execution_count": 3,
   "metadata": {},
   "outputs": [],
   "source": [
    "def prep_data(X: List[str], Y: List[int], classes: Dict[Any, int]):\n",
    "    \"\"\"\n",
    "    Prepare data (X, y) in a list.\n",
    "\n",
    "    Args:\n",
    "    - X: list of strings (texts)\n",
    "    - y: List of ints (0 or 1)\n",
    "    - classes: dictionary of classess ({class_id: class_name, ...})\n",
    "\n",
    "    Returns:\n",
    "        List of data.\n",
    "    \"\"\"\n",
    "\n",
    "    def get_key_by_value(dictionary, value):\n",
    "        \"Get key by value in dictionary\"\n",
    "        return next(key for key, val in dictionary.items() if val == value)\n",
    "\n",
    "    data = []\n",
    "    for x, y in zip(X, Y):\n",
    "        y = get_key_by_value(classes, y)\n",
    "        data.append([x, y])\n",
    "    return data"
   ]
  },
  {
   "cell_type": "markdown",
   "metadata": {},
   "source": [
    "## Load the data\n",
    "\n",
    "In this section, we will download the data and load it into a pandas dataframe."
   ]
  },
  {
   "cell_type": "code",
   "execution_count": 5,
   "metadata": {},
   "outputs": [
    {
     "name": "stdout",
     "output_type": "stream",
     "text": [
      "Shape: (711, 17)\n"
     ]
    },
    {
     "data": {
      "text/html": [
       "<div>\n",
       "<style scoped>\n",
       "    .dataframe tbody tr th:only-of-type {\n",
       "        vertical-align: middle;\n",
       "    }\n",
       "\n",
       "    .dataframe tbody tr th {\n",
       "        vertical-align: top;\n",
       "    }\n",
       "\n",
       "    .dataframe thead th {\n",
       "        text-align: right;\n",
       "    }\n",
       "</style>\n",
       "<table border=\"1\" class=\"dataframe\">\n",
       "  <thead>\n",
       "    <tr style=\"text-align: right;\">\n",
       "      <th></th>\n",
       "      <th>id</th>\n",
       "      <th>text</th>\n",
       "      <th>is_offensive</th>\n",
       "      <th>is_targeted</th>\n",
       "      <th>targeted_type</th>\n",
       "      <th>toxic_spans</th>\n",
       "      <th>health</th>\n",
       "      <th>ideology</th>\n",
       "      <th>insult</th>\n",
       "      <th>lgbtqphobia</th>\n",
       "      <th>other_lifestyle</th>\n",
       "      <th>physical_aspects</th>\n",
       "      <th>profanity_obscene</th>\n",
       "      <th>racism</th>\n",
       "      <th>religious_intolerance</th>\n",
       "      <th>sexism</th>\n",
       "      <th>xenophobia</th>\n",
       "    </tr>\n",
       "  </thead>\n",
       "  <tbody>\n",
       "    <tr>\n",
       "      <th>0</th>\n",
       "      <td>6391e3dbb12848ac8ef6131edf2d69f9</td>\n",
       "      <td>USER Canalha URL</td>\n",
       "      <td>OFF</td>\n",
       "      <td>TIN</td>\n",
       "      <td>IND</td>\n",
       "      <td>[5, 6, 7, 8, 9, 10, 11, 12]</td>\n",
       "      <td>False</td>\n",
       "      <td>False</td>\n",
       "      <td>True</td>\n",
       "      <td>False</td>\n",
       "      <td>False</td>\n",
       "      <td>False</td>\n",
       "      <td>False</td>\n",
       "      <td>False</td>\n",
       "      <td>False</td>\n",
       "      <td>False</td>\n",
       "      <td>False</td>\n",
       "    </tr>\n",
       "    <tr>\n",
       "      <th>1</th>\n",
       "      <td>5a21508c2afc4c3295137451baf8b981</td>\n",
       "      <td>USER VTNSC FDP</td>\n",
       "      <td>OFF</td>\n",
       "      <td>TIN</td>\n",
       "      <td>IND</td>\n",
       "      <td>[5, 6, 7, 8, 9, 10, 11, 12, 13]</td>\n",
       "      <td>False</td>\n",
       "      <td>False</td>\n",
       "      <td>True</td>\n",
       "      <td>False</td>\n",
       "      <td>False</td>\n",
       "      <td>False</td>\n",
       "      <td>True</td>\n",
       "      <td>False</td>\n",
       "      <td>False</td>\n",
       "      <td>False</td>\n",
       "      <td>False</td>\n",
       "    </tr>\n",
       "    <tr>\n",
       "      <th>2</th>\n",
       "      <td>060b0390f99041cd8cd38ca5a2b66907</td>\n",
       "      <td>USER O partido do Kim votou à favor do fundão....</td>\n",
       "      <td>OFF</td>\n",
       "      <td>TIN</td>\n",
       "      <td>IND</td>\n",
       "      <td>NaN</td>\n",
       "      <td>False</td>\n",
       "      <td>False</td>\n",
       "      <td>True</td>\n",
       "      <td>False</td>\n",
       "      <td>False</td>\n",
       "      <td>False</td>\n",
       "      <td>False</td>\n",
       "      <td>False</td>\n",
       "      <td>False</td>\n",
       "      <td>False</td>\n",
       "      <td>False</td>\n",
       "    </tr>\n",
       "    <tr>\n",
       "      <th>3</th>\n",
       "      <td>3264fc0b06974c2daf423a9e5998d003</td>\n",
       "      <td>USER Grande homem. Em um país de covardes. Ete...</td>\n",
       "      <td>OFF</td>\n",
       "      <td>TIN</td>\n",
       "      <td>GRP</td>\n",
       "      <td>[34, 35, 36, 37, 38, 39, 40, 41]</td>\n",
       "      <td>False</td>\n",
       "      <td>False</td>\n",
       "      <td>True</td>\n",
       "      <td>False</td>\n",
       "      <td>False</td>\n",
       "      <td>False</td>\n",
       "      <td>False</td>\n",
       "      <td>False</td>\n",
       "      <td>False</td>\n",
       "      <td>False</td>\n",
       "      <td>False</td>\n",
       "    </tr>\n",
       "    <tr>\n",
       "      <th>4</th>\n",
       "      <td>002bced1b7444833bbe5e054c5aa6512</td>\n",
       "      <td>USER USER QAnon Brasil é um bicho estranho. Ob...</td>\n",
       "      <td>OFF</td>\n",
       "      <td>TIN</td>\n",
       "      <td>IND</td>\n",
       "      <td>[28, 29, 30, 31, 32, 33, 34, 35, 36, 37, 38, 3...</td>\n",
       "      <td>False</td>\n",
       "      <td>False</td>\n",
       "      <td>True</td>\n",
       "      <td>False</td>\n",
       "      <td>False</td>\n",
       "      <td>False</td>\n",
       "      <td>True</td>\n",
       "      <td>False</td>\n",
       "      <td>False</td>\n",
       "      <td>False</td>\n",
       "      <td>False</td>\n",
       "    </tr>\n",
       "  </tbody>\n",
       "</table>\n",
       "</div>"
      ],
      "text/plain": [
       "                                 id  \\\n",
       "0  6391e3dbb12848ac8ef6131edf2d69f9   \n",
       "1  5a21508c2afc4c3295137451baf8b981   \n",
       "2  060b0390f99041cd8cd38ca5a2b66907   \n",
       "3  3264fc0b06974c2daf423a9e5998d003   \n",
       "4  002bced1b7444833bbe5e054c5aa6512   \n",
       "\n",
       "                                                text is_offensive is_targeted  \\\n",
       "0                                   USER Canalha URL          OFF         TIN   \n",
       "1                                     USER VTNSC FDP          OFF         TIN   \n",
       "2  USER O partido do Kim votou à favor do fundão....          OFF         TIN   \n",
       "3  USER Grande homem. Em um país de covardes. Ete...          OFF         TIN   \n",
       "4  USER USER QAnon Brasil é um bicho estranho. Ob...          OFF         TIN   \n",
       "\n",
       "  targeted_type                                        toxic_spans  health  \\\n",
       "0           IND                        [5, 6, 7, 8, 9, 10, 11, 12]   False   \n",
       "1           IND                    [5, 6, 7, 8, 9, 10, 11, 12, 13]   False   \n",
       "2           IND                                                NaN   False   \n",
       "3           GRP                   [34, 35, 36, 37, 38, 39, 40, 41]   False   \n",
       "4           IND  [28, 29, 30, 31, 32, 33, 34, 35, 36, 37, 38, 3...   False   \n",
       "\n",
       "   ideology  insult  lgbtqphobia  other_lifestyle  physical_aspects  \\\n",
       "0     False    True        False            False             False   \n",
       "1     False    True        False            False             False   \n",
       "2     False    True        False            False             False   \n",
       "3     False    True        False            False             False   \n",
       "4     False    True        False            False             False   \n",
       "\n",
       "   profanity_obscene  racism  religious_intolerance  sexism  xenophobia  \n",
       "0              False   False                  False   False       False  \n",
       "1               True   False                  False   False       False  \n",
       "2              False   False                  False   False       False  \n",
       "3              False   False                  False   False       False  \n",
       "4               True   False                  False   False       False  "
      ]
     },
     "execution_count": 5,
     "metadata": {},
     "output_type": "execute_result"
    }
   ],
   "source": [
    "if not os.path.exists(\"olidbr.csv\"):\n",
    "    print(\"Downloading data from Kaggle\")\n",
    "    kaggle = KaggleApi()\n",
    "    kaggle.authenticate()\n",
    "    kaggle.dataset_download_file(dataset=\"olidbr\", file_name=\"olidbr.csv\")\n",
    "\n",
    "df = pd.read_csv(\"olidbr.csv\")\n",
    "\n",
    "print(f\"Shape: {df.shape}\")\n",
    "df.head()"
   ]
  },
  {
   "cell_type": "markdown",
   "metadata": {},
   "source": [
    "We need to filter only targeted toxic comments."
   ]
  },
  {
   "cell_type": "code",
   "execution_count": 6,
   "metadata": {},
   "outputs": [
    {
     "name": "stdout",
     "output_type": "stream",
     "text": [
      "Shape: (304, 17)\n"
     ]
    }
   ],
   "source": [
    "df = df[(df[\"is_offensive\"] == \"OFF\") & (df[\"is_targeted\"] == \"TIN\")]\n",
    "df.reset_index(drop=True, inplace=True)\n",
    "\n",
    "print(f\"Shape: {df.shape}\")"
   ]
  },
  {
   "cell_type": "markdown",
   "metadata": {},
   "source": [
    "## Explorative analysis\n",
    "\n",
    "In the second cell, we load the data and perform an exploratory analysis."
   ]
  },
  {
   "cell_type": "code",
   "execution_count": 7,
   "metadata": {},
   "outputs": [
    {
     "data": {
      "text/html": [
       "<div>\n",
       "<style scoped>\n",
       "    .dataframe tbody tr th:only-of-type {\n",
       "        vertical-align: middle;\n",
       "    }\n",
       "\n",
       "    .dataframe tbody tr th {\n",
       "        vertical-align: top;\n",
       "    }\n",
       "\n",
       "    .dataframe thead th {\n",
       "        text-align: right;\n",
       "    }\n",
       "</style>\n",
       "<table border=\"1\" class=\"dataframe\">\n",
       "  <thead>\n",
       "    <tr style=\"text-align: right;\">\n",
       "      <th></th>\n",
       "      <th>targeted_type</th>\n",
       "      <th>text</th>\n",
       "    </tr>\n",
       "  </thead>\n",
       "  <tbody>\n",
       "    <tr>\n",
       "      <th>0</th>\n",
       "      <td>GRP</td>\n",
       "      <td>59</td>\n",
       "    </tr>\n",
       "    <tr>\n",
       "      <th>1</th>\n",
       "      <td>IND</td>\n",
       "      <td>241</td>\n",
       "    </tr>\n",
       "    <tr>\n",
       "      <th>2</th>\n",
       "      <td>OTH</td>\n",
       "      <td>4</td>\n",
       "    </tr>\n",
       "  </tbody>\n",
       "</table>\n",
       "</div>"
      ],
      "text/plain": [
       "  targeted_type  text\n",
       "0           GRP    59\n",
       "1           IND   241\n",
       "2           OTH     4"
      ]
     },
     "execution_count": 7,
     "metadata": {},
     "output_type": "execute_result"
    }
   ],
   "source": [
    "df_eda = df[[\"text\", \"targeted_type\"]].groupby(\"targeted_type\").count()\n",
    "df_eda.reset_index(inplace=True)\n",
    "df_eda"
   ]
  },
  {
   "cell_type": "code",
   "execution_count": 8,
   "metadata": {},
   "outputs": [
    {
     "data": {
      "image/png": "[encoded data removed]",
      "text/plain": [
       "<Figure size 720x432 with 1 Axes>"
      ]
     },
     "metadata": {
      "needs_background": "light"
     },
     "output_type": "display_data"
    }
   ],
   "source": [
    "ax = df_eda.plot(x=\"targeted_type\", y=\"text\", kind=\"bar\",\n",
    "                 legend=False, figsize=(10, 6),\n",
    "                 xlabel=\"targeted_type\", ylabel=\"count\", fontsize=14,\n",
    "                 rot=1, title=\"targeted_type distribution\")\n",
    "\n",
    "for container in ax.containers:\n",
    "    ax.bar_label(container, fontsize=14)"
   ]
  },
  {
   "cell_type": "code",
   "execution_count": 9,
   "metadata": {},
   "outputs": [],
   "source": [
    "classes = {\n",
    "    0: \"IND\",\n",
    "    1: \"GRP\",\n",
    "    2: \"OTH\"\n",
    "}"
   ]
  },
  {
   "cell_type": "markdown",
   "metadata": {},
   "source": [
    "## Prepare the data\n",
    "\n",
    "In this section, we will prepare the data in order to train the model.\n",
    "\n",
    "The `simpletransformers` library expects the data in a specific format.\n",
    "\n",
    "More information about the format can be found in the [Classification Data Formats - Simple Transformers](https://simpletransformers.ai/docs/classification-data-formats/#binary-classification)"
   ]
  },
  {
   "cell_type": "code",
   "execution_count": 10,
   "metadata": {},
   "outputs": [
    {
     "name": "stdout",
     "output_type": "stream",
     "text": [
      "train_data: (212, 2)\n",
      "test_data: (92, 2)\n"
     ]
    }
   ],
   "source": [
    "df = df[[\"text\", \"targeted_type\"]]\n",
    "\n",
    "X = df[\"text\"].values\n",
    "y = df[\"targeted_type\"].values\n",
    "\n",
    "X_train, X_test, y_train, y_test = train_test_split(X, y, test_size=0.3,\n",
    "                                                    random_state=seed,\n",
    "                                                    stratify=y)\n",
    "\n",
    "train_data = prep_data(X_train, y_train, classes)\n",
    "test_data = prep_data(X_test, y_test, classes)\n",
    "\n",
    "df_train = pd.DataFrame(train_data)\n",
    "df_train.columns = [\"text\", \"labels\"]\n",
    "\n",
    "df_test = pd.DataFrame(test_data)\n",
    "df_test.columns = [\"text\", \"labels\"]\n",
    "\n",
    "print(f\"train_data: {df_train.shape}\")\n",
    "print(f\"test_data: {df_test.shape}\")\n"
   ]
  },
  {
   "cell_type": "markdown",
   "metadata": {},
   "source": [
    "## Training the model\n",
    "\n",
    "In this section, we will train a baseline model to predict if a toxic comment is targeted or not.\n",
    "\n",
    "We will not perform hyperparameter tuning because it is a simple baseline model."
   ]
  },
  {
   "cell_type": "code",
   "execution_count": 11,
   "metadata": {},
   "outputs": [
    {
     "name": "stderr",
     "output_type": "stream",
     "text": [
      "Some weights of the model checkpoint at neuralmind/bert-base-portuguese-cased were not used when initializing BertForSequenceClassification: ['cls.predictions.decoder.weight', 'cls.predictions.bias', 'cls.seq_relationship.weight', 'cls.predictions.transform.LayerNorm.bias', 'cls.predictions.transform.dense.bias', 'cls.seq_relationship.bias', 'cls.predictions.transform.dense.weight', 'cls.predictions.transform.LayerNorm.weight']\n",
      "- This IS expected if you are initializing BertForSequenceClassification from the checkpoint of a model trained on another task or with another architecture (e.g. initializing a BertForSequenceClassification model from a BertForPreTraining model).\n",
      "- This IS NOT expected if you are initializing BertForSequenceClassification from the checkpoint of a model that you expect to be exactly identical (initializing a BertForSequenceClassification model from a BertForSequenceClassification model).\n",
      "Some weights of BertForSequenceClassification were not initialized from the model checkpoint at neuralmind/bert-base-portuguese-cased and are newly initialized: ['classifier.weight', 'classifier.bias']\n",
      "You should probably TRAIN this model on a down-stream task to be able to use it for predictions and inference.\n",
      "INFO:simpletransformers.classification.classification_utils: Converting to features started. Cache is not used.\n",
      "  0%|          | 1/212 [00:12<45:17, 12.88s/it]\n",
      "INFO:simpletransformers.classification.classification_utils: Saving features into cached file cache_dir/cached_train_bert_128_3_2\n",
      "Epochs 0/10. Running Loss:    0.1139: 100%|██████████| 27/27 [02:31<00:00,  5.60s/it]\n",
      "Epochs 1/10. Running Loss:    0.2366: 100%|██████████| 27/27 [02:40<00:00,  5.95s/it]\n",
      "Epochs 2/10. Running Loss:    0.2634: 100%|██████████| 27/27 [02:41<00:00,  5.97s/it]\n",
      "Epochs 3/10. Running Loss:    3.3878: 100%|██████████| 27/27 [02:36<00:00,  5.80s/it]\n",
      "Epochs 4/10. Running Loss:    0.0059: 100%|██████████| 27/27 [02:30<00:00,  5.58s/it]\n",
      "Epochs 5/10. Running Loss:    0.0056: 100%|██████████| 27/27 [02:30<00:00,  5.56s/it]\n",
      "Epochs 6/10. Running Loss:    0.0072: 100%|██████████| 27/27 [02:39<00:00,  5.89s/it]\n",
      "Epochs 7/10. Running Loss:    0.0018: 100%|██████████| 27/27 [02:52<00:00,  6.39s/it]\n",
      "Epochs 8/10. Running Loss:    0.0018: 100%|██████████| 27/27 [02:42<00:00,  6.03s/it]\n",
      "Epochs 9/10. Running Loss:    0.0034: 100%|██████████| 27/27 [02:38<00:00,  5.86s/it]\n",
      "Epoch 10 of 10: 100%|██████████| 10/10 [26:49<00:00, 160.96s/it]\n",
      "INFO:simpletransformers.classification.classification_model: Training of bert model complete. Saved to outputs/.\n"
     ]
    },
    {
     "data": {
      "text/plain": [
       "(270, 0.25501523862239317)"
      ]
     },
     "execution_count": 11,
     "metadata": {},
     "output_type": "execute_result"
    }
   ],
   "source": [
    "# Compute class weights\n",
    "class_weights = compute_class_weight(class_weight='balanced',\n",
    "                                     classes=np.unique(y_train),\n",
    "                                     y=y_train)\n",
    "\n",
    "# Optional model configuration\n",
    "model_args = ClassificationArgs(num_train_epochs=6)\n",
    "\n",
    "# Create a ClassificationModel\n",
    "model = ClassificationModel(\n",
    "    model_type=\"bert\",\n",
    "    model_name=\"neuralmind/bert-base-portuguese-cased\",\n",
    "    num_labels=3,\n",
    "    args=model_args,\n",
    "    weight=list(class_weights),\n",
    "    use_cuda=False\n",
    ")\n",
    "\n",
    "# Train the model\n",
    "model.train_model(df_train)"
   ]
  },
  {
   "cell_type": "markdown",
   "metadata": {},
   "source": [
    "## Evaluating the model\n",
    "\n",
    "In this section, we will evaluate the model with the following metrics:\n",
    "\n",
    "- **Accuracy**: the percentage of correct predictions;\n",
    "- **Precision**: the percentage of predicted targeted comments that are actually targeted;\n",
    "- **Recall**: the percentage of targeted comments that are actually predicted as targeted;\n",
    "- **F1-Score**: the harmonic mean of precision and recall;\n",
    "- **ROC AUC**: the area under the receiver operating characteristic Curve (ROC AUC)."
   ]
  },
  {
   "cell_type": "code",
   "execution_count": 12,
   "metadata": {},
   "outputs": [
    {
     "name": "stderr",
     "output_type": "stream",
     "text": [
      "INFO:simpletransformers.classification.classification_utils: Converting to features started. Cache is not used.\n",
      "  1%|          | 1/92 [00:18<27:34, 18.19s/it]\n",
      "INFO:simpletransformers.classification.classification_utils: Saving features into cached file cache_dir/cached_dev_bert_128_3_2\n",
      "Running Evaluation: 100%|██████████| 12/12 [00:19<00:00,  1.58s/it]\n",
      "INFO:simpletransformers.classification.classification_model:{'mcc': 0.5336444268219744, 'eval_loss': 0.8393683316923367}\n",
      "INFO:simpletransformers.classification.classification_utils: Converting to features started. Cache is not used.\n",
      "  1%|          | 1/92 [00:09<13:59,  9.22s/it]\n",
      "100%|██████████| 12/12 [00:17<00:00,  1.44s/it]\n"
     ]
    }
   ],
   "source": [
    "result, model_outputs, wrong_predictions = model.eval_model(df_test)\n",
    "\n",
    "y_true = df_test[\"labels\"].tolist()\n",
    "\n",
    "y_pred, raw_outputs = model.predict(df_test[\"text\"].tolist())"
   ]
  },
  {
   "cell_type": "code",
   "execution_count": 13,
   "metadata": {},
   "outputs": [
    {
     "name": "stdout",
     "output_type": "stream",
     "text": [
      "              precision    recall  f1-score   support\n",
      "\n",
      "         IND     0.8846    0.9452    0.9139        73\n",
      "         GRP     0.7143    0.5556    0.6250        18\n",
      "         OTH     0.0000    0.0000    0.0000         1\n",
      "\n",
      "    accuracy                         0.8587        92\n",
      "   macro avg     0.5330    0.5003    0.5130        92\n",
      "weighted avg     0.8417    0.8587    0.8474        92\n",
      "\n"
     ]
    },
    {
     "name": "stderr",
     "output_type": "stream",
     "text": [
      "C:\\ProgramData\\Anaconda3\\lib\\site-packages\\sklearn\\metrics\\_classification.py:1318: UndefinedMetricWarning: Precision and F-score are ill-defined and being set to 0.0 in labels with no predicted samples. Use `zero_division` parameter to control this behavior.\n",
      "  _warn_prf(average, modifier, msg_start, len(result))\n",
      "C:\\ProgramData\\Anaconda3\\lib\\site-packages\\sklearn\\metrics\\_classification.py:1318: UndefinedMetricWarning: Precision and F-score are ill-defined and being set to 0.0 in labels with no predicted samples. Use `zero_division` parameter to control this behavior.\n",
      "  _warn_prf(average, modifier, msg_start, len(result))\n",
      "C:\\ProgramData\\Anaconda3\\lib\\site-packages\\sklearn\\metrics\\_classification.py:1318: UndefinedMetricWarning: Precision and F-score are ill-defined and being set to 0.0 in labels with no predicted samples. Use `zero_division` parameter to control this behavior.\n",
      "  _warn_prf(average, modifier, msg_start, len(result))\n"
     ]
    }
   ],
   "source": [
    "print(classification_report(y_true, y_pred, digits=4,\n",
    "                            target_names=classes.values()))"
   ]
  },
  {
   "cell_type": "markdown",
   "metadata": {},
   "source": [
    "## Testing the model\n",
    "\n",
    "In the last section, we will test the model with some comments from the test set."
   ]
  },
  {
   "cell_type": "code",
   "execution_count": 14,
   "metadata": {},
   "outputs": [
    {
     "name": "stderr",
     "output_type": "stream",
     "text": [
      "INFO:simpletransformers.classification.classification_utils: Converting to features started. Cache is not used.\n",
      " 10%|█         | 1/10 [00:11<01:44, 11.65s/it]\n",
      "100%|██████████| 2/2 [00:01<00:00,  1.05it/s]\n"
     ]
    },
    {
     "data": {
      "text/html": [
       "<div>\n",
       "<style scoped>\n",
       "    .dataframe tbody tr th:only-of-type {\n",
       "        vertical-align: middle;\n",
       "    }\n",
       "\n",
       "    .dataframe tbody tr th {\n",
       "        vertical-align: top;\n",
       "    }\n",
       "\n",
       "    .dataframe thead th {\n",
       "        text-align: right;\n",
       "    }\n",
       "</style>\n",
       "<table border=\"1\" class=\"dataframe\">\n",
       "  <thead>\n",
       "    <tr style=\"text-align: right;\">\n",
       "      <th></th>\n",
       "      <th>text</th>\n",
       "      <th>labels</th>\n",
       "      <th>predictions</th>\n",
       "    </tr>\n",
       "  </thead>\n",
       "  <tbody>\n",
       "    <tr>\n",
       "      <th>0</th>\n",
       "      <td>RT USER: O que mudou, muffin fecal? USER URL</td>\n",
       "      <td>IND</td>\n",
       "      <td>IND</td>\n",
       "    </tr>\n",
       "    <tr>\n",
       "      <th>1</th>\n",
       "      <td>USER Assassinos</td>\n",
       "      <td>IND</td>\n",
       "      <td>GRP</td>\n",
       "    </tr>\n",
       "    <tr>\n",
       "      <th>2</th>\n",
       "      <td>USER PSDB genocida</td>\n",
       "      <td>IND</td>\n",
       "      <td>IND</td>\n",
       "    </tr>\n",
       "    <tr>\n",
       "      <th>3</th>\n",
       "      <td>USER USER USER USER Pau no seus cus</td>\n",
       "      <td>IND</td>\n",
       "      <td>IND</td>\n",
       "    </tr>\n",
       "    <tr>\n",
       "      <th>4</th>\n",
       "      <td>USER Acabar com o bolsoMoroNazismo NARCOEVANGÉ...</td>\n",
       "      <td>IND</td>\n",
       "      <td>GRP</td>\n",
       "    </tr>\n",
       "    <tr>\n",
       "      <th>5</th>\n",
       "      <td>USER USER USER USER Os mbls com suas irmãs e s...</td>\n",
       "      <td>GRP</td>\n",
       "      <td>IND</td>\n",
       "    </tr>\n",
       "    <tr>\n",
       "      <th>6</th>\n",
       "      <td>USER Um safado, assim como toda a turma dele (...</td>\n",
       "      <td>IND</td>\n",
       "      <td>IND</td>\n",
       "    </tr>\n",
       "    <tr>\n",
       "      <th>7</th>\n",
       "      <td>USER Corrupto. Ainda vou ver vc cair ..... jun...</td>\n",
       "      <td>IND</td>\n",
       "      <td>IND</td>\n",
       "    </tr>\n",
       "    <tr>\n",
       "      <th>8</th>\n",
       "      <td>USER Esse bandido deveria ter sido preso.</td>\n",
       "      <td>IND</td>\n",
       "      <td>IND</td>\n",
       "    </tr>\n",
       "    <tr>\n",
       "      <th>9</th>\n",
       "      <td>USER Vau toma no cu seu filho da puta URL</td>\n",
       "      <td>IND</td>\n",
       "      <td>IND</td>\n",
       "    </tr>\n",
       "  </tbody>\n",
       "</table>\n",
       "</div>"
      ],
      "text/plain": [
       "                                                text labels predictions\n",
       "0       RT USER: O que mudou, muffin fecal? USER URL    IND         IND\n",
       "1                                    USER Assassinos    IND         GRP\n",
       "2                                 USER PSDB genocida    IND         IND\n",
       "3                USER USER USER USER Pau no seus cus    IND         IND\n",
       "4  USER Acabar com o bolsoMoroNazismo NARCOEVANGÉ...    IND         GRP\n",
       "5  USER USER USER USER Os mbls com suas irmãs e s...    GRP         IND\n",
       "6  USER Um safado, assim como toda a turma dele (...    IND         IND\n",
       "7  USER Corrupto. Ainda vou ver vc cair ..... jun...    IND         IND\n",
       "8          USER Esse bandido deveria ter sido preso.    IND         IND\n",
       "9          USER Vau toma no cu seu filho da puta URL    IND         IND"
      ]
     },
     "execution_count": 14,
     "metadata": {},
     "output_type": "execute_result"
    }
   ],
   "source": [
    "df_pred = df_test.head(20)\n",
    "\n",
    "predictions, raw_outputs = model.predict(df_pred.head(10)[\"text\"].tolist())\n",
    "\n",
    "df_pred = df_pred.assign(predictions=predictions)\n",
    "\n",
    "df_pred[\"labels\"] = df_pred[\"labels\"].map(classes)\n",
    "df_pred[\"predictions\"] = df_pred[\"predictions\"].map(classes)\n",
    "\n",
    "df_pred"
   ]
  }
 ],
 "metadata": {
  "interpreter": {
   "hash": "b3ba2566441a7c06988d0923437866b63cedc61552a5af99d1f4fb67d367b25f"
  },
  "kernelspec": {
   "display_name": "Python 3.8.8 64-bit ('base': conda)",
   "language": "python",
   "name": "python3"
  },
  "language_info": {
   "codemirror_mode": {
    "name": "ipython",
    "version": 3
   },
   "file_extension": ".py",
   "mimetype": "text/x-python",
   "name": "python",
   "nbconvert_exporter": "python",
   "pygments_lexer": "ipython3",
   "version": "3.8.8"
  },
  "orig_nbformat": 4
 },
 "nbformat": 4,
 "nbformat_minor": 2
}
