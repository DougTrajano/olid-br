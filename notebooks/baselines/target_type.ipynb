{
 "cells": [
  {
   "cell_type": "markdown",
   "metadata": {},
   "source": [
    "# Toxicity Target Type Classification\n",
    "\n",
    "In this notebook, we will train a baseline model to predict the type of a targeted toxic comment.\n",
    "\n",
    "We will use [simpletransformers](https://simpletransformers.ai/) that is a wrapper for many popular models available in [Hugging Face](https://huggingface.co/).\n",
    "\n",
    "We will use a pre-trained model ([neuralmind/bert-base-portuguese-cased · Hugging Face](https://huggingface.co/neuralmind/bert-base-portuguese-cased)) that is trained on Portuguese."
   ]
  },
  {
   "cell_type": "markdown",
   "metadata": {},
   "source": [
    "## Imports"
   ]
  },
  {
   "cell_type": "code",
   "execution_count": null,
   "metadata": {},
   "outputs": [],
   "source": [
    "import sys\n",
    "from pathlib import Path\n",
    "\n",
    "if str(Path(\".\").absolute().parent) not in sys.path:\n",
    "    sys.path.append(str(Path(\".\").absolute().parent.parent))"
   ]
  },
  {
   "cell_type": "code",
   "execution_count": null,
   "metadata": {},
   "outputs": [],
   "source": [
    "from dotenv import load_dotenv\n",
    "\n",
    "# Initialize the env vars\n",
    "load_dotenv(\"../../.env\")"
   ]
  },
  {
   "cell_type": "code",
   "execution_count": null,
   "metadata": {},
   "outputs": [],
   "source": [
    "import os\n",
    "import shutil\n",
    "import logging\n",
    "import numpy as np\n",
    "import pandas as pd\n",
    "import mlflow\n",
    "import matplotlib.pyplot as plt\n",
    "from typing import List, Dict, Any\n",
    "from kaggle.api.kaggle_api_extended import KaggleApi\n",
    "from sklearn.metrics import classification_report\n",
    "from sklearn.model_selection import train_test_split\n",
    "from sklearn.utils.class_weight import compute_class_weight\n",
    "from simpletransformers.classification import (\n",
    "    ClassificationModel,\n",
    "    ClassificationArgs\n",
    ")\n",
    "\n",
    "%matplotlib inline\n",
    "\n",
    "logging.basicConfig(level=logging.INFO)\n",
    "\n",
    "_logger = logging.getLogger(\"transformers\")\n",
    "_logger.setLevel(logging.WARNING)\n",
    "\n",
    "mlflow.set_experiment(\"toxicity-target-type-detection\")\n",
    "\n",
    "mlflow.start_run(tags={\"project\": \"olid-br\"})\n",
    "\n",
    "params = {\n",
    "    \"seed\": 1993,\n",
    "    \"model_type\": \"bert\",\n",
    "    \"model_name\": \"neuralmind/bert-base-portuguese-cased\",\n",
    "    \"num_train_epochs\": 6,\n",
    "    \"test_size\": 0.3,\n",
    "    \"use_cuda\": False\n",
    "}"
   ]
  },
  {
   "cell_type": "markdown",
   "metadata": {},
   "source": [
    "## Functions\n",
    "\n",
    "In this section, we will define some helper functions."
   ]
  },
  {
   "cell_type": "code",
   "execution_count": null,
   "metadata": {},
   "outputs": [],
   "source": [
    "def prep_data(X: List[str], Y: List[int], classes: Dict[Any, int]):\n",
    "    \"\"\"\n",
    "    Prepare data (X, y) in a list.\n",
    "\n",
    "    Args:\n",
    "    - X: list of strings (texts)\n",
    "    - y: List of ints (0 or 1)\n",
    "    - classes: dictionary of classess ({class_id: class_name, ...})\n",
    "\n",
    "    Returns:\n",
    "        List of data.\n",
    "    \"\"\"\n",
    "\n",
    "    def get_key_by_value(dictionary, value):\n",
    "        \"Get key by value in dictionary\"\n",
    "        return next(key for key, val in dictionary.items() if val == value)\n",
    "\n",
    "    data = []\n",
    "    for x, y in zip(X, Y):\n",
    "        y = get_key_by_value(classes, y)\n",
    "        data.append([x, y])\n",
    "    return data"
   ]
  },
  {
   "cell_type": "markdown",
   "metadata": {},
   "source": [
    "## Load the data\n",
    "\n",
    "In this section, we will download the data and load it into a pandas dataframe."
   ]
  },
  {
   "cell_type": "code",
   "execution_count": null,
   "metadata": {},
   "outputs": [],
   "source": [
    "# Download the data\n",
    "if not os.path.exists(\"olidbr.csv\"):\n",
    "    print(\"Downloading data from Kaggle\")\n",
    "    kaggle = KaggleApi()\n",
    "    kaggle.authenticate()\n",
    "    kaggle.dataset_download_files(dataset=\"olidbr\", unzip=True)\n",
    "\n",
    "# Load data\n",
    "df = pd.read_csv(\"olidbr.csv\")\n",
    "\n",
    "# Delete files\n",
    "for file in [\"olidbr.csv\", \"metadata.csv\"]:\n",
    "    os.remove(file)\n",
    "\n",
    "# Log dataset version\n",
    "olidbr = kaggle.dataset_view(dataset=\"olidbr\")\n",
    "mlflow.log_param(\"dataset_version\", f\"v{olidbr.currentVersionNumber}\")\n",
    "\n",
    "print(f\"Shape: {df.shape}\")\n",
    "df.head()"
   ]
  },
  {
   "cell_type": "markdown",
   "metadata": {},
   "source": [
    "We need to filter only targeted toxic comments."
   ]
  },
  {
   "cell_type": "code",
   "execution_count": null,
   "metadata": {},
   "outputs": [],
   "source": [
    "df = df[(df[\"is_offensive\"] == \"OFF\") & (df[\"is_targeted\"] == \"TIN\")]\n",
    "df.reset_index(drop=True, inplace=True)\n",
    "\n",
    "print(f\"Shape: {df.shape}\")"
   ]
  },
  {
   "cell_type": "markdown",
   "metadata": {},
   "source": [
    "## Explorative analysis\n",
    "\n",
    "In the second cell, we load the data and perform an exploratory analysis."
   ]
  },
  {
   "cell_type": "code",
   "execution_count": null,
   "metadata": {},
   "outputs": [],
   "source": [
    "df_eda = df[[\"text\", \"targeted_type\"]].groupby(\"targeted_type\").count()\n",
    "df_eda.reset_index(inplace=True)\n",
    "df_eda"
   ]
  },
  {
   "cell_type": "code",
   "execution_count": null,
   "metadata": {},
   "outputs": [],
   "source": [
    "ax = df_eda.plot(x=\"targeted_type\", y=\"text\", kind=\"bar\",\n",
    "                 legend=False, figsize=(10, 6),\n",
    "                 xlabel=\"targeted_type\", ylabel=\"count\", fontsize=14,\n",
    "                 rot=1, title=\"targeted_type distribution\")\n",
    "\n",
    "for container in ax.containers:\n",
    "    ax.bar_label(container, fontsize=14)\n",
    "\n",
    "mlflow.log_figure(\n",
    "    figure=ax.get_figure(),\n",
    "    artifact_file=\"targeted_type_distribution.png\")"
   ]
  },
  {
   "cell_type": "code",
   "execution_count": null,
   "metadata": {},
   "outputs": [],
   "source": [
    "classes = {\n",
    "    0: \"IND\",\n",
    "    1: \"GRP\",\n",
    "    2: \"OTH\"\n",
    "}"
   ]
  },
  {
   "cell_type": "markdown",
   "metadata": {},
   "source": [
    "## Prepare the data\n",
    "\n",
    "In this section, we will prepare the data in order to train the model.\n",
    "\n",
    "The `simpletransformers` library expects the data in a specific format.\n",
    "\n",
    "More information about the format can be found in the [Classification Data Formats - Simple Transformers](https://simpletransformers.ai/docs/classification-data-formats/#binary-classification)"
   ]
  },
  {
   "cell_type": "code",
   "execution_count": null,
   "metadata": {},
   "outputs": [],
   "source": [
    "df = df[[\"text\", \"targeted_type\"]]\n",
    "\n",
    "X = df[\"text\"].values\n",
    "y = df[\"targeted_type\"].values\n",
    "\n",
    "X_train, X_test, y_train, y_test = train_test_split(X, y, test_size=params[\"test_size\"],\n",
    "                                                    random_state=params[\"seed\"],\n",
    "                                                    stratify=y)\n",
    "\n",
    "train_data = prep_data(X_train, y_train, classes)\n",
    "test_data = prep_data(X_test, y_test, classes)\n",
    "\n",
    "df_train = pd.DataFrame(train_data)\n",
    "df_train.columns = [\"text\", \"labels\"]\n",
    "\n",
    "df_test = pd.DataFrame(test_data)\n",
    "df_test.columns = [\"text\", \"labels\"]\n",
    "\n",
    "mlflow.log_param(\"train_size\", len(df_train))\n",
    "mlflow.log_param(\"test_size\", len(df_test))\n",
    "\n",
    "print(f\"train_data: {df_train.shape}\")\n",
    "print(f\"test_data: {df_test.shape}\")\n"
   ]
  },
  {
   "cell_type": "markdown",
   "metadata": {},
   "source": [
    "## Training the model\n",
    "\n",
    "In this section, we will train a baseline model to predict if a toxic comment is targeted or not.\n",
    "\n",
    "We will not perform hyperparameter tuning because it is a simple baseline model."
   ]
  },
  {
   "cell_type": "code",
   "execution_count": null,
   "metadata": {},
   "outputs": [],
   "source": [
    "# Temporary folders\n",
    "temp_folders = [\"cache_dir\", \"outputs\", \"runs\"]\n",
    "\n",
    "for folder in temp_folders:\n",
    "    if os.path.exists(folder):\n",
    "        shutil.rmtree(folder, ignore_errors=True)\n",
    "        \n",
    "# Compute class weights\n",
    "params[\"class_weights\"] = compute_class_weight(\n",
    "    class_weight=\"balanced\",\n",
    "    classes=np.unique(y_train),\n",
    "    y=y_train)\n",
    "\n",
    "# Optional model configuration\n",
    "model_args = ClassificationArgs(\n",
    "    num_train_epochs=params[\"num_train_epochs\"])\n",
    "\n",
    "# Create a ClassificationModel\n",
    "model = ClassificationModel(\n",
    "    model_type=params[\"model_type\"],\n",
    "    model_name=params[\"model_name\"],\n",
    "    args=model_args,\n",
    "    weight=list(params[\"class_weights\"]),\n",
    "    use_cuda=params[\"use_cuda\"]\n",
    ")\n",
    "\n",
    "# Train the model\n",
    "model.train_model(df_train)"
   ]
  },
  {
   "cell_type": "markdown",
   "metadata": {},
   "source": [
    "## Evaluating the model\n",
    "\n",
    "In this section, we will evaluate the model with the following metrics:\n",
    "\n",
    "- **Accuracy**: the percentage of correct predictions;\n",
    "- **Precision**: the percentage of predicted targeted comments that are actually targeted;\n",
    "- **Recall**: the percentage of targeted comments that are actually predicted as targeted;\n",
    "- **F1-Score**: the harmonic mean of precision and recall;\n",
    "- **ROC AUC**: the area under the receiver operating characteristic Curve (ROC AUC)."
   ]
  },
  {
   "cell_type": "code",
   "execution_count": null,
   "metadata": {},
   "outputs": [],
   "source": [
    "result, model_outputs, wrong_predictions = model.eval_model(df_test)\n",
    "\n",
    "y_true = df_test[\"labels\"].tolist()\n",
    "\n",
    "y_pred, raw_outputs = model.predict(df_test[\"text\"].tolist())"
   ]
  },
  {
   "cell_type": "code",
   "execution_count": null,
   "metadata": {},
   "outputs": [],
   "source": [
    "# Logging metrics in MLflow\n",
    "metrics = classification_report(\n",
    "    y_true, y_pred, digits=4,\n",
    "    target_names=classes.values(), output_dict=True)\n",
    "\n",
    "mlflow.log_metric(\"auroc\", result[\"auroc\"])\n",
    "mlflow.log_metric(\"accuracy\", metrics[\"accuracy\"])\n",
    "mlflow.log_metric(\"weighted_f1_score\", metrics[\"weighted avg\"][\"f1-score\"])\n",
    "mlflow.log_metric(\"weighted_precision\", metrics[\"weighted avg\"][\"precision\"])\n",
    "mlflow.log_metric(\"weighted_recall\", metrics[\"weighted avg\"][\"recall\"])\n",
    "\n",
    "mlflow.log_metric(\"UNT_precision\", metrics[\"UNT\"][\"precision\"])\n",
    "mlflow.log_metric(\"UNT_recall\", metrics[\"UNT\"][\"recall\"])\n",
    "mlflow.log_metric(\"UNT_f1_score\", metrics[\"UNT\"][\"f1-score\"])\n",
    "mlflow.log_metric(\"TIN_precision\", metrics[\"TIN\"][\"precision\"])\n",
    "mlflow.log_metric(\"TIN_recall\", metrics[\"TIN\"][\"recall\"])\n",
    "mlflow.log_metric(\"TIN_f1_score\", metrics[\"TIN\"][\"f1-score\"])"
   ]
  },
  {
   "cell_type": "markdown",
   "metadata": {},
   "source": [
    "## Testing the model\n",
    "\n",
    "In the last section, we will test the model with some comments from the test set."
   ]
  },
  {
   "cell_type": "code",
   "execution_count": null,
   "metadata": {},
   "outputs": [],
   "source": [
    "df_pred = df_test.head(20)\n",
    "\n",
    "predictions, raw_outputs = model.predict(df_pred.head(10)[\"text\"].tolist())\n",
    "\n",
    "df_pred = df_pred.assign(predictions=predictions)\n",
    "\n",
    "df_pred[\"labels\"] = df_pred[\"labels\"].map(classes)\n",
    "df_pred[\"predictions\"] = df_pred[\"predictions\"].map(classes)\n",
    "\n",
    "df_pred"
   ]
  },
  {
   "cell_type": "code",
   "execution_count": null,
   "metadata": {},
   "outputs": [],
   "source": [
    "mlflow.end_run()"
   ]
  }
 ],
 "metadata": {
  "kernelspec": {
   "display_name": "Python 3.9.12 ('base')",
   "language": "python",
   "name": "python3"
  },
  "language_info": {
   "codemirror_mode": {
    "name": "ipython",
    "version": 3
   },
   "file_extension": ".py",
   "mimetype": "text/x-python",
   "name": "python",
   "nbconvert_exporter": "python",
   "pygments_lexer": "ipython3",
   "version": "3.9.12"
  },
  "orig_nbformat": 4,
  "vscode": {
   "interpreter": {
    "hash": "ad2bdc8ecc057115af97d19610ffacc2b4e99fae6737bb82f5d7fb13d2f2c186"
   }
  }
 },
 "nbformat": 4,
 "nbformat_minor": 2
}
