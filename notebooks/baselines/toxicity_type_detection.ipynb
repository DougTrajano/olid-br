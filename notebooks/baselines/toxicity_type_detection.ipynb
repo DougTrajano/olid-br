{
 "cells": [
  {
   "cell_type": "markdown",
   "metadata": {},
   "source": [
    "# Toxicity Type Detection\n",
    "\n",
    "In this notebook, we will train a baseline model to predict the toxicity types of toxic comments.\n",
    "\n",
    "We will use [simpletransformers](https://simpletransformers.ai/) that is a wrapper for many popular models available in [Hugging Face](https://huggingface.co/).\n",
    "\n",
    "We will use a pre-trained model ([neuralmind/bert-base-portuguese-cased · Hugging Face](https://huggingface.co/neuralmind/bert-base-portuguese-cased)) that is trained on Portuguese."
   ]
  },
  {
   "cell_type": "code",
   "execution_count": 1,
   "metadata": {},
   "outputs": [],
   "source": [
    "import sys\n",
    "from pathlib import Path\n",
    "\n",
    "if str(Path(\".\").absolute().parent) not in sys.path:\n",
    "    sys.path.append(str(Path(\".\").absolute().parent.parent))"
   ]
  },
  {
   "cell_type": "code",
   "execution_count": 2,
   "metadata": {},
   "outputs": [
    {
     "data": {
      "text/plain": [
       "True"
      ]
     },
     "execution_count": 2,
     "metadata": {},
     "output_type": "execute_result"
    }
   ],
   "source": [
    "from dotenv import load_dotenv\n",
    "\n",
    "# Initialize the env vars\n",
    "load_dotenv(\"../../.env\")"
   ]
  },
  {
   "cell_type": "code",
   "execution_count": 3,
   "metadata": {},
   "outputs": [],
   "source": [
    "import logging\n",
    "import numpy as np\n",
    "import pandas as pd\n",
    "import mlflow\n",
    "import matplotlib.pyplot as plt\n",
    "import seaborn as sns\n",
    "from torch.cuda import is_available\n",
    "from sklearn.metrics import classification_report\n",
    "from simpletransformers.classification import (\n",
    "    MultiLabelClassificationModel,\n",
    "    MultiLabelClassificationArgs\n",
    ")\n",
    "\n",
    "from src.modeling.selection import multilabel_train_test_split\n",
    "from src.modeling.utils import (\n",
    "    download_dataset,\n",
    "    get_dataset_version,\n",
    "    prep_data,\n",
    "    clean_simpletransformers,\n",
    "    compute_pos_weight,\n",
    "    get_labels_for_y\n",
    ")\n",
    "\n",
    "%matplotlib inline\n",
    "\n",
    "sns.set_theme(style=\"whitegrid\", palette=\"pastel\")\n",
    "\n",
    "logging.basicConfig(level=logging.INFO)\n",
    "\n",
    "_logger = logging.getLogger(\"transformers\")\n",
    "_logger.setLevel(logging.WARNING)\n",
    "\n",
    "params = {\n",
    "    \"seed\": 1993,\n",
    "    \"model_type\": \"bert\",\n",
    "    \"model_name\": \"neuralmind/bert-base-portuguese-cased\",\n",
    "    \"num_train_epochs\": 6,\n",
    "    \"test_size\": 0.3,\n",
    "    \"use_cuda\": is_available()\n",
    "}"
   ]
  },
  {
   "cell_type": "code",
   "execution_count": null,
   "metadata": {},
   "outputs": [],
   "source": [
    "experiment_name = \"toxicity-type-detection\"\n",
    "\n",
    "mlflow.set_experiment(experiment_name)\n",
    "\n",
    "mlflow.start_run(tags={\"project\": \"olid-br\"})"
   ]
  },
  {
   "cell_type": "markdown",
   "metadata": {},
   "source": [
    "## Load the data\n",
    "\n",
    "In this section, we will download the data and load it into a pandas dataframe."
   ]
  },
  {
   "cell_type": "code",
   "execution_count": 5,
   "metadata": {},
   "outputs": [
    {
     "name": "stdout",
     "output_type": "stream",
     "text": [
      "Downloading data from Kaggle\n",
      "Shape: (4676, 17)\n"
     ]
    },
    {
     "data": {
      "text/html": [
       "<div>\n",
       "<style scoped>\n",
       "    .dataframe tbody tr th:only-of-type {\n",
       "        vertical-align: middle;\n",
       "    }\n",
       "\n",
       "    .dataframe tbody tr th {\n",
       "        vertical-align: top;\n",
       "    }\n",
       "\n",
       "    .dataframe thead th {\n",
       "        text-align: right;\n",
       "    }\n",
       "</style>\n",
       "<table border=\"1\" class=\"dataframe\">\n",
       "  <thead>\n",
       "    <tr style=\"text-align: right;\">\n",
       "      <th></th>\n",
       "      <th>id</th>\n",
       "      <th>text</th>\n",
       "      <th>is_offensive</th>\n",
       "      <th>is_targeted</th>\n",
       "      <th>targeted_type</th>\n",
       "      <th>toxic_spans</th>\n",
       "      <th>health</th>\n",
       "      <th>ideology</th>\n",
       "      <th>insult</th>\n",
       "      <th>lgbtqphobia</th>\n",
       "      <th>other_lifestyle</th>\n",
       "      <th>physical_aspects</th>\n",
       "      <th>profanity_obscene</th>\n",
       "      <th>racism</th>\n",
       "      <th>religious_intolerance</th>\n",
       "      <th>sexism</th>\n",
       "      <th>xenophobia</th>\n",
       "    </tr>\n",
       "  </thead>\n",
       "  <tbody>\n",
       "    <tr>\n",
       "      <th>0</th>\n",
       "      <td>6391e3dbb12848ac8ef6131edf2d69f9</td>\n",
       "      <td>USER Canalha URL</td>\n",
       "      <td>OFF</td>\n",
       "      <td>TIN</td>\n",
       "      <td>IND</td>\n",
       "      <td>[5, 6, 7, 8, 9, 10, 11, 12]</td>\n",
       "      <td>False</td>\n",
       "      <td>False</td>\n",
       "      <td>True</td>\n",
       "      <td>False</td>\n",
       "      <td>False</td>\n",
       "      <td>False</td>\n",
       "      <td>False</td>\n",
       "      <td>False</td>\n",
       "      <td>False</td>\n",
       "      <td>False</td>\n",
       "      <td>False</td>\n",
       "    </tr>\n",
       "    <tr>\n",
       "      <th>1</th>\n",
       "      <td>5a21508c2afc4c3295137451baf8b981</td>\n",
       "      <td>USER VTNSC FDP</td>\n",
       "      <td>OFF</td>\n",
       "      <td>TIN</td>\n",
       "      <td>IND</td>\n",
       "      <td>[5, 6, 7, 8, 9, 10, 11, 12, 13]</td>\n",
       "      <td>False</td>\n",
       "      <td>False</td>\n",
       "      <td>True</td>\n",
       "      <td>False</td>\n",
       "      <td>False</td>\n",
       "      <td>False</td>\n",
       "      <td>True</td>\n",
       "      <td>False</td>\n",
       "      <td>False</td>\n",
       "      <td>False</td>\n",
       "      <td>False</td>\n",
       "    </tr>\n",
       "    <tr>\n",
       "      <th>2</th>\n",
       "      <td>060b0390f99041cd8cd38ca5a2b66907</td>\n",
       "      <td>USER O partido do Kim votou à favor do fundão....</td>\n",
       "      <td>OFF</td>\n",
       "      <td>TIN</td>\n",
       "      <td>IND</td>\n",
       "      <td>NaN</td>\n",
       "      <td>False</td>\n",
       "      <td>False</td>\n",
       "      <td>True</td>\n",
       "      <td>False</td>\n",
       "      <td>False</td>\n",
       "      <td>False</td>\n",
       "      <td>False</td>\n",
       "      <td>False</td>\n",
       "      <td>False</td>\n",
       "      <td>False</td>\n",
       "      <td>False</td>\n",
       "    </tr>\n",
       "    <tr>\n",
       "      <th>3</th>\n",
       "      <td>3264fc0b06974c2daf423a9e5998d003</td>\n",
       "      <td>USER Grande homem. Em um país de covardes. Ete...</td>\n",
       "      <td>OFF</td>\n",
       "      <td>TIN</td>\n",
       "      <td>GRP</td>\n",
       "      <td>[34, 35, 36, 37, 38, 39, 40, 41]</td>\n",
       "      <td>False</td>\n",
       "      <td>False</td>\n",
       "      <td>True</td>\n",
       "      <td>False</td>\n",
       "      <td>False</td>\n",
       "      <td>False</td>\n",
       "      <td>False</td>\n",
       "      <td>False</td>\n",
       "      <td>False</td>\n",
       "      <td>False</td>\n",
       "      <td>False</td>\n",
       "    </tr>\n",
       "    <tr>\n",
       "      <th>4</th>\n",
       "      <td>002bced1b7444833bbe5e054c5aa6512</td>\n",
       "      <td>USER USER QAnon Brasil é um bicho estranho. Ob...</td>\n",
       "      <td>OFF</td>\n",
       "      <td>TIN</td>\n",
       "      <td>IND</td>\n",
       "      <td>[28, 29, 30, 31, 32, 33, 34, 35, 36, 37, 38, 3...</td>\n",
       "      <td>False</td>\n",
       "      <td>False</td>\n",
       "      <td>True</td>\n",
       "      <td>False</td>\n",
       "      <td>False</td>\n",
       "      <td>False</td>\n",
       "      <td>True</td>\n",
       "      <td>False</td>\n",
       "      <td>False</td>\n",
       "      <td>False</td>\n",
       "      <td>False</td>\n",
       "    </tr>\n",
       "  </tbody>\n",
       "</table>\n",
       "</div>"
      ],
      "text/plain": [
       "                                 id  \\\n",
       "0  6391e3dbb12848ac8ef6131edf2d69f9   \n",
       "1  5a21508c2afc4c3295137451baf8b981   \n",
       "2  060b0390f99041cd8cd38ca5a2b66907   \n",
       "3  3264fc0b06974c2daf423a9e5998d003   \n",
       "4  002bced1b7444833bbe5e054c5aa6512   \n",
       "\n",
       "                                                text is_offensive is_targeted  \\\n",
       "0                                   USER Canalha URL          OFF         TIN   \n",
       "1                                     USER VTNSC FDP          OFF         TIN   \n",
       "2  USER O partido do Kim votou à favor do fundão....          OFF         TIN   \n",
       "3  USER Grande homem. Em um país de covardes. Ete...          OFF         TIN   \n",
       "4  USER USER QAnon Brasil é um bicho estranho. Ob...          OFF         TIN   \n",
       "\n",
       "  targeted_type                                        toxic_spans  health  \\\n",
       "0           IND                        [5, 6, 7, 8, 9, 10, 11, 12]   False   \n",
       "1           IND                    [5, 6, 7, 8, 9, 10, 11, 12, 13]   False   \n",
       "2           IND                                                NaN   False   \n",
       "3           GRP                   [34, 35, 36, 37, 38, 39, 40, 41]   False   \n",
       "4           IND  [28, 29, 30, 31, 32, 33, 34, 35, 36, 37, 38, 3...   False   \n",
       "\n",
       "   ideology  insult  lgbtqphobia  other_lifestyle  physical_aspects  \\\n",
       "0     False    True        False            False             False   \n",
       "1     False    True        False            False             False   \n",
       "2     False    True        False            False             False   \n",
       "3     False    True        False            False             False   \n",
       "4     False    True        False            False             False   \n",
       "\n",
       "   profanity_obscene  racism  religious_intolerance  sexism  xenophobia  \n",
       "0              False   False                  False   False       False  \n",
       "1               True   False                  False   False       False  \n",
       "2              False   False                  False   False       False  \n",
       "3              False   False                  False   False       False  \n",
       "4               True   False                  False   False       False  "
      ]
     },
     "execution_count": 5,
     "metadata": {},
     "output_type": "execute_result"
    }
   ],
   "source": [
    "df = download_dataset()\n",
    "\n",
    "mlflow.log_param(\"dataset_version\", f\"v{get_dataset_version()}\")\n",
    "\n",
    "print(f\"Shape: {df.shape}\")\n",
    "df.head()"
   ]
  },
  {
   "cell_type": "code",
   "execution_count": 6,
   "metadata": {},
   "outputs": [
    {
     "name": "stdout",
     "output_type": "stream",
     "text": [
      "Shape: (4065, 16)\n"
     ]
    }
   ],
   "source": [
    "toxicity_labels = [\n",
    "    \"health\",\n",
    "    \"ideology\",\n",
    "    \"insult\",\n",
    "    \"lgbtqphobia\",\n",
    "    \"other_lifestyle\",\n",
    "    \"physical_aspects\",\n",
    "    \"profanity_obscene\",\n",
    "    \"racism\",\n",
    "    \"sexism\",\n",
    "    \"xenophobia\"\n",
    "]\n",
    "\n",
    "# Filter only offensive comments\n",
    "df = df[df[\"is_offensive\"] == \"OFF\"]\n",
    "\n",
    "# Remove religious_intolerance that has only one  sample\n",
    "df = df[df[\"religious_intolerance\"] == False]\n",
    "\n",
    "df.drop(columns=[\"religious_intolerance\"], inplace=True)\n",
    "\n",
    "# Filter only offensive comments with at least one toxicity label\n",
    "df = df.loc[df.select_dtypes('bool').sum(axis=1).ge(1)]\n",
    "\n",
    "df.reset_index(drop=True, inplace=True)\n",
    "\n",
    "print(f\"Shape: {df.shape}\")"
   ]
  },
  {
   "cell_type": "markdown",
   "metadata": {},
   "source": [
    "## Exploratory Data Analysis (EDA)\n",
    "\n",
    "In the next section, we will perform some exploratory data analysis (EDA) to understand the data."
   ]
  },
  {
   "cell_type": "code",
   "execution_count": 7,
   "metadata": {},
   "outputs": [
    {
     "name": "stderr",
     "output_type": "stream",
     "text": [
      "INFO:botocore.credentials:Found credentials in environment variables.\n"
     ]
    },
    {
     "data": {
      "image/png": "[encoded data removed]",
      "text/plain": [
       "<Figure size 1008x432 with 1 Axes>"
      ]
     },
     "metadata": {},
     "output_type": "display_data"
    }
   ],
   "source": [
    "df_eda = df[[\"text\"]+toxicity_labels]\n",
    "\n",
    "ax = df_eda[toxicity_labels].sum().plot(kind=\"barh\", grid=False,\n",
    "                                        legend=False, figsize=(14, 6),\n",
    "                                        xlabel=\"toxicity labels\", ylabel=\"count\", fontsize=14,\n",
    "                                        rot=1, title=\"Toxicity labels distribution\")\n",
    "\n",
    "for container in ax.containers:\n",
    "    ax.bar_label(container, fontsize=12)\n",
    "\n",
    "mlflow.log_figure(\n",
    "    figure=ax.get_figure(),\n",
    "    artifact_file=\"toxicity_labels_distribution.png\")"
   ]
  },
  {
   "cell_type": "markdown",
   "metadata": {},
   "source": [
    "## Prepare the data\n",
    "\n",
    "In this section, we will prepare the data in order to train the model.\n",
    "\n",
    "The `simpletransformers` library expects the data in a specific format.\n",
    "\n",
    "More information about the format can be found in the [Classification Data Formats - Simple Transformers](https://simpletransformers.ai/docs/classification-data-formats/#binary-classification)"
   ]
  },
  {
   "cell_type": "code",
   "execution_count": null,
   "metadata": {},
   "outputs": [],
   "source": [
    "X = df[\"text\"].values\n",
    "y = df[toxicity_labels].astype(int).values\n",
    "\n",
    "X_train, X_test, y_train, y_test = multilabel_train_test_split(\n",
    "    X, y, test_size=params[\"test_size\"],\n",
    "    random_state=params[\"seed\"], stratify=y)\n",
    "\n",
    "train_data = prep_data(X_train, y_train)\n",
    "test_data = prep_data(X_test, y_test)\n",
    "\n",
    "df_train = pd.DataFrame(train_data)\n",
    "df_train.columns = [\"text\", \"labels\"]\n",
    "\n",
    "df_test = pd.DataFrame(test_data)\n",
    "df_test.columns = [\"text\", \"labels\"]\n",
    "\n",
    "mlflow.log_param(\"train_size\", len(df_train))\n",
    "mlflow.log_param(\"test_size\", len(df_test))\n",
    "\n",
    "print(f\"train_data: {df_train.shape}\")\n",
    "print(f\"test_data: {df_test.shape}\")"
   ]
  },
  {
   "cell_type": "markdown",
   "metadata": {},
   "source": [
    "## Training the model\n",
    "\n",
    "In this section, we will train a baseline model to predict if a toxic comment is targeted or not.\n",
    "\n",
    "We will not perform hyperparameter tuning because it is a simple baseline model."
   ]
  },
  {
   "cell_type": "code",
   "execution_count": null,
   "metadata": {},
   "outputs": [],
   "source": [
    "clean_simpletransformers()\n",
    "        \n",
    "# Compute class weights\n",
    "params[\"pos_weights\"] = compute_pos_weight(y_train)\n",
    "\n",
    "# Optional model configuration\n",
    "model_args = MultiLabelClassificationArgs(\n",
    "    num_train_epochs=params[\"num_train_epochs\"])\n",
    "\n",
    "# Create a ClassificationModel\n",
    "model = MultiLabelClassificationModel(\n",
    "    model_type=params[\"model_type\"],\n",
    "    model_name=params[\"model_name\"],\n",
    "    num_labels=len(toxicity_labels),\n",
    "    args=model_args,\n",
    "    pos_weight=params[\"pos_weights\"],\n",
    "    use_cuda=params[\"use_cuda\"]\n",
    ")\n",
    "\n",
    "# Train the model\n",
    "model.train_model(df_train)"
   ]
  },
  {
   "cell_type": "markdown",
   "metadata": {},
   "source": [
    "## Evaluating the model\n",
    "\n",
    "In this section, we will evaluate the model with the following metrics:\n",
    "\n",
    "- **Accuracy**: the percentage of correct predictions;\n",
    "- **Precision**: the percentage of predicted targeted comments that are actually targeted;\n",
    "- **Recall**: the percentage of targeted comments that are actually predicted as targeted;\n",
    "- **F1-Score**: the harmonic mean of precision and recall;\n",
    "- **ROC AUC**: the area under the receiver operating characteristic Curve (ROC AUC)."
   ]
  },
  {
   "cell_type": "code",
   "execution_count": null,
   "metadata": {},
   "outputs": [],
   "source": [
    "result, model_outputs, wrong_predictions = model.eval_model(df_test)\n",
    "\n",
    "y_true = df_test[\"labels\"].tolist()\n",
    "\n",
    "y_pred, raw_outputs = model.predict(df_test[\"text\"].tolist())"
   ]
  },
  {
   "cell_type": "code",
   "execution_count": null,
   "metadata": {},
   "outputs": [],
   "source": [
    "# Logging metrics in MLflow\n",
    "metrics = classification_report(\n",
    "    y_true, y_pred, digits=4,\n",
    "    target_names=toxicity_labels, output_dict=True)\n",
    "\n",
    "# General metrics\n",
    "mlflow.log_metric(\"LRAP\", result[\"LRAP\"])\n",
    "mlflow.log_metric(\"weighted_f1_score\", metrics[\"weighted avg\"][\"f1-score\"])\n",
    "mlflow.log_metric(\"weighted_precision\", metrics[\"weighted avg\"][\"precision\"])\n",
    "mlflow.log_metric(\"weighted_recall\", metrics[\"weighted avg\"][\"recall\"])\n",
    "\n",
    "# Label metrics\n",
    "for label in toxicity_labels:\n",
    "    mlflow.log_metric(f\"{label}_precision\", metrics[label][\"precision\"])\n",
    "    mlflow.log_metric(f\"{label}_recall\", metrics[label][\"recall\"])\n",
    "    mlflow.log_metric(f\"{label}_f1_score\", metrics[label][\"f1-score\"])\n",
    "\n",
    "# Classification report file\n",
    "mlflow.log_text(\n",
    "    text=classification_report(\n",
    "        y_true, y_pred, digits=4,\n",
    "        target_names=toxicity_labels),\n",
    "    artifact_file=\"classification_report.txt\")"
   ]
  },
  {
   "cell_type": "markdown",
   "metadata": {},
   "source": [
    "## Testing the model\n",
    "\n",
    "In the last section, we will test the model with some comments from the test set."
   ]
  },
  {
   "cell_type": "code",
   "execution_count": null,
   "metadata": {},
   "outputs": [],
   "source": [
    "df_pred = df_test.head(20)\n",
    "\n",
    "predictions, raw_outputs = model.predict(df_pred[\"text\"].tolist())\n",
    "\n",
    "df_pred = df_pred.assign(predictions=predictions)\n",
    "\n",
    "df_pred[\"labels\"] = df_pred[\"labels\"].apply(lambda x: get_labels_for_y(x, toxicity_labels))\n",
    "df_pred[\"predictions\"] = df_pred[\"predictions\"].apply(lambda x: get_labels_for_y(x, toxicity_labels))\n",
    "\n",
    "df_pred"
   ]
  },
  {
   "cell_type": "markdown",
   "metadata": {},
   "source": [
    "## Register model in MLflow\n",
    "\n",
    "In this section, we will register the model in MLflow."
   ]
  },
  {
   "cell_type": "code",
   "execution_count": null,
   "metadata": {},
   "outputs": [],
   "source": [
    "def get_conda_env():\n",
    "    import torch\n",
    "    from mlflow.utils.environment import _mlflow_conda_env\n",
    "\n",
    "    conda_env = _mlflow_conda_env(\n",
    "        additional_conda_deps=[\n",
    "            f\"pytorch={torch.__version__}\",\n",
    "            \"simpletransformers==0.63.7\"\n",
    "        ]\n",
    "    )\n",
    "\n",
    "    return conda_env\n",
    "\n",
    "mlflow.pytorch.log_model(\n",
    "    pytorch_model=model.model,\n",
    "    conda_env=get_conda_env(),\n",
    "    artifact_path=\"model\",\n",
    "    registered_model_name=experiment_name)"
   ]
  },
  {
   "cell_type": "code",
   "execution_count": null,
   "metadata": {},
   "outputs": [],
   "source": [
    "clean_simpletransformers()\n",
    "\n",
    "mlflow.end_run()"
   ]
  }
 ],
 "metadata": {
  "kernelspec": {
   "display_name": "Python 3.9.12 ('base')",
   "language": "python",
   "name": "python3"
  },
  "language_info": {
   "codemirror_mode": {
    "name": "ipython",
    "version": 3
   },
   "file_extension": ".py",
   "mimetype": "text/x-python",
   "name": "python",
   "nbconvert_exporter": "python",
   "pygments_lexer": "ipython3",
   "version": "3.9.12"
  },
  "orig_nbformat": 4,
  "vscode": {
   "interpreter": {
    "hash": "ad2bdc8ecc057115af97d19610ffacc2b4e99fae6737bb82f5d7fb13d2f2c186"
   }
  }
 },
 "nbformat": 4,
 "nbformat_minor": 2
}
