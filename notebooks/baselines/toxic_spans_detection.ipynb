{
 "cells": [
  {
   "cell_type": "markdown",
   "metadata": {},
   "source": [
    "# Toxic Spans Detection\n",
    "\n",
    "[![Open In Colab](https://colab.research.google.com/assets/colab-badge.svg)](https://colab.research.google.com/github/DougTrajano/olid-br/blob/master/notebooks/baselines/toxic_spans_detection.ipynb)\n",
    "\n",
    "In this notebook, we will train a model that detects toxic spans in toxic comments. The results can be used to highligh which parts of a given comment are toxic.\n",
    "\n",
    "This task was first proposed in [SemEval 2021 Task 5: Toxic Spans Detection - CodaLab Competition](https://competitions.codalab.org/competitions/25623)."
   ]
  },
  {
   "cell_type": "markdown",
   "metadata": {},
   "source": [
    "## Setup\n",
    "\n",
    "In this section, we will set up the environment for the notebook.\n",
    "\n",
    "If we are running this notebook on Google Colab, we will clone the repository and install the required packages.\n",
    "\n",
    "We will also load the required environment variables from the `.env` file."
   ]
  },
  {
   "cell_type": "code",
   "execution_count": 1,
   "metadata": {},
   "outputs": [
    {
     "data": {
      "text/plain": [
       "True"
      ]
     },
     "execution_count": 1,
     "metadata": {},
     "output_type": "execute_result"
    }
   ],
   "source": [
    "import sys\n",
    "\n",
    "# Running on Google Colab\n",
    "if \"google.colab\" in sys.modules:\n",
    "    !git clone https://github.com/DougTrajano/olid-br.git\n",
    "    !mv olid-br/* .\n",
    "    !rm -rf olid-br\n",
    "    !pip install -r requirements.txt\n",
    "    env_file = \"environment\"\n",
    "else:\n",
    "    from pathlib import Path\n",
    "    if str(Path(\".\").absolute().parent) not in sys.path:\n",
    "        sys.path.append(str(Path(\".\").absolute().parent.parent))\n",
    "    env_file = \"../../.env\"\n",
    "\n",
    "from dotenv import load_dotenv\n",
    "\n",
    "load_dotenv(env_file)"
   ]
  },
  {
   "cell_type": "markdown",
   "metadata": {},
   "source": [
    "## Imports"
   ]
  },
  {
   "cell_type": "code",
   "execution_count": 2,
   "metadata": {},
   "outputs": [],
   "source": [
    "import ast\n",
    "import csv\n",
    "import itertools\n",
    "import os\n",
    "import random\n",
    "import string\n",
    "import sys\n",
    "import warnings\n",
    "\n",
    "import numpy as np\n",
    "import pandas as pd\n",
    "from typing import List\n",
    "\n",
    "import spacy\n",
    "from spacy import displacy\n",
    "from spacy.tokens import Doc\n",
    "from spacy.training.example import Example\n",
    "from sklearn.base import BaseEstimator\n",
    "import tensorflow as tf\n",
    "import matplotlib.pyplot as plt\n",
    "\n",
    "SPECIAL_CHARACTERS = string.whitespace"
   ]
  },
  {
   "cell_type": "code",
   "execution_count": 3,
   "metadata": {},
   "outputs": [],
   "source": [
    "from src.modeling.utils import download_dataset\n",
    "\n",
    "params = {\n",
    "    \"seed\": 1993,\n",
    "    \"model_type\": \"bert\",\n",
    "    \"model_name\": \"neuralmind/bert-base-portuguese-cased\",\n",
    "    \"num_train_epochs\": 30,\n",
    "    \"dropout_rate\": 0.1,\n",
    "    \"use_cuda\": True if tf.config.list_physical_devices(\"GPU\") else False\n",
    "}\n",
    "\n",
    "# Set seeds for reproducibility\n",
    "random.seed(params[\"seed\"])\n",
    "np.random.seed(params[\"seed\"])\n",
    "tf.random.set_seed(params[\"seed\"])\n",
    "spacy.util.fix_random_seed(params[\"seed\"])"
   ]
  },
  {
   "cell_type": "code",
   "execution_count": 4,
   "metadata": {},
   "outputs": [],
   "source": [
    "def f1_score(y_true: List[int], y_pred: List[int]):\n",
    "    \"\"\"\n",
    "    Compute the F1 score, also known as balanced F-score or F-measure.\n",
    "    (a.k.a. DICE) operating on two lists of offsets (e.g., character).\n",
    "    >>> assert f1([0, 1, 4, 5], [0, 1, 6]) == 0.5714285714285714\n",
    "\n",
    "    Args:\n",
    "    - y_true: a list of offsets serving as the ground truth\n",
    "    - y_pred: a list of predicted offsets\n",
    "\n",
    "    Returns:\n",
    "    - f1: the F1 score\n",
    "    \"\"\"\n",
    "    if len(y_true) == 0:\n",
    "        return 1. if len(y_pred) == 0 else 0.\n",
    "    if len(y_pred) == 0:\n",
    "        return 0.\n",
    "    pred_set = set(y_pred)\n",
    "    true_set = set(y_true)\n",
    "    nom = 2 * len(pred_set.intersection(true_set))\n",
    "    denom = len(pred_set) + len(true_set)\n",
    "    return float(nom)/float(denom)\n",
    "\n",
    "def _contiguous_ranges(span_list: List[int]):\n",
    "    \"\"\"Extracts continguous runs [1, 2, 3, 5, 6, 7] -> [(1,3), (5,7)].\n",
    "    \n",
    "    Args:\n",
    "    - span_list: a list of span indicies\n",
    "\n",
    "    Returns:\n",
    "    - A list of tuples containing the start and end of each continguous run.\n",
    "    \"\"\"\n",
    "    output = []\n",
    "    for _, span in itertools.groupby(\n",
    "        enumerate(span_list), lambda p: p[1] - p[0]):\n",
    "        span = list(span)\n",
    "        output.append((span[0][1], span[-1][1]))\n",
    "    return output\n",
    "\n",
    "def fix_spans(spans: List[int], text: str, special_characters: str = SPECIAL_CHARACTERS):\n",
    "    \"\"\"Applies minor edits to trim spans and remove singletons.\n",
    "    \n",
    "    Args:\n",
    "    - spans: a list of span indicies\n",
    "    - text: the text to which the spans apply\n",
    "    - special_characters: a string containing special characters to remove from the text\n",
    "\n",
    "    Returns:\n",
    "    - A list of fixed spans.\n",
    "    \"\"\"\n",
    "    cleaned = []\n",
    "    for begin, end in _contiguous_ranges(spans):\n",
    "        while text[begin] in special_characters and begin < end:\n",
    "            begin += 1\n",
    "        while text[end] in special_characters and begin < end:\n",
    "            end -= 1\n",
    "        if end - begin > 1:\n",
    "            cleaned.extend(range(begin, end + 1))\n",
    "    return cleaned\n",
    "\n",
    "def spans_to_ents(doc: Doc, spans: List[int], label: str):\n",
    "  \"\"\"Converts span indicies into spacy entity labels.\n",
    "  \n",
    "  Args:\n",
    "  - doc: a spacy Doc object\n",
    "  - spans: a list of span indicies\n",
    "  - label: the entity label to assign to the spans\n",
    "\n",
    "  Returns:\n",
    "  - A list containing start, end, and label.\n",
    "  \"\"\"\n",
    "  started = False\n",
    "  left, right, ents = 0, 0, []\n",
    "  for x in doc:\n",
    "    if x.pos_ == \"SPACE\":\n",
    "      continue\n",
    "    if spans.intersection(set(range(x.idx, x.idx + len(x.text)))):\n",
    "      if not started:\n",
    "        left, started = x.idx, True\n",
    "      right = x.idx + len(x.text)\n",
    "    elif started:\n",
    "      ents.append((left, right, label))\n",
    "      started = False\n",
    "  if started:\n",
    "    ents.append((left, right, label))\n",
    "  return ents"
   ]
  },
  {
   "cell_type": "code",
   "execution_count": 5,
   "metadata": {},
   "outputs": [],
   "source": [
    "class ToxicSpansDetection(BaseEstimator):\n",
    "    def __init__(self, spacy_model: str = \"pt_core_news_lg\", toxic_label: str = \"TOXIC\"):\n",
    "        \"\"\"Initializes the model.\n",
    "\n",
    "        Args:\n",
    "        - spacy_model: the spaCy model to use.\n",
    "        \"\"\"\n",
    "        self.nlp = spacy.load(spacy_model)\n",
    "        self.toxic_label = toxic_label\n",
    "        self._model = None\n",
    "        self.losses = []\n",
    "    \n",
    "    def fit(self, X: List[str], y: List[int], epochs: int = 30, dropout_rate: float = 0.5):\n",
    "        \"\"\"Fits the model.\n",
    "\n",
    "        Args:\n",
    "        - X: the list of texts.\n",
    "        - y: the list of labels.\n",
    "        - epochs: the number of epochs to train the model.\n",
    "        - dropout_rate: the dropout rate to use.\n",
    "        \"\"\"\n",
    "        training_data = []\n",
    "        for n, (text, spans) in enumerate(zip(X, y)):\n",
    "            doc = self.nlp(text)\n",
    "            ents = spans_to_ents(doc, set(spans), self.toxic_label)\n",
    "            training_data.append((doc.text, {\"entities\": ents}))\n",
    "\n",
    "        self._model = spacy.blank(\"pt\")\n",
    "        self._model.vocab.strings.add(self.toxic_label)\n",
    "        ner = self.nlp.create_pipe(\"ner\")\n",
    "        self._model.add_pipe(\"ner\", last=True)\n",
    "        ner.add_label(self.toxic_label)\n",
    "\n",
    "        pipe_exceptions = [\"ner\", \"trf_wordpiecer\", \"trf_tok2vec\"]\n",
    "        unaffected_pipes = [\n",
    "            pipe for pipe in self._model.pipe_names\n",
    "            if pipe not in pipe_exceptions]\n",
    "            \n",
    "        with self._model.disable_pipes(*unaffected_pipes):\n",
    "            self._model.begin_training()\n",
    "\n",
    "            for epoch in range(epochs):\n",
    "                random.shuffle(training_data)\n",
    "                losses = {}\n",
    "                batches = spacy.util.minibatch(\n",
    "                    items=training_data,\n",
    "                    size=spacy.util.compounding(\n",
    "                        4.0, 64.0, 1.01))\n",
    "\n",
    "            for batch in batches:\n",
    "                examples = []\n",
    "                for text, annotations in batch:\n",
    "                    example = Example.from_dict(self.nlp.make_doc(text), annotations)\n",
    "                    examples.append(example)\n",
    "                self._model.update(examples, drop=dropout_rate, losses=losses)\n",
    "                self.losses.append(losses[\"ner\"])\n",
    "\n",
    "    def _predict(self, X: str) -> List[int]: \n",
    "        \"\"\"Predicts the toxic spans for a given text.\n",
    "\n",
    "        Args:\n",
    "        - X: the text.\n",
    "\n",
    "        Returns:\n",
    "        - the toxic spans as a list of integers.\n",
    "        \"\"\"\n",
    "        predictions = []\n",
    "        doc = self._model(X)\n",
    "        for ent in doc.ents:\n",
    "            predictions.extend(range(ent.start_char, ent.end_char))\n",
    "        return predictions\n",
    "\n",
    "    def predict(self, X: List[str] | str) -> List[int] | List[List[int]]:\n",
    "        \"\"\"Predicts the labels.\n",
    "        \n",
    "        Args:\n",
    "        - X: the list of texts or a single text.\n",
    "\n",
    "        Returns:\n",
    "        - the toxic spans as a list of integers or a list of lists of integers.\n",
    "        \"\"\"\n",
    "        if isinstance(X, (list, tuple, np.ndarray)):\n",
    "            pred = []\n",
    "            for x in X:\n",
    "                pred.append(self._predict(x))\n",
    "        elif isinstance(X, str):\n",
    "            pred = self._predict(X)\n",
    "        else:\n",
    "            raise ValueError(\"X must be a list of strings or a single string.\")\n",
    "        return pred\n",
    "        \n",
    "    def score(self, X: List[str], y: List[int]):\n",
    "        scores = []\n",
    "        preds = []\n",
    "        for text, spans in zip(X, y):\n",
    "            pred = self.predict(text)\n",
    "            preds.append(pred)\n",
    "            score = f1_score(pred, spans)\n",
    "            scores.append(score)\n",
    "        return np.mean(scores)\n",
    "        \n",
    "    def save(self, path: str | Path):\n",
    "        \"\"\"Saves the model to a file.\n",
    "\n",
    "        Args:\n",
    "        - path: the path to the file.\n",
    "        \"\"\"\n",
    "        self._model.to_disk(path)\n",
    "\n",
    "    def plot_losses(self, xlabel: str = \"Epoch\", ylabel: str = \"Loss\"):\n",
    "        plt.plot(self.losses)\n",
    "        plt.xlabel(xlabel)\n",
    "        plt.ylabel(ylabel)\n",
    "        plt.show()"
   ]
  },
  {
   "cell_type": "markdown",
   "metadata": {},
   "source": [
    "## Load data\n",
    "\n",
    "In this section, we will download the data and load it into a pandas dataframe."
   ]
  },
  {
   "cell_type": "code",
   "execution_count": 6,
   "metadata": {},
   "outputs": [
    {
     "name": "stdout",
     "output_type": "stream",
     "text": [
      "Downloading data from Kaggle\n",
      "Shape: (6673, 17)\n"
     ]
    },
    {
     "data": {
      "text/html": [
       "<div>\n",
       "<style scoped>\n",
       "    .dataframe tbody tr th:only-of-type {\n",
       "        vertical-align: middle;\n",
       "    }\n",
       "\n",
       "    .dataframe tbody tr th {\n",
       "        vertical-align: top;\n",
       "    }\n",
       "\n",
       "    .dataframe thead th {\n",
       "        text-align: right;\n",
       "    }\n",
       "</style>\n",
       "<table border=\"1\" class=\"dataframe\">\n",
       "  <thead>\n",
       "    <tr style=\"text-align: right;\">\n",
       "      <th></th>\n",
       "      <th>id</th>\n",
       "      <th>text</th>\n",
       "      <th>is_offensive</th>\n",
       "      <th>is_targeted</th>\n",
       "      <th>targeted_type</th>\n",
       "      <th>toxic_spans</th>\n",
       "      <th>health</th>\n",
       "      <th>ideology</th>\n",
       "      <th>insult</th>\n",
       "      <th>lgbtqphobia</th>\n",
       "      <th>other_lifestyle</th>\n",
       "      <th>physical_aspects</th>\n",
       "      <th>profanity_obscene</th>\n",
       "      <th>racism</th>\n",
       "      <th>religious_intolerance</th>\n",
       "      <th>sexism</th>\n",
       "      <th>xenophobia</th>\n",
       "    </tr>\n",
       "  </thead>\n",
       "  <tbody>\n",
       "    <tr>\n",
       "      <th>0</th>\n",
       "      <td>6391e3dbb12848ac8ef6131edf2d69f9</td>\n",
       "      <td>USER Canalha URL</td>\n",
       "      <td>OFF</td>\n",
       "      <td>TIN</td>\n",
       "      <td>IND</td>\n",
       "      <td>[5, 6, 7, 8, 9, 10, 11, 12]</td>\n",
       "      <td>False</td>\n",
       "      <td>False</td>\n",
       "      <td>True</td>\n",
       "      <td>False</td>\n",
       "      <td>False</td>\n",
       "      <td>False</td>\n",
       "      <td>False</td>\n",
       "      <td>False</td>\n",
       "      <td>False</td>\n",
       "      <td>False</td>\n",
       "      <td>False</td>\n",
       "    </tr>\n",
       "    <tr>\n",
       "      <th>1</th>\n",
       "      <td>5a21508c2afc4c3295137451baf8b981</td>\n",
       "      <td>USER VTNSC FDP</td>\n",
       "      <td>OFF</td>\n",
       "      <td>TIN</td>\n",
       "      <td>IND</td>\n",
       "      <td>[5, 6, 7, 8, 9, 10, 11, 12, 13]</td>\n",
       "      <td>False</td>\n",
       "      <td>False</td>\n",
       "      <td>True</td>\n",
       "      <td>False</td>\n",
       "      <td>False</td>\n",
       "      <td>False</td>\n",
       "      <td>True</td>\n",
       "      <td>False</td>\n",
       "      <td>False</td>\n",
       "      <td>False</td>\n",
       "      <td>False</td>\n",
       "    </tr>\n",
       "    <tr>\n",
       "      <th>2</th>\n",
       "      <td>060b0390f99041cd8cd38ca5a2b66907</td>\n",
       "      <td>USER O partido do Kim votou à favor do fundão....</td>\n",
       "      <td>OFF</td>\n",
       "      <td>TIN</td>\n",
       "      <td>IND</td>\n",
       "      <td>NaN</td>\n",
       "      <td>False</td>\n",
       "      <td>False</td>\n",
       "      <td>True</td>\n",
       "      <td>False</td>\n",
       "      <td>False</td>\n",
       "      <td>False</td>\n",
       "      <td>False</td>\n",
       "      <td>False</td>\n",
       "      <td>False</td>\n",
       "      <td>False</td>\n",
       "      <td>False</td>\n",
       "    </tr>\n",
       "    <tr>\n",
       "      <th>3</th>\n",
       "      <td>3264fc0b06974c2daf423a9e5998d003</td>\n",
       "      <td>USER Grande homem. Em um país de covardes. Ete...</td>\n",
       "      <td>OFF</td>\n",
       "      <td>TIN</td>\n",
       "      <td>GRP</td>\n",
       "      <td>[34, 35, 36, 37, 38, 39, 40, 41]</td>\n",
       "      <td>False</td>\n",
       "      <td>False</td>\n",
       "      <td>True</td>\n",
       "      <td>False</td>\n",
       "      <td>False</td>\n",
       "      <td>False</td>\n",
       "      <td>False</td>\n",
       "      <td>False</td>\n",
       "      <td>False</td>\n",
       "      <td>False</td>\n",
       "      <td>False</td>\n",
       "    </tr>\n",
       "    <tr>\n",
       "      <th>4</th>\n",
       "      <td>002bced1b7444833bbe5e054c5aa6512</td>\n",
       "      <td>USER USER QAnon Brasil é um bicho estranho. Ob...</td>\n",
       "      <td>OFF</td>\n",
       "      <td>TIN</td>\n",
       "      <td>IND</td>\n",
       "      <td>[28, 29, 30, 31, 32, 33, 34, 35, 36, 37, 38, 3...</td>\n",
       "      <td>False</td>\n",
       "      <td>False</td>\n",
       "      <td>True</td>\n",
       "      <td>False</td>\n",
       "      <td>False</td>\n",
       "      <td>False</td>\n",
       "      <td>True</td>\n",
       "      <td>False</td>\n",
       "      <td>False</td>\n",
       "      <td>False</td>\n",
       "      <td>False</td>\n",
       "    </tr>\n",
       "  </tbody>\n",
       "</table>\n",
       "</div>"
      ],
      "text/plain": [
       "                                 id  \\\n",
       "0  6391e3dbb12848ac8ef6131edf2d69f9   \n",
       "1  5a21508c2afc4c3295137451baf8b981   \n",
       "2  060b0390f99041cd8cd38ca5a2b66907   \n",
       "3  3264fc0b06974c2daf423a9e5998d003   \n",
       "4  002bced1b7444833bbe5e054c5aa6512   \n",
       "\n",
       "                                                text is_offensive is_targeted  \\\n",
       "0                                   USER Canalha URL          OFF         TIN   \n",
       "1                                     USER VTNSC FDP          OFF         TIN   \n",
       "2  USER O partido do Kim votou à favor do fundão....          OFF         TIN   \n",
       "3  USER Grande homem. Em um país de covardes. Ete...          OFF         TIN   \n",
       "4  USER USER QAnon Brasil é um bicho estranho. Ob...          OFF         TIN   \n",
       "\n",
       "  targeted_type                                        toxic_spans  health  \\\n",
       "0           IND                        [5, 6, 7, 8, 9, 10, 11, 12]   False   \n",
       "1           IND                    [5, 6, 7, 8, 9, 10, 11, 12, 13]   False   \n",
       "2           IND                                                NaN   False   \n",
       "3           GRP                   [34, 35, 36, 37, 38, 39, 40, 41]   False   \n",
       "4           IND  [28, 29, 30, 31, 32, 33, 34, 35, 36, 37, 38, 3...   False   \n",
       "\n",
       "   ideology  insult  lgbtqphobia  other_lifestyle  physical_aspects  \\\n",
       "0     False    True        False            False             False   \n",
       "1     False    True        False            False             False   \n",
       "2     False    True        False            False             False   \n",
       "3     False    True        False            False             False   \n",
       "4     False    True        False            False             False   \n",
       "\n",
       "   profanity_obscene  racism  religious_intolerance  sexism  xenophobia  \n",
       "0              False   False                  False   False       False  \n",
       "1               True   False                  False   False       False  \n",
       "2              False   False                  False   False       False  \n",
       "3              False   False                  False   False       False  \n",
       "4               True   False                  False   False       False  "
      ]
     },
     "execution_count": 6,
     "metadata": {},
     "output_type": "execute_result"
    }
   ],
   "source": [
    "files = download_dataset(\n",
    "    [\"train.csv\", \"test.csv\"]\n",
    ")\n",
    "\n",
    "train_data = files[\"train.csv\"]\n",
    "test_data = files[\"test.csv\"]\n",
    "\n",
    "print(f\"Shape: {train_data.shape}\")\n",
    "train_data.head()"
   ]
  },
  {
   "cell_type": "code",
   "execution_count": null,
   "metadata": {},
   "outputs": [],
   "source": [
    "print(f\"Shape: {test_data.shape}\")\n",
    "test_data.head()"
   ]
  },
  {
   "cell_type": "code",
   "execution_count": 7,
   "metadata": {},
   "outputs": [
    {
     "name": "stdout",
     "output_type": "stream",
     "text": [
      "Count: 5317\n"
     ]
    }
   ],
   "source": [
    "train_data = train_data[\n",
    "    (train_data[\"toxic_spans\"].notnull()) & \\\n",
    "        (train_data[\"toxic_spans\"] != \"[]\")]\n",
    "\n",
    "X_train = train_data[\"text\"].values\n",
    "y_train = [ast.literal_eval(y) for y in train_data[\"toxic_spans\"].values]\n",
    "\n",
    "test_data = test_data[\n",
    "    (test_data[\"toxic_spans\"].notnull()) & \\\n",
    "        (test_data[\"toxic_spans\"] != \"[]\")]\n",
    "\n",
    "X_test = test_data[\"text\"].values\n",
    "y_test = [ast.literal_eval(y) for y in test_data[\"toxic_spans\"].values]\n",
    "\n",
    "print(f\"Training set: {len(X_train)}\")\n",
    "print(f\"Test set: {len(X_test)}\")"
   ]
  },
  {
   "cell_type": "markdown",
   "metadata": {},
   "source": [
    "## Training model"
   ]
  },
  {
   "cell_type": "code",
   "execution_count": 9,
   "metadata": {},
   "outputs": [
    {
     "name": "stdout",
     "output_type": "stream",
     "text": [
      "Average F1: 0.1909\n"
     ]
    },
    {
     "data": {
      "image/png": "[encoded data removed]",
      "text/plain": [
       "<Figure size 432x288 with 1 Axes>"
      ]
     },
     "metadata": {},
     "output_type": "display_data"
    }
   ],
   "source": [
    "model = ToxicSpansDetection()\n",
    "\n",
    "model.fit(\n",
    "    X_train, y_train,\n",
    "    epochs=params[\"num_train_epochs\"],\n",
    "    dropout_rate=params[\"dropout_rate\"])\n",
    "\n",
    "score = model.score(X_test, y_test)\n",
    "\n",
    "print(f\"Average F1: {score:.4f}\")\n",
    "\n",
    "model.plot_losses()"
   ]
  },
  {
   "cell_type": "markdown",
   "metadata": {},
   "source": [
    "## Evaluation"
   ]
  },
  {
   "cell_type": "code",
   "execution_count": 10,
   "metadata": {},
   "outputs": [
    {
     "name": "stdout",
     "output_type": "stream",
     "text": [
      "Average F1: 0.1909\n"
     ]
    }
   ],
   "source": [
    "score = model.score(X_test, y_test)\n",
    "\n",
    "print(f\"Average F1: {score:.4f}\")"
   ]
  },
  {
   "cell_type": "markdown",
   "metadata": {},
   "source": [
    "## Test predictions"
   ]
  },
  {
   "cell_type": "code",
   "execution_count": 11,
   "metadata": {},
   "outputs": [
    {
     "data": {
      "text/html": [
       "<span class=\"tex2jax_ignore\"><div class=\"entities\" style=\"line-height: 2.5; direction: ltr\">USER falou \n",
       "<mark class=\"entity\" style=\"background: #ddd; padding: 0.45em 0.6em; margin: 0 0.25em; line-height: 1; border-radius: 0.35em;\">\n",
       "    merda\n",
       "    <span style=\"font-size: 0.8em; font-weight: bold; line-height: 1; border-radius: 0.35em; vertical-align: middle; margin-left: 0.5rem\">TOXIC</span>\n",
       "</mark>\n",
       " demais, mas ele não é nazista. Engraçado que defender regimes sanguinários comunista pode né? Ninguém fica puto. pois deveriam ficar puto igual.</div></span>"
      ],
      "text/plain": [
       "<IPython.core.display.HTML object>"
      ]
     },
     "metadata": {},
     "output_type": "display_data"
    },
    {
     "data": {
      "text/html": [
       "<span class=\"tex2jax_ignore\"><div class=\"entities\" style=\"line-height: 2.5; direction: ltr\">USER Chora menos cara, aceita que dói menos kkkk vira homem \n",
       "<mark class=\"entity\" style=\"background: #ddd; padding: 0.45em 0.6em; margin: 0 0.25em; line-height: 1; border-radius: 0.35em;\">\n",
       "    porra\n",
       "    <span style=\"font-size: 0.8em; font-weight: bold; line-height: 1; border-radius: 0.35em; vertical-align: middle; margin-left: 0.5rem\">TOXIC</span>\n",
       "</mark>\n",
       ", eu não fico aqui babando ovo de político não, pra mim, eles tem uma coisa a mais que eu, tem mais que se foder... Fica aí chupando a rola do seu mito</div></span>"
      ],
      "text/plain": [
       "<IPython.core.display.HTML object>"
      ]
     },
     "metadata": {},
     "output_type": "display_data"
    },
    {
     "data": {
      "text/html": [
       "<span class=\"tex2jax_ignore\"><div class=\"entities\" style=\"line-height: 2.5; direction: ltr\">Concordo. A sociedade está doente. Eu não vi o clip pois sei o que deve ser. Como um pai assiste uma porcaria dessa com a filha na sala ? Annita é um abjeto. URL</div></span>"
      ],
      "text/plain": [
       "<IPython.core.display.HTML object>"
      ]
     },
     "metadata": {},
     "output_type": "display_data"
    },
    {
     "data": {
      "text/html": [
       "<span class=\"tex2jax_ignore\"><div class=\"entities\" style=\"line-height: 2.5; direction: ltr\">USER USER USER USER USER USER kkkkkk os n conhecedor de futebol querendo falar \n",
       "<mark class=\"entity\" style=\"background: #ddd; padding: 0.45em 0.6em; margin: 0 0.25em; line-height: 1; border-radius: 0.35em;\">\n",
       "    merda\n",
       "    <span style=\"font-size: 0.8em; font-weight: bold; line-height: 1; border-radius: 0.35em; vertical-align: middle; margin-left: 0.5rem\">TOXIC</span>\n",
       "</mark>\n",
       " pq n sabia que o magico jogou aqui</div></span>"
      ],
      "text/plain": [
       "<IPython.core.display.HTML object>"
      ]
     },
     "metadata": {},
     "output_type": "display_data"
    },
    {
     "data": {
      "text/html": [
       "<span class=\"tex2jax_ignore\"><div class=\"entities\" style=\"line-height: 2.5; direction: ltr\">USER USER USER USER Comentário de alguém quebrado e fodido que tem raiva de quem cresceu e se deu bem na vida. Hahahhahahhahahaa derrotada</div></span>"
      ],
      "text/plain": [
       "<IPython.core.display.HTML object>"
      ]
     },
     "metadata": {},
     "output_type": "display_data"
    },
    {
     "data": {
      "text/html": [
       "<span class=\"tex2jax_ignore\"><div class=\"entities\" style=\"line-height: 2.5; direction: ltr\">Execução para quem fez isso com o mito. USER \n",
       "<mark class=\"entity\" style=\"background: #ddd; padding: 0.45em 0.6em; margin: 0 0.25em; line-height: 1; border-radius: 0.35em;\">\n",
       "    porra\n",
       "    <span style=\"font-size: 0.8em; font-weight: bold; line-height: 1; border-radius: 0.35em; vertical-align: middle; margin-left: 0.5rem\">TOXIC</span>\n",
       "</mark>\n",
       "....</div></span>"
      ],
      "text/plain": [
       "<IPython.core.display.HTML object>"
      ]
     },
     "metadata": {},
     "output_type": "display_data"
    },
    {
     "data": {
      "text/html": [
       "<span class=\"tex2jax_ignore\"><div class=\"entities\" style=\"line-height: 2.5; direction: ltr\">USER \n",
       "<mark class=\"entity\" style=\"background: #ddd; padding: 0.45em 0.6em; margin: 0 0.25em; line-height: 1; border-radius: 0.35em;\">\n",
       "    safado\n",
       "    <span style=\"font-size: 0.8em; font-weight: bold; line-height: 1; border-radius: 0.35em; vertical-align: middle; margin-left: 0.5rem\">TOXIC</span>\n",
       "</mark>\n",
       ",cretino bixa ruim,nunca jogou cmjgk morte a lucas berti URL</div></span>"
      ],
      "text/plain": [
       "<IPython.core.display.HTML object>"
      ]
     },
     "metadata": {},
     "output_type": "display_data"
    },
    {
     "data": {
      "text/html": [
       "<span class=\"tex2jax_ignore\"><div class=\"entities\" style=\"line-height: 2.5; direction: ltr\">USER \n",
       "<mark class=\"entity\" style=\"background: #ddd; padding: 0.45em 0.6em; margin: 0 0.25em; line-height: 1; border-radius: 0.35em;\">\n",
       "    Vai te fuder\n",
       "    <span style=\"font-size: 0.8em; font-weight: bold; line-height: 1; border-radius: 0.35em; vertical-align: middle; margin-left: 0.5rem\">TOXIC</span>\n",
       "</mark>\n",
       " hauagaag</div></span>"
      ],
      "text/plain": [
       "<IPython.core.display.HTML object>"
      ]
     },
     "metadata": {},
     "output_type": "display_data"
    },
    {
     "data": {
      "text/html": [
       "<span class=\"tex2jax_ignore\"><div class=\"entities\" style=\"line-height: 2.5; direction: ltr\">USER. USER!!!!!!!!! SEM mimimi HAHAHA</div></span>"
      ],
      "text/plain": [
       "<IPython.core.display.HTML object>"
      ]
     },
     "metadata": {},
     "output_type": "display_data"
    },
    {
     "data": {
      "text/html": [
       "<span class=\"tex2jax_ignore\"><div class=\"entities\" style=\"line-height: 2.5; direction: ltr\">35% de 209 milhões = 73 milhões e 150 mil Conclusão: vai estudar Matemática, energúmeno</div></span>"
      ],
      "text/plain": [
       "<IPython.core.display.HTML object>"
      ]
     },
     "metadata": {},
     "output_type": "display_data"
    }
   ],
   "source": [
    "for i in range(10):\n",
    "    with warnings.catch_warnings():\n",
    "        warnings.simplefilter(\"ignore\")\n",
    "        displacy.render(model._model(X_test[i]), style=\"ent\")"
   ]
  }
 ],
 "metadata": {
  "kernelspec": {
   "display_name": "Python 3.10.6 64-bit",
   "language": "python",
   "name": "python3"
  },
  "language_info": {
   "codemirror_mode": {
    "name": "ipython",
    "version": 3
   },
   "file_extension": ".py",
   "mimetype": "text/x-python",
   "name": "python",
   "nbconvert_exporter": "python",
   "pygments_lexer": "ipython3",
   "version": "3.10.7"
  },
  "orig_nbformat": 4,
  "vscode": {
   "interpreter": {
    "hash": "369f2c481f4da34e4445cda3fffd2e751bd1c4d706f27375911949ba6bb62e1c"
   }
  }
 },
 "nbformat": 4,
 "nbformat_minor": 2
}
