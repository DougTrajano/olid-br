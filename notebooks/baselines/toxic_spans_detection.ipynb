{
 "cells": [
  {
   "cell_type": "markdown",
   "metadata": {},
   "source": [
    "# Toxic Spans Detection\n",
    "\n",
    "[![Open In Colab](https://colab.research.google.com/assets/colab-badge.svg)](https://colab.research.google.com/github/DougTrajano/olid-br/blob/master/notebooks/baselines/toxic_spans_detection.ipynb)\n",
    "\n",
    "In this notebook, we will train a model that detects toxic spans in toxic comments. The results can be used to highligh which parts of a given comment are toxic.\n",
    "\n",
    "This task was first proposed in [SemEval 2021 Task 5: Toxic Spans Detection - CodaLab Competition](https://competitions.codalab.org/competitions/25623)."
   ]
  },
  {
   "cell_type": "markdown",
   "metadata": {},
   "source": [
    "## Imports"
   ]
  },
  {
   "cell_type": "code",
   "execution_count": 1,
   "metadata": {},
   "outputs": [],
   "source": [
    "import sys\n",
    "from pathlib import Path\n",
    "\n",
    "if str(Path(\".\").absolute().parent) not in sys.path:\n",
    "    sys.path.append(str(Path(\".\").absolute().parent.parent))"
   ]
  },
  {
   "cell_type": "code",
   "execution_count": 2,
   "metadata": {},
   "outputs": [
    {
     "data": {
      "text/plain": [
       "True"
      ]
     },
     "execution_count": 2,
     "metadata": {},
     "output_type": "execute_result"
    }
   ],
   "source": [
    "from dotenv import load_dotenv\n",
    "\n",
    "# Initialize the env vars\n",
    "load_dotenv(\"../../.env\")"
   ]
  },
  {
   "cell_type": "code",
   "execution_count": 3,
   "metadata": {},
   "outputs": [],
   "source": [
    "import ast\n",
    "import csv\n",
    "import itertools\n",
    "import os\n",
    "import random\n",
    "import string\n",
    "import sys\n",
    "import warnings\n",
    "\n",
    "import numpy as np\n",
    "import pandas as pd\n",
    "from typing import List\n",
    "\n",
    "import spacy\n",
    "from spacy import displacy\n",
    "from spacy.tokens import Doc\n",
    "from spacy.training.example import Example\n",
    "from sklearn.base import BaseEstimator\n",
    "import tensorflow as tf\n",
    "import matplotlib.pyplot as plt\n",
    "\n",
    "SPECIAL_CHARACTERS = string.whitespace"
   ]
  },
  {
   "cell_type": "code",
   "execution_count": 4,
   "metadata": {},
   "outputs": [],
   "source": [
    "from src.kaggle import download_dataset\n",
    "\n",
    "params = {\n",
    "    \"seed\": 1993,\n",
    "    \"model_type\": \"bert\",\n",
    "    \"model_name\": \"neuralmind/bert-base-portuguese-cased\",\n",
    "    \"num_train_epochs\": 30,\n",
    "    \"dropout_rate\": 0.1,\n",
    "    \"use_cuda\": True if tf.config.list_physical_devices(\"GPU\") else False\n",
    "}\n",
    "\n",
    "# Set seeds for reproducibility\n",
    "random.seed(params[\"seed\"])\n",
    "np.random.seed(params[\"seed\"])\n",
    "tf.random.set_seed(params[\"seed\"])\n",
    "spacy.util.fix_random_seed(params[\"seed\"])"
   ]
  },
  {
   "cell_type": "code",
   "execution_count": 5,
   "metadata": {},
   "outputs": [],
   "source": [
    "def f1_score(y_true: List[int], y_pred: List[int]):\n",
    "    \"\"\"\n",
    "    Compute the F1 score, also known as balanced F-score or F-measure.\n",
    "    (a.k.a. DICE) operating on two lists of offsets (e.g., character).\n",
    "    >>> assert f1([0, 1, 4, 5], [0, 1, 6]) == 0.5714285714285714\n",
    "\n",
    "    Args:\n",
    "    - y_true: a list of offsets serving as the ground truth\n",
    "    - y_pred: a list of predicted offsets\n",
    "\n",
    "    Returns:\n",
    "    - f1: the F1 score\n",
    "    \"\"\"\n",
    "    if len(y_true) == 0:\n",
    "        return 1. if len(y_pred) == 0 else 0.\n",
    "    if len(y_pred) == 0:\n",
    "        return 0.\n",
    "    pred_set = set(y_pred)\n",
    "    true_set = set(y_true)\n",
    "    nom = 2 * len(pred_set.intersection(true_set))\n",
    "    denom = len(pred_set) + len(true_set)\n",
    "    return float(nom)/float(denom)\n",
    "\n",
    "def _contiguous_ranges(span_list: List[int]):\n",
    "    \"\"\"Extracts continguous runs [1, 2, 3, 5, 6, 7] -> [(1,3), (5,7)].\n",
    "    \n",
    "    Args:\n",
    "    - span_list: a list of span indicies\n",
    "\n",
    "    Returns:\n",
    "    - A list of tuples containing the start and end of each continguous run.\n",
    "    \"\"\"\n",
    "    output = []\n",
    "    for _, span in itertools.groupby(\n",
    "        enumerate(span_list), lambda p: p[1] - p[0]):\n",
    "        span = list(span)\n",
    "        output.append((span[0][1], span[-1][1]))\n",
    "    return output\n",
    "\n",
    "def fix_spans(spans: List[int], text: str, special_characters: str = SPECIAL_CHARACTERS):\n",
    "    \"\"\"Applies minor edits to trim spans and remove singletons.\n",
    "    \n",
    "    Args:\n",
    "    - spans: a list of span indicies\n",
    "    - text: the text to which the spans apply\n",
    "    - special_characters: a string containing special characters to remove from the text\n",
    "\n",
    "    Returns:\n",
    "    - A list of fixed spans.\n",
    "    \"\"\"\n",
    "    cleaned = []\n",
    "    for begin, end in _contiguous_ranges(spans):\n",
    "        while text[begin] in special_characters and begin < end:\n",
    "            begin += 1\n",
    "        while text[end] in special_characters and begin < end:\n",
    "            end -= 1\n",
    "        if end - begin > 1:\n",
    "            cleaned.extend(range(begin, end + 1))\n",
    "    return cleaned\n",
    "\n",
    "def spans_to_ents(doc: Doc, spans: List[int], label: str):\n",
    "  \"\"\"Converts span indicies into spacy entity labels.\n",
    "  \n",
    "  Args:\n",
    "  - doc: a spacy Doc object\n",
    "  - spans: a list of span indicies\n",
    "  - label: the entity label to assign to the spans\n",
    "\n",
    "  Returns:\n",
    "  - A list containing start, end, and label.\n",
    "  \"\"\"\n",
    "  started = False\n",
    "  left, right, ents = 0, 0, []\n",
    "  for x in doc:\n",
    "    if x.pos_ == \"SPACE\":\n",
    "      continue\n",
    "    if spans.intersection(set(range(x.idx, x.idx + len(x.text)))):\n",
    "      if not started:\n",
    "        left, started = x.idx, True\n",
    "      right = x.idx + len(x.text)\n",
    "    elif started:\n",
    "      ents.append((left, right, label))\n",
    "      started = False\n",
    "  if started:\n",
    "    ents.append((left, right, label))\n",
    "  return ents"
   ]
  },
  {
   "cell_type": "code",
   "execution_count": 6,
   "metadata": {},
   "outputs": [],
   "source": [
    "class ToxicSpansDetection(BaseEstimator):\n",
    "    def __init__(self, spacy_model: str = \"pt_core_news_lg\", toxic_label: str = \"TOXIC\"):\n",
    "        \"\"\"Initializes the model.\n",
    "\n",
    "        Args:\n",
    "        - spacy_model: the spaCy model to use.\n",
    "        \"\"\"\n",
    "        self.nlp = spacy.load(spacy_model)\n",
    "        self.toxic_label = toxic_label\n",
    "        self._model = None\n",
    "        self.losses = []\n",
    "    \n",
    "    def fit(self, X: List[str], y: List[int], epochs: int = 30, dropout_rate: float = 0.5):\n",
    "        \"\"\"Fits the model.\n",
    "\n",
    "        Args:\n",
    "        - X: the list of texts.\n",
    "        - y: the list of labels.\n",
    "        - epochs: the number of epochs to train the model.\n",
    "        - dropout_rate: the dropout rate to use.\n",
    "        \"\"\"\n",
    "        training_data = []\n",
    "        for n, (text, spans) in enumerate(zip(X, y)):\n",
    "            doc = self.nlp(text)\n",
    "            ents = spans_to_ents(doc, set(spans), self.toxic_label)\n",
    "            training_data.append((doc.text, {\"entities\": ents}))\n",
    "\n",
    "        self._model = spacy.blank(\"pt\")\n",
    "        self._model.vocab.strings.add(self.toxic_label)\n",
    "        ner = self.nlp.create_pipe(\"ner\")\n",
    "        self._model.add_pipe(\"ner\", last=True)\n",
    "        ner.add_label(self.toxic_label)\n",
    "\n",
    "        pipe_exceptions = [\"ner\", \"trf_wordpiecer\", \"trf_tok2vec\"]\n",
    "        unaffected_pipes = [\n",
    "            pipe for pipe in self._model.pipe_names\n",
    "            if pipe not in pipe_exceptions]\n",
    "            \n",
    "        with self._model.disable_pipes(*unaffected_pipes):\n",
    "            self._model.begin_training()\n",
    "\n",
    "            for epoch in range(epochs):\n",
    "                random.shuffle(training_data)\n",
    "                losses = {}\n",
    "                batches = spacy.util.minibatch(\n",
    "                    items=training_data,\n",
    "                    size=spacy.util.compounding(\n",
    "                        4.0, 64.0, 1.01))\n",
    "\n",
    "            for batch in batches:\n",
    "                examples = []\n",
    "                for text, annotations in batch:\n",
    "                    example = Example.from_dict(self.nlp.make_doc(text), annotations)\n",
    "                    examples.append(example)\n",
    "                self._model.update(examples, drop=dropout_rate, losses=losses)\n",
    "                self.losses.append(losses[\"ner\"])\n",
    "\n",
    "    def _predict(self, X: str) -> List[int]: \n",
    "        \"\"\"Predicts the toxic spans for a given text.\n",
    "\n",
    "        Args:\n",
    "        - X: the text.\n",
    "\n",
    "        Returns:\n",
    "        - the toxic spans as a list of integers.\n",
    "        \"\"\"\n",
    "        predictions = []\n",
    "        doc = self._model(X)\n",
    "        for ent in doc.ents:\n",
    "            predictions.extend(range(ent.start_char, ent.end_char))\n",
    "        return predictions\n",
    "\n",
    "    def predict(self, X: List[str] | str) -> List[int] | List[List[int]]:\n",
    "        \"\"\"Predicts the labels.\n",
    "        \n",
    "        Args:\n",
    "        - X: the list of texts or a single text.\n",
    "\n",
    "        Returns:\n",
    "        - the toxic spans as a list of integers or a list of lists of integers.\n",
    "        \"\"\"\n",
    "        if isinstance(X, (list, tuple, np.ndarray)):\n",
    "            pred = []\n",
    "            for x in X:\n",
    "                pred.append(self._predict(x))\n",
    "        elif isinstance(X, str):\n",
    "            pred = self._predict(X)\n",
    "        else:\n",
    "            raise ValueError(\"X must be a list of strings or a single string.\")\n",
    "        return pred\n",
    "        \n",
    "    def score(self, X: List[str], y: List[int]):\n",
    "        scores = []\n",
    "        preds = []\n",
    "        for text, spans in zip(X, y):\n",
    "            pred = self.predict(text)\n",
    "            preds.append(pred)\n",
    "            score = f1_score(pred, spans)\n",
    "            scores.append(score)\n",
    "        return np.mean(scores)\n",
    "        \n",
    "    def save(self, path: str | Path):\n",
    "        \"\"\"Saves the model to a file.\n",
    "\n",
    "        Args:\n",
    "        - path: the path to the file.\n",
    "        \"\"\"\n",
    "        self._model.to_disk(path)\n",
    "\n",
    "    def plot_losses(self, xlabel: str = \"Epoch\", ylabel: str = \"Loss\"):\n",
    "        plt.plot(self.losses)\n",
    "        plt.xlabel(xlabel)\n",
    "        plt.ylabel(ylabel)\n",
    "        plt.show()"
   ]
  },
  {
   "cell_type": "markdown",
   "metadata": {},
   "source": [
    "## Load data\n",
    "\n",
    "In this section, we will download the data and load it into a pandas dataframe."
   ]
  },
  {
   "cell_type": "code",
   "execution_count": 7,
   "metadata": {},
   "outputs": [
    {
     "name": "stdout",
     "output_type": "stream",
     "text": [
      "Downloading OLID-BR from Kaggle.\n",
      "Shape: (4765, 17)\n"
     ]
    },
    {
     "data": {
      "text/html": [
       "<div>\n",
       "<style scoped>\n",
       "    .dataframe tbody tr th:only-of-type {\n",
       "        vertical-align: middle;\n",
       "    }\n",
       "\n",
       "    .dataframe tbody tr th {\n",
       "        vertical-align: top;\n",
       "    }\n",
       "\n",
       "    .dataframe thead th {\n",
       "        text-align: right;\n",
       "    }\n",
       "</style>\n",
       "<table border=\"1\" class=\"dataframe\">\n",
       "  <thead>\n",
       "    <tr style=\"text-align: right;\">\n",
       "      <th></th>\n",
       "      <th>id</th>\n",
       "      <th>text</th>\n",
       "      <th>is_offensive</th>\n",
       "      <th>is_targeted</th>\n",
       "      <th>targeted_type</th>\n",
       "      <th>toxic_spans</th>\n",
       "      <th>health</th>\n",
       "      <th>ideology</th>\n",
       "      <th>insult</th>\n",
       "      <th>lgbtqphobia</th>\n",
       "      <th>other_lifestyle</th>\n",
       "      <th>physical_aspects</th>\n",
       "      <th>profanity_obscene</th>\n",
       "      <th>racism</th>\n",
       "      <th>religious_intolerance</th>\n",
       "      <th>sexism</th>\n",
       "      <th>xenophobia</th>\n",
       "    </tr>\n",
       "  </thead>\n",
       "  <tbody>\n",
       "    <tr>\n",
       "      <th>0</th>\n",
       "      <td>430b13705cf34e13b74bc999425187c3</td>\n",
       "      <td>USER USER é muito bom. USER ^^ E claro a equip...</td>\n",
       "      <td>NOT</td>\n",
       "      <td>UNT</td>\n",
       "      <td>NaN</td>\n",
       "      <td>NaN</td>\n",
       "      <td>False</td>\n",
       "      <td>False</td>\n",
       "      <td>False</td>\n",
       "      <td>False</td>\n",
       "      <td>False</td>\n",
       "      <td>False</td>\n",
       "      <td>False</td>\n",
       "      <td>False</td>\n",
       "      <td>False</td>\n",
       "      <td>False</td>\n",
       "      <td>False</td>\n",
       "    </tr>\n",
       "    <tr>\n",
       "      <th>1</th>\n",
       "      <td>c779826dc43f460cb18e8429ca443477</td>\n",
       "      <td>Pior do que adolescentezinhas de merda...são p...</td>\n",
       "      <td>OFF</td>\n",
       "      <td>UNT</td>\n",
       "      <td>NaN</td>\n",
       "      <td>[0, 1, 2, 3, 4, 5, 6, 7, 8, 9, 10, 11, 12, 13,...</td>\n",
       "      <td>False</td>\n",
       "      <td>False</td>\n",
       "      <td>True</td>\n",
       "      <td>False</td>\n",
       "      <td>False</td>\n",
       "      <td>False</td>\n",
       "      <td>True</td>\n",
       "      <td>False</td>\n",
       "      <td>False</td>\n",
       "      <td>True</td>\n",
       "      <td>False</td>\n",
       "    </tr>\n",
       "    <tr>\n",
       "      <th>2</th>\n",
       "      <td>e64148caa4474fc79298e01d0dda8f5e</td>\n",
       "      <td>USER Toma no cu é vitamina como tu e tua prima.</td>\n",
       "      <td>OFF</td>\n",
       "      <td>TIN</td>\n",
       "      <td>GRP</td>\n",
       "      <td>[5, 6, 7, 8, 9, 10, 11, 12, 13, 14, 15, 16, 17...</td>\n",
       "      <td>False</td>\n",
       "      <td>False</td>\n",
       "      <td>True</td>\n",
       "      <td>False</td>\n",
       "      <td>False</td>\n",
       "      <td>False</td>\n",
       "      <td>True</td>\n",
       "      <td>False</td>\n",
       "      <td>False</td>\n",
       "      <td>False</td>\n",
       "      <td>False</td>\n",
       "    </tr>\n",
       "    <tr>\n",
       "      <th>3</th>\n",
       "      <td>cc66b54eeec24607a67e2259134a1cdd</td>\n",
       "      <td>Muito bom, pena a circunstâncias serem ruins, ...</td>\n",
       "      <td>OFF</td>\n",
       "      <td>UNT</td>\n",
       "      <td>NaN</td>\n",
       "      <td>[119, 120, 121, 122, 123, 124, 125, 126, 127, ...</td>\n",
       "      <td>False</td>\n",
       "      <td>False</td>\n",
       "      <td>True</td>\n",
       "      <td>False</td>\n",
       "      <td>False</td>\n",
       "      <td>False</td>\n",
       "      <td>False</td>\n",
       "      <td>False</td>\n",
       "      <td>False</td>\n",
       "      <td>False</td>\n",
       "      <td>False</td>\n",
       "    </tr>\n",
       "    <tr>\n",
       "      <th>4</th>\n",
       "      <td>a3d7839456ae4258a70298fcf637952e</td>\n",
       "      <td>Podia ter beijo também, pra ver se o homofóbic...</td>\n",
       "      <td>OFF</td>\n",
       "      <td>UNT</td>\n",
       "      <td>NaN</td>\n",
       "      <td>[24, 25, 26, 27, 28, 29, 30, 31, 32, 33, 34, 3...</td>\n",
       "      <td>False</td>\n",
       "      <td>False</td>\n",
       "      <td>True</td>\n",
       "      <td>False</td>\n",
       "      <td>False</td>\n",
       "      <td>False</td>\n",
       "      <td>False</td>\n",
       "      <td>False</td>\n",
       "      <td>False</td>\n",
       "      <td>False</td>\n",
       "      <td>False</td>\n",
       "    </tr>\n",
       "  </tbody>\n",
       "</table>\n",
       "</div>"
      ],
      "text/plain": [
       "                                 id  \\\n",
       "0  430b13705cf34e13b74bc999425187c3   \n",
       "1  c779826dc43f460cb18e8429ca443477   \n",
       "2  e64148caa4474fc79298e01d0dda8f5e   \n",
       "3  cc66b54eeec24607a67e2259134a1cdd   \n",
       "4  a3d7839456ae4258a70298fcf637952e   \n",
       "\n",
       "                                                text is_offensive is_targeted  \\\n",
       "0  USER USER é muito bom. USER ^^ E claro a equip...          NOT         UNT   \n",
       "1  Pior do que adolescentezinhas de merda...são p...          OFF         UNT   \n",
       "2    USER Toma no cu é vitamina como tu e tua prima.          OFF         TIN   \n",
       "3  Muito bom, pena a circunstâncias serem ruins, ...          OFF         UNT   \n",
       "4  Podia ter beijo também, pra ver se o homofóbic...          OFF         UNT   \n",
       "\n",
       "  targeted_type                                        toxic_spans  health  \\\n",
       "0           NaN                                                NaN   False   \n",
       "1           NaN  [0, 1, 2, 3, 4, 5, 6, 7, 8, 9, 10, 11, 12, 13,...   False   \n",
       "2           GRP  [5, 6, 7, 8, 9, 10, 11, 12, 13, 14, 15, 16, 17...   False   \n",
       "3           NaN  [119, 120, 121, 122, 123, 124, 125, 126, 127, ...   False   \n",
       "4           NaN  [24, 25, 26, 27, 28, 29, 30, 31, 32, 33, 34, 3...   False   \n",
       "\n",
       "   ideology  insult  lgbtqphobia  other_lifestyle  physical_aspects  \\\n",
       "0     False   False        False            False             False   \n",
       "1     False    True        False            False             False   \n",
       "2     False    True        False            False             False   \n",
       "3     False    True        False            False             False   \n",
       "4     False    True        False            False             False   \n",
       "\n",
       "   profanity_obscene  racism  religious_intolerance  sexism  xenophobia  \n",
       "0              False   False                  False   False       False  \n",
       "1               True   False                  False    True       False  \n",
       "2               True   False                  False   False       False  \n",
       "3              False   False                  False   False       False  \n",
       "4              False   False                  False   False       False  "
      ]
     },
     "execution_count": 7,
     "metadata": {},
     "output_type": "execute_result"
    }
   ],
   "source": [
    "files = download_dataset(\n",
    "    [\"train.csv\", \"test.csv\"]\n",
    ")\n",
    "\n",
    "train_data = files[\"train.csv\"]\n",
    "test_data = files[\"test.csv\"]\n",
    "\n",
    "print(f\"Shape: {train_data.shape}\")\n",
    "train_data.head()"
   ]
  },
  {
   "cell_type": "code",
   "execution_count": 8,
   "metadata": {},
   "outputs": [
    {
     "name": "stdout",
     "output_type": "stream",
     "text": [
      "Shape: (1589, 17)\n"
     ]
    },
    {
     "data": {
      "text/html": [
       "<div>\n",
       "<style scoped>\n",
       "    .dataframe tbody tr th:only-of-type {\n",
       "        vertical-align: middle;\n",
       "    }\n",
       "\n",
       "    .dataframe tbody tr th {\n",
       "        vertical-align: top;\n",
       "    }\n",
       "\n",
       "    .dataframe thead th {\n",
       "        text-align: right;\n",
       "    }\n",
       "</style>\n",
       "<table border=\"1\" class=\"dataframe\">\n",
       "  <thead>\n",
       "    <tr style=\"text-align: right;\">\n",
       "      <th></th>\n",
       "      <th>id</th>\n",
       "      <th>text</th>\n",
       "      <th>is_offensive</th>\n",
       "      <th>is_targeted</th>\n",
       "      <th>targeted_type</th>\n",
       "      <th>toxic_spans</th>\n",
       "      <th>health</th>\n",
       "      <th>ideology</th>\n",
       "      <th>insult</th>\n",
       "      <th>lgbtqphobia</th>\n",
       "      <th>other_lifestyle</th>\n",
       "      <th>physical_aspects</th>\n",
       "      <th>profanity_obscene</th>\n",
       "      <th>racism</th>\n",
       "      <th>religious_intolerance</th>\n",
       "      <th>sexism</th>\n",
       "      <th>xenophobia</th>\n",
       "    </tr>\n",
       "  </thead>\n",
       "  <tbody>\n",
       "    <tr>\n",
       "      <th>0</th>\n",
       "      <td>da19df36730945f08df3d09efa354876</td>\n",
       "      <td>USER Adorei o comercial também Jesus. Só achei...</td>\n",
       "      <td>OFF</td>\n",
       "      <td>UNT</td>\n",
       "      <td>NaN</td>\n",
       "      <td>[52, 53, 54, 55, 56, 57, 58, 59, 60, 61, 62, 6...</td>\n",
       "      <td>False</td>\n",
       "      <td>False</td>\n",
       "      <td>True</td>\n",
       "      <td>False</td>\n",
       "      <td>False</td>\n",
       "      <td>False</td>\n",
       "      <td>True</td>\n",
       "      <td>False</td>\n",
       "      <td>False</td>\n",
       "      <td>False</td>\n",
       "      <td>False</td>\n",
       "    </tr>\n",
       "    <tr>\n",
       "      <th>1</th>\n",
       "      <td>80f1a8c981864887b13963fed1261acc</td>\n",
       "      <td>Cara isso foi muito babaca geral USER conhece ...</td>\n",
       "      <td>OFF</td>\n",
       "      <td>TIN</td>\n",
       "      <td>GRP</td>\n",
       "      <td>[0, 1, 2, 3, 4, 5, 6, 7, 8, 9, 10, 11, 12, 13,...</td>\n",
       "      <td>False</td>\n",
       "      <td>False</td>\n",
       "      <td>True</td>\n",
       "      <td>False</td>\n",
       "      <td>False</td>\n",
       "      <td>False</td>\n",
       "      <td>False</td>\n",
       "      <td>False</td>\n",
       "      <td>False</td>\n",
       "      <td>False</td>\n",
       "      <td>False</td>\n",
       "    </tr>\n",
       "    <tr>\n",
       "      <th>2</th>\n",
       "      <td>2f67025f913e4a6292e3d000d9e2b5a8</td>\n",
       "      <td>Se vc for porco, folgado e relaxado, você não ...</td>\n",
       "      <td>OFF</td>\n",
       "      <td>UNT</td>\n",
       "      <td>NaN</td>\n",
       "      <td>[0, 1, 2, 3, 4, 5, 6, 7, 8, 9, 10, 11, 12, 13,...</td>\n",
       "      <td>False</td>\n",
       "      <td>False</td>\n",
       "      <td>True</td>\n",
       "      <td>False</td>\n",
       "      <td>False</td>\n",
       "      <td>False</td>\n",
       "      <td>False</td>\n",
       "      <td>False</td>\n",
       "      <td>False</td>\n",
       "      <td>False</td>\n",
       "      <td>False</td>\n",
       "    </tr>\n",
       "    <tr>\n",
       "      <th>3</th>\n",
       "      <td>738ccd4476784f47af3a5a6cfdda4695</td>\n",
       "      <td>Se fosse um sniper ia ser louco</td>\n",
       "      <td>OFF</td>\n",
       "      <td>UNT</td>\n",
       "      <td>NaN</td>\n",
       "      <td>[26, 27, 28, 29, 30]</td>\n",
       "      <td>False</td>\n",
       "      <td>False</td>\n",
       "      <td>True</td>\n",
       "      <td>False</td>\n",
       "      <td>False</td>\n",
       "      <td>True</td>\n",
       "      <td>False</td>\n",
       "      <td>False</td>\n",
       "      <td>False</td>\n",
       "      <td>False</td>\n",
       "      <td>False</td>\n",
       "    </tr>\n",
       "    <tr>\n",
       "      <th>4</th>\n",
       "      <td>e0064da693bd4c9e90ce8e6db8bd3bbb</td>\n",
       "      <td>USER é o meu saco USER USER USER</td>\n",
       "      <td>OFF</td>\n",
       "      <td>UNT</td>\n",
       "      <td>NaN</td>\n",
       "      <td>[13, 14, 15, 16]</td>\n",
       "      <td>False</td>\n",
       "      <td>False</td>\n",
       "      <td>True</td>\n",
       "      <td>False</td>\n",
       "      <td>False</td>\n",
       "      <td>False</td>\n",
       "      <td>True</td>\n",
       "      <td>False</td>\n",
       "      <td>False</td>\n",
       "      <td>False</td>\n",
       "      <td>False</td>\n",
       "    </tr>\n",
       "  </tbody>\n",
       "</table>\n",
       "</div>"
      ],
      "text/plain": [
       "                                 id  \\\n",
       "0  da19df36730945f08df3d09efa354876   \n",
       "1  80f1a8c981864887b13963fed1261acc   \n",
       "2  2f67025f913e4a6292e3d000d9e2b5a8   \n",
       "3  738ccd4476784f47af3a5a6cfdda4695   \n",
       "4  e0064da693bd4c9e90ce8e6db8bd3bbb   \n",
       "\n",
       "                                                text is_offensive is_targeted  \\\n",
       "0  USER Adorei o comercial também Jesus. Só achei...          OFF         UNT   \n",
       "1  Cara isso foi muito babaca geral USER conhece ...          OFF         TIN   \n",
       "2  Se vc for porco, folgado e relaxado, você não ...          OFF         UNT   \n",
       "3                    Se fosse um sniper ia ser louco          OFF         UNT   \n",
       "4                   USER é o meu saco USER USER USER          OFF         UNT   \n",
       "\n",
       "  targeted_type                                        toxic_spans  health  \\\n",
       "0           NaN  [52, 53, 54, 55, 56, 57, 58, 59, 60, 61, 62, 6...   False   \n",
       "1           GRP  [0, 1, 2, 3, 4, 5, 6, 7, 8, 9, 10, 11, 12, 13,...   False   \n",
       "2           NaN  [0, 1, 2, 3, 4, 5, 6, 7, 8, 9, 10, 11, 12, 13,...   False   \n",
       "3           NaN                               [26, 27, 28, 29, 30]   False   \n",
       "4           NaN                                   [13, 14, 15, 16]   False   \n",
       "\n",
       "   ideology  insult  lgbtqphobia  other_lifestyle  physical_aspects  \\\n",
       "0     False    True        False            False             False   \n",
       "1     False    True        False            False             False   \n",
       "2     False    True        False            False             False   \n",
       "3     False    True        False            False              True   \n",
       "4     False    True        False            False             False   \n",
       "\n",
       "   profanity_obscene  racism  religious_intolerance  sexism  xenophobia  \n",
       "0               True   False                  False   False       False  \n",
       "1              False   False                  False   False       False  \n",
       "2              False   False                  False   False       False  \n",
       "3              False   False                  False   False       False  \n",
       "4               True   False                  False   False       False  "
      ]
     },
     "execution_count": 8,
     "metadata": {},
     "output_type": "execute_result"
    }
   ],
   "source": [
    "print(f\"Shape: {test_data.shape}\")\n",
    "test_data.head()"
   ]
  },
  {
   "cell_type": "code",
   "execution_count": 9,
   "metadata": {},
   "outputs": [
    {
     "name": "stdout",
     "output_type": "stream",
     "text": [
      "Training set: 3930\n",
      "Test set: 1312\n"
     ]
    }
   ],
   "source": [
    "train_data = train_data[\n",
    "    (train_data[\"toxic_spans\"].notnull()) & \\\n",
    "        (train_data[\"toxic_spans\"] != \"[]\")]\n",
    "\n",
    "X_train = train_data[\"text\"].values\n",
    "y_train = [ast.literal_eval(y) for y in train_data[\"toxic_spans\"].values]\n",
    "\n",
    "test_data = test_data[\n",
    "    (test_data[\"toxic_spans\"].notnull()) & \\\n",
    "        (test_data[\"toxic_spans\"] != \"[]\")]\n",
    "\n",
    "X_test = test_data[\"text\"].values\n",
    "y_test = [ast.literal_eval(y) for y in test_data[\"toxic_spans\"].values]\n",
    "\n",
    "print(f\"Training set: {len(X_train)}\")\n",
    "print(f\"Test set: {len(X_test)}\")"
   ]
  },
  {
   "cell_type": "markdown",
   "metadata": {},
   "source": [
    "## Training model"
   ]
  },
  {
   "cell_type": "code",
   "execution_count": 13,
   "metadata": {},
   "outputs": [
    {
     "data": {
      "image/png": "[encoded data removed]",
      "text/plain": [
       "<Figure size 432x288 with 1 Axes>"
      ]
     },
     "metadata": {},
     "output_type": "display_data"
    }
   ],
   "source": [
    "model = ToxicSpansDetection()\n",
    "\n",
    "model.fit(\n",
    "    X_train, y_train,\n",
    "    epochs=params[\"num_train_epochs\"],\n",
    "    dropout_rate=params[\"dropout_rate\"])\n",
    "\n",
    "model.plot_losses()"
   ]
  },
  {
   "cell_type": "markdown",
   "metadata": {},
   "source": [
    "## Evaluation"
   ]
  },
  {
   "cell_type": "code",
   "execution_count": 14,
   "metadata": {},
   "outputs": [
    {
     "name": "stdout",
     "output_type": "stream",
     "text": [
      "Avg F1 (training set): 0.3196\n",
      "Avg F1 (test set): 0.2917\n"
     ]
    }
   ],
   "source": [
    "train_score = model.score(X_train, y_train)\n",
    "test_score = model.score(X_test, y_test)\n",
    "\n",
    "print(f\"Avg F1 (training set): {train_score:.4f}\")\n",
    "print(f\"Avg F1 (test set): {test_score:.4f}\")"
   ]
  },
  {
   "cell_type": "markdown",
   "metadata": {},
   "source": [
    "## Test predictions"
   ]
  },
  {
   "cell_type": "code",
   "execution_count": 15,
   "metadata": {},
   "outputs": [
    {
     "data": {
      "text/html": [
       "<span class=\"tex2jax_ignore\"><div class=\"entities\" style=\"line-height: 2.5; direction: ltr\">USER Adorei o comercial também Jesus. Só achei que faltou um beijinho gay estilo Jesus e USER sabe?! Rsrsrs</div></span>"
      ],
      "text/plain": [
       "<IPython.core.display.HTML object>"
      ]
     },
     "metadata": {},
     "output_type": "display_data"
    },
    {
     "data": {
      "text/html": [
       "<span class=\"tex2jax_ignore\"><div class=\"entities\" style=\"line-height: 2.5; direction: ltr\">Cara isso foi muito \n",
       "<mark class=\"entity\" style=\"background: #ddd; padding: 0.45em 0.6em; margin: 0 0.25em; line-height: 1; border-radius: 0.35em;\">\n",
       "    babaca\n",
       "    <span style=\"font-size: 0.8em; font-weight: bold; line-height: 1; border-radius: 0.35em; vertical-align: middle; margin-left: 0.5rem\">TOXIC</span>\n",
       "</mark>\n",
       " geral USER conhece o Monark e as \n",
       "<mark class=\"entity\" style=\"background: #ddd; padding: 0.45em 0.6em; margin: 0 0.25em; line-height: 1; border-radius: 0.35em;\">\n",
       "    merda\n",
       "    <span style=\"font-size: 0.8em; font-weight: bold; line-height: 1; border-radius: 0.35em; vertical-align: middle; margin-left: 0.5rem\">TOXIC</span>\n",
       "</mark>\n",
       " que ele fala. Isso é muito \n",
       "<mark class=\"entity\" style=\"background: #ddd; padding: 0.45em 0.6em; margin: 0 0.25em; line-height: 1; border-radius: 0.35em;\">\n",
       "    merda\n",
       "    <span style=\"font-size: 0.8em; font-weight: bold; line-height: 1; border-radius: 0.35em; vertical-align: middle; margin-left: 0.5rem\">TOXIC</span>\n",
       "</mark>\n",
       " eu USER E to decepcionada pra \n",
       "<mark class=\"entity\" style=\"background: #ddd; padding: 0.45em 0.6em; margin: 0 0.25em; line-height: 1; border-radius: 0.35em;\">\n",
       "    caralho\n",
       "    <span style=\"font-size: 0.8em; font-weight: bold; line-height: 1; border-radius: 0.35em; vertical-align: middle; margin-left: 0.5rem\">TOXIC</span>\n",
       "</mark>\n",
       " mas não cabe a mim dizer</div></span>"
      ],
      "text/plain": [
       "<IPython.core.display.HTML object>"
      ]
     },
     "metadata": {},
     "output_type": "display_data"
    },
    {
     "data": {
      "text/html": [
       "<span class=\"tex2jax_ignore\"><div class=\"entities\" style=\"line-height: 2.5; direction: ltr\">Se vc for porco, folgado e relaxado, você não ia conseguir viver com ela mesmo. Realmente, gente escrota não ia conseguir conviver com a Jojo</div></span>"
      ],
      "text/plain": [
       "<IPython.core.display.HTML object>"
      ]
     },
     "metadata": {},
     "output_type": "display_data"
    },
    {
     "data": {
      "text/html": [
       "<span class=\"tex2jax_ignore\"><div class=\"entities\" style=\"line-height: 2.5; direction: ltr\">Se fosse um sniper ia ser \n",
       "<mark class=\"entity\" style=\"background: #ddd; padding: 0.45em 0.6em; margin: 0 0.25em; line-height: 1; border-radius: 0.35em;\">\n",
       "    louco\n",
       "    <span style=\"font-size: 0.8em; font-weight: bold; line-height: 1; border-radius: 0.35em; vertical-align: middle; margin-left: 0.5rem\">TOXIC</span>\n",
       "</mark>\n",
       "</div></span>"
      ],
      "text/plain": [
       "<IPython.core.display.HTML object>"
      ]
     },
     "metadata": {},
     "output_type": "display_data"
    },
    {
     "data": {
      "text/html": [
       "<span class=\"tex2jax_ignore\"><div class=\"entities\" style=\"line-height: 2.5; direction: ltr\">USER é o meu saco USER USER USER</div></span>"
      ],
      "text/plain": [
       "<IPython.core.display.HTML object>"
      ]
     },
     "metadata": {},
     "output_type": "display_data"
    },
    {
     "data": {
      "text/html": [
       "<span class=\"tex2jax_ignore\"><div class=\"entities\" style=\"line-height: 2.5; direction: ltr\">Vergonha,ainda segura a bandeira de um país de verdade ,não esse puteiro que tá tendo aqui. USER tá preocupado mais com a fama do que com o Brasil, nunca mais verá meu apoio</div></span>"
      ],
      "text/plain": [
       "<IPython.core.display.HTML object>"
      ]
     },
     "metadata": {},
     "output_type": "display_data"
    },
    {
     "data": {
      "text/html": [
       "<span class=\"tex2jax_ignore\"><div class=\"entities\" style=\"line-height: 2.5; direction: ltr\">USER Que vagabunda hipócrita, pq eu beijei as duas então geral se traiu e ela n pode reclamar</div></span>"
      ],
      "text/plain": [
       "<IPython.core.display.HTML object>"
      ]
     },
     "metadata": {},
     "output_type": "display_data"
    },
    {
     "data": {
      "text/html": [
       "<span class=\"tex2jax_ignore\"><div class=\"entities\" style=\"line-height: 2.5; direction: ltr\">USER USER, exatamente. E quem abusa pra caralh* também? A família tradicional brasileira e os USER.</div></span>"
      ],
      "text/plain": [
       "<IPython.core.display.HTML object>"
      ]
     },
     "metadata": {},
     "output_type": "display_data"
    },
    {
     "data": {
      "text/html": [
       "<span class=\"tex2jax_ignore\"><div class=\"entities\" style=\"line-height: 2.5; direction: ltr\">Não vai arrumar trabalho nem de limpar bosta de cavalo na rua... USER</div></span>"
      ],
      "text/plain": [
       "<IPython.core.display.HTML object>"
      ]
     },
     "metadata": {},
     "output_type": "display_data"
    },
    {
     "data": {
      "text/html": [
       "<span class=\"tex2jax_ignore\"><div class=\"entities\" style=\"line-height: 2.5; direction: ltr\">O diabo é sujo mesmo, ele tem orgulho de contar cada detalhe pra envergonhar mais ainda ela. 🤢</div></span>"
      ],
      "text/plain": [
       "<IPython.core.display.HTML object>"
      ]
     },
     "metadata": {},
     "output_type": "display_data"
    }
   ],
   "source": [
    "for i in range(10):\n",
    "    with warnings.catch_warnings():\n",
    "        warnings.simplefilter(\"ignore\")\n",
    "        displacy.render(model._model(X_test[i]), style=\"ent\")"
   ]
  }
 ],
 "metadata": {
  "kernelspec": {
   "display_name": "Python 3.10.6 64-bit",
   "language": "python",
   "name": "python3"
  },
  "language_info": {
   "codemirror_mode": {
    "name": "ipython",
    "version": 3
   },
   "file_extension": ".py",
   "mimetype": "text/x-python",
   "name": "python",
   "nbconvert_exporter": "python",
   "pygments_lexer": "ipython3",
   "version": "3.10.7"
  },
  "orig_nbformat": 4,
  "vscode": {
   "interpreter": {
    "hash": "369f2c481f4da34e4445cda3fffd2e751bd1c4d706f27375911949ba6bb62e1c"
   }
  }
 },
 "nbformat": 4,
 "nbformat_minor": 2
}
