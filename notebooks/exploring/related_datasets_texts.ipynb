{
 "cells": [
  {
   "attachments": {},
   "cell_type": "markdown",
   "metadata": {},
   "source": [
    "# Analysis of the related datasets texts\n",
    "\n",
    "In this notebook, we will compare the texts of the related datasets.\n",
    "\n",
    "Essentially, we will compare the text labels from the related datasets and what was assigned in OLID-BR."
   ]
  },
  {
   "cell_type": "code",
   "execution_count": 1,
   "metadata": {},
   "outputs": [],
   "source": [
    "import sys\n",
    "from pathlib import Path\n",
    "\n",
    "if str(Path(\".\").absolute().parent) not in sys.path:\n",
    "    sys.path.append(str(Path(\".\").absolute().parent.parent))"
   ]
  },
  {
   "cell_type": "code",
   "execution_count": 2,
   "metadata": {},
   "outputs": [
    {
     "data": {
      "text/plain": [
       "True"
      ]
     },
     "execution_count": 2,
     "metadata": {},
     "output_type": "execute_result"
    }
   ],
   "source": [
    "from dotenv import load_dotenv\n",
    "\n",
    "# Initialize the env vars\n",
    "load_dotenv(\"../../.env\")"
   ]
  },
  {
   "cell_type": "code",
   "execution_count": 3,
   "metadata": {},
   "outputs": [],
   "source": [
    "import numpy as np\n",
    "import pandas as pd\n",
    "import seaborn as sns\n",
    "import matplotlib.pyplot as plt\n",
    "from src.settings import AppSettings\n",
    "from src.kaggle import download_dataset\n",
    "\n",
    "sns.set_theme(\n",
    "    style=\"white\",\n",
    "    rc={\n",
    "        \"axes.spines.right\": False,\n",
    "        \"axes.spines.top\": False\n",
    "    }\n",
    ")\n",
    "\n",
    "args = AppSettings()"
   ]
  },
  {
   "attachments": {},
   "cell_type": "markdown",
   "metadata": {},
   "source": [
    "## Download OLID-BR dataset"
   ]
  },
  {
   "cell_type": "code",
   "execution_count": 4,
   "metadata": {},
   "outputs": [
    {
     "name": "stdout",
     "output_type": "stream",
     "text": [
      "Downloading OLID-BR from Kaggle.\n"
     ]
    }
   ],
   "source": [
    "files = download_dataset(\n",
    "    output_files=[\n",
    "        \"train.csv\",\n",
    "        \"test.csv\",\n",
    "        \"train.json\",\n",
    "        \"test.json\"\n",
    "    ]\n",
    ")"
   ]
  },
  {
   "cell_type": "code",
   "execution_count": 5,
   "metadata": {},
   "outputs": [
    {
     "name": "stdout",
     "output_type": "stream",
     "text": [
      "Shape: (4765, 17)\n"
     ]
    },
    {
     "data": {
      "text/html": [
       "<div>\n",
       "<style scoped>\n",
       "    .dataframe tbody tr th:only-of-type {\n",
       "        vertical-align: middle;\n",
       "    }\n",
       "\n",
       "    .dataframe tbody tr th {\n",
       "        vertical-align: top;\n",
       "    }\n",
       "\n",
       "    .dataframe thead th {\n",
       "        text-align: right;\n",
       "    }\n",
       "</style>\n",
       "<table border=\"1\" class=\"dataframe\">\n",
       "  <thead>\n",
       "    <tr style=\"text-align: right;\">\n",
       "      <th></th>\n",
       "      <th>id</th>\n",
       "      <th>text</th>\n",
       "      <th>is_offensive</th>\n",
       "      <th>is_targeted</th>\n",
       "      <th>targeted_type</th>\n",
       "      <th>toxic_spans</th>\n",
       "      <th>health</th>\n",
       "      <th>ideology</th>\n",
       "      <th>insult</th>\n",
       "      <th>lgbtqphobia</th>\n",
       "      <th>other_lifestyle</th>\n",
       "      <th>physical_aspects</th>\n",
       "      <th>profanity_obscene</th>\n",
       "      <th>racism</th>\n",
       "      <th>religious_intolerance</th>\n",
       "      <th>sexism</th>\n",
       "      <th>xenophobia</th>\n",
       "    </tr>\n",
       "  </thead>\n",
       "  <tbody>\n",
       "    <tr>\n",
       "      <th>0</th>\n",
       "      <td>430b13705cf34e13b74bc999425187c3</td>\n",
       "      <td>USER USER é muito bom. USER ^^ E claro a equip...</td>\n",
       "      <td>NOT</td>\n",
       "      <td>UNT</td>\n",
       "      <td>NaN</td>\n",
       "      <td>NaN</td>\n",
       "      <td>False</td>\n",
       "      <td>False</td>\n",
       "      <td>False</td>\n",
       "      <td>False</td>\n",
       "      <td>False</td>\n",
       "      <td>False</td>\n",
       "      <td>False</td>\n",
       "      <td>False</td>\n",
       "      <td>False</td>\n",
       "      <td>False</td>\n",
       "      <td>False</td>\n",
       "    </tr>\n",
       "    <tr>\n",
       "      <th>1</th>\n",
       "      <td>c779826dc43f460cb18e8429ca443477</td>\n",
       "      <td>Pior do que adolescentezinhas de merda...são p...</td>\n",
       "      <td>OFF</td>\n",
       "      <td>UNT</td>\n",
       "      <td>NaN</td>\n",
       "      <td>[0, 1, 2, 3, 4, 5, 6, 7, 8, 9, 10, 11, 12, 13,...</td>\n",
       "      <td>False</td>\n",
       "      <td>False</td>\n",
       "      <td>True</td>\n",
       "      <td>False</td>\n",
       "      <td>False</td>\n",
       "      <td>False</td>\n",
       "      <td>True</td>\n",
       "      <td>False</td>\n",
       "      <td>False</td>\n",
       "      <td>True</td>\n",
       "      <td>False</td>\n",
       "    </tr>\n",
       "    <tr>\n",
       "      <th>2</th>\n",
       "      <td>e64148caa4474fc79298e01d0dda8f5e</td>\n",
       "      <td>USER Toma no cu é vitamina como tu e tua prima.</td>\n",
       "      <td>OFF</td>\n",
       "      <td>TIN</td>\n",
       "      <td>GRP</td>\n",
       "      <td>[5, 6, 7, 8, 9, 10, 11, 12, 13, 14, 15, 16, 17...</td>\n",
       "      <td>False</td>\n",
       "      <td>False</td>\n",
       "      <td>True</td>\n",
       "      <td>False</td>\n",
       "      <td>False</td>\n",
       "      <td>False</td>\n",
       "      <td>True</td>\n",
       "      <td>False</td>\n",
       "      <td>False</td>\n",
       "      <td>False</td>\n",
       "      <td>False</td>\n",
       "    </tr>\n",
       "    <tr>\n",
       "      <th>3</th>\n",
       "      <td>cc66b54eeec24607a67e2259134a1cdd</td>\n",
       "      <td>Muito bom, pena a circunstâncias serem ruins, ...</td>\n",
       "      <td>OFF</td>\n",
       "      <td>UNT</td>\n",
       "      <td>NaN</td>\n",
       "      <td>[119, 120, 121, 122, 123, 124, 125, 126, 127, ...</td>\n",
       "      <td>False</td>\n",
       "      <td>False</td>\n",
       "      <td>True</td>\n",
       "      <td>False</td>\n",
       "      <td>False</td>\n",
       "      <td>False</td>\n",
       "      <td>False</td>\n",
       "      <td>False</td>\n",
       "      <td>False</td>\n",
       "      <td>False</td>\n",
       "      <td>False</td>\n",
       "    </tr>\n",
       "    <tr>\n",
       "      <th>4</th>\n",
       "      <td>a3d7839456ae4258a70298fcf637952e</td>\n",
       "      <td>Podia ter beijo também, pra ver se o homofóbic...</td>\n",
       "      <td>OFF</td>\n",
       "      <td>UNT</td>\n",
       "      <td>NaN</td>\n",
       "      <td>[24, 25, 26, 27, 28, 29, 30, 31, 32, 33, 34, 3...</td>\n",
       "      <td>False</td>\n",
       "      <td>False</td>\n",
       "      <td>True</td>\n",
       "      <td>False</td>\n",
       "      <td>False</td>\n",
       "      <td>False</td>\n",
       "      <td>False</td>\n",
       "      <td>False</td>\n",
       "      <td>False</td>\n",
       "      <td>False</td>\n",
       "      <td>False</td>\n",
       "    </tr>\n",
       "  </tbody>\n",
       "</table>\n",
       "</div>"
      ],
      "text/plain": [
       "                                 id  \\\n",
       "0  430b13705cf34e13b74bc999425187c3   \n",
       "1  c779826dc43f460cb18e8429ca443477   \n",
       "2  e64148caa4474fc79298e01d0dda8f5e   \n",
       "3  cc66b54eeec24607a67e2259134a1cdd   \n",
       "4  a3d7839456ae4258a70298fcf637952e   \n",
       "\n",
       "                                                text is_offensive is_targeted  \\\n",
       "0  USER USER é muito bom. USER ^^ E claro a equip...          NOT         UNT   \n",
       "1  Pior do que adolescentezinhas de merda...são p...          OFF         UNT   \n",
       "2    USER Toma no cu é vitamina como tu e tua prima.          OFF         TIN   \n",
       "3  Muito bom, pena a circunstâncias serem ruins, ...          OFF         UNT   \n",
       "4  Podia ter beijo também, pra ver se o homofóbic...          OFF         UNT   \n",
       "\n",
       "  targeted_type                                        toxic_spans  health  \\\n",
       "0           NaN                                                NaN   False   \n",
       "1           NaN  [0, 1, 2, 3, 4, 5, 6, 7, 8, 9, 10, 11, 12, 13,...   False   \n",
       "2           GRP  [5, 6, 7, 8, 9, 10, 11, 12, 13, 14, 15, 16, 17...   False   \n",
       "3           NaN  [119, 120, 121, 122, 123, 124, 125, 126, 127, ...   False   \n",
       "4           NaN  [24, 25, 26, 27, 28, 29, 30, 31, 32, 33, 34, 3...   False   \n",
       "\n",
       "   ideology  insult  lgbtqphobia  other_lifestyle  physical_aspects  \\\n",
       "0     False   False        False            False             False   \n",
       "1     False    True        False            False             False   \n",
       "2     False    True        False            False             False   \n",
       "3     False    True        False            False             False   \n",
       "4     False    True        False            False             False   \n",
       "\n",
       "   profanity_obscene  racism  religious_intolerance  sexism  xenophobia  \n",
       "0              False   False                  False   False       False  \n",
       "1               True   False                  False    True       False  \n",
       "2               True   False                  False   False       False  \n",
       "3              False   False                  False   False       False  \n",
       "4              False   False                  False   False       False  "
      ]
     },
     "execution_count": 5,
     "metadata": {},
     "output_type": "execute_result"
    }
   ],
   "source": [
    "df_train = files[\"train.csv\"]\n",
    "\n",
    "print(f\"Shape: {df_train.shape}\")\n",
    "df_train.head()"
   ]
  },
  {
   "cell_type": "code",
   "execution_count": 6,
   "metadata": {},
   "outputs": [
    {
     "name": "stdout",
     "output_type": "stream",
     "text": [
      "Count: 6354\n"
     ]
    }
   ],
   "source": [
    "full_data = files[\"train.json\"] + files[\"test.json\"]\n",
    "\n",
    "print(f\"Count: {len(full_data)}\")"
   ]
  },
  {
   "cell_type": "code",
   "execution_count": 7,
   "metadata": {},
   "outputs": [
    {
     "name": "stdout",
     "output_type": "stream",
     "text": [
      "shape: (4765, 4)\n"
     ]
    },
    {
     "data": {
      "text/html": [
       "<div>\n",
       "<style scoped>\n",
       "    .dataframe tbody tr th:only-of-type {\n",
       "        vertical-align: middle;\n",
       "    }\n",
       "\n",
       "    .dataframe tbody tr th {\n",
       "        vertical-align: top;\n",
       "    }\n",
       "\n",
       "    .dataframe thead th {\n",
       "        text-align: right;\n",
       "    }\n",
       "</style>\n",
       "<table border=\"1\" class=\"dataframe\">\n",
       "  <thead>\n",
       "    <tr style=\"text-align: right;\">\n",
       "      <th></th>\n",
       "      <th>id</th>\n",
       "      <th>text</th>\n",
       "      <th>is_offensive</th>\n",
       "      <th>source</th>\n",
       "    </tr>\n",
       "  </thead>\n",
       "  <tbody>\n",
       "    <tr>\n",
       "      <th>0</th>\n",
       "      <td>430b13705cf34e13b74bc999425187c3</td>\n",
       "      <td>USER USER é muito bom. USER ^^ E claro a equip...</td>\n",
       "      <td>NOT</td>\n",
       "      <td>YouTube</td>\n",
       "    </tr>\n",
       "    <tr>\n",
       "      <th>1</th>\n",
       "      <td>c779826dc43f460cb18e8429ca443477</td>\n",
       "      <td>Pior do que adolescentezinhas de merda...são p...</td>\n",
       "      <td>OFF</td>\n",
       "      <td>YouTube</td>\n",
       "    </tr>\n",
       "    <tr>\n",
       "      <th>2</th>\n",
       "      <td>e64148caa4474fc79298e01d0dda8f5e</td>\n",
       "      <td>USER Toma no cu é vitamina como tu e tua prima.</td>\n",
       "      <td>OFF</td>\n",
       "      <td>Twitter</td>\n",
       "    </tr>\n",
       "    <tr>\n",
       "      <th>3</th>\n",
       "      <td>cc66b54eeec24607a67e2259134a1cdd</td>\n",
       "      <td>Muito bom, pena a circunstâncias serem ruins, ...</td>\n",
       "      <td>OFF</td>\n",
       "      <td>YouTube</td>\n",
       "    </tr>\n",
       "    <tr>\n",
       "      <th>4</th>\n",
       "      <td>a3d7839456ae4258a70298fcf637952e</td>\n",
       "      <td>Podia ter beijo também, pra ver se o homofóbic...</td>\n",
       "      <td>OFF</td>\n",
       "      <td>YouTube</td>\n",
       "    </tr>\n",
       "  </tbody>\n",
       "</table>\n",
       "</div>"
      ],
      "text/plain": [
       "                                 id  \\\n",
       "0  430b13705cf34e13b74bc999425187c3   \n",
       "1  c779826dc43f460cb18e8429ca443477   \n",
       "2  e64148caa4474fc79298e01d0dda8f5e   \n",
       "3  cc66b54eeec24607a67e2259134a1cdd   \n",
       "4  a3d7839456ae4258a70298fcf637952e   \n",
       "\n",
       "                                                text is_offensive   source  \n",
       "0  USER USER é muito bom. USER ^^ E claro a equip...          NOT  YouTube  \n",
       "1  Pior do que adolescentezinhas de merda...são p...          OFF  YouTube  \n",
       "2    USER Toma no cu é vitamina como tu e tua prima.          OFF  Twitter  \n",
       "3  Muito bom, pena a circunstâncias serem ruins, ...          OFF  YouTube  \n",
       "4  Podia ter beijo também, pra ver se o homofóbic...          OFF  YouTube  "
      ]
     },
     "execution_count": 7,
     "metadata": {},
     "output_type": "execute_result"
    }
   ],
   "source": [
    "from typing import List, Dict\n",
    "\n",
    "def get_origin_text(text: str, data: List[Dict]):\n",
    "    for item in data:\n",
    "        if item[\"text\"] == text:\n",
    "            return item[\"metadata\"][\"source\"]\n",
    "\n",
    "rows = []\n",
    "for item in df_train.to_dict(orient=\"records\"):\n",
    "    rows.append(\n",
    "        {\n",
    "            \"id\": item[\"id\"],\n",
    "            \"text\": item[\"text\"],\n",
    "            \"is_offensive\": item[\"is_offensive\"],\n",
    "            \"source\": get_origin_text(item[\"text\"], full_data)\n",
    "        }\n",
    "    )\n",
    "\n",
    "df_source = pd.DataFrame(rows)\n",
    "\n",
    "print(f\"shape: {df_source.shape}\")\n",
    "df_source.head()"
   ]
  },
  {
   "cell_type": "code",
   "execution_count": 8,
   "metadata": {},
   "outputs": [
    {
     "data": {
      "text/html": [
       "<div>\n",
       "<style scoped>\n",
       "    .dataframe tbody tr th:only-of-type {\n",
       "        vertical-align: middle;\n",
       "    }\n",
       "\n",
       "    .dataframe tbody tr th {\n",
       "        vertical-align: top;\n",
       "    }\n",
       "\n",
       "    .dataframe thead tr th {\n",
       "        text-align: left;\n",
       "    }\n",
       "</style>\n",
       "<table border=\"1\" class=\"dataframe\">\n",
       "  <thead>\n",
       "    <tr>\n",
       "      <th>source</th>\n",
       "      <th colspan=\"2\" halign=\"left\">HLPHSD</th>\n",
       "      <th colspan=\"2\" halign=\"left\">NCCVG</th>\n",
       "      <th colspan=\"2\" halign=\"left\">OffComBR</th>\n",
       "      <th colspan=\"2\" halign=\"left\">ToLD-BR</th>\n",
       "      <th colspan=\"2\" halign=\"left\">Twitter</th>\n",
       "      <th colspan=\"2\" halign=\"left\">YouTube</th>\n",
       "    </tr>\n",
       "    <tr>\n",
       "      <th>is_offensive</th>\n",
       "      <th>NOT</th>\n",
       "      <th>OFF</th>\n",
       "      <th>NOT</th>\n",
       "      <th>OFF</th>\n",
       "      <th>NOT</th>\n",
       "      <th>OFF</th>\n",
       "      <th>NOT</th>\n",
       "      <th>OFF</th>\n",
       "      <th>NOT</th>\n",
       "      <th>OFF</th>\n",
       "      <th>NOT</th>\n",
       "      <th>OFF</th>\n",
       "    </tr>\n",
       "  </thead>\n",
       "  <tbody>\n",
       "    <tr>\n",
       "      <th>count</th>\n",
       "      <td>8</td>\n",
       "      <td>46</td>\n",
       "      <td>1</td>\n",
       "      <td>36</td>\n",
       "      <td>1</td>\n",
       "      <td>8</td>\n",
       "      <td>19</td>\n",
       "      <td>310</td>\n",
       "      <td>111</td>\n",
       "      <td>1718</td>\n",
       "      <td>333</td>\n",
       "      <td>2174</td>\n",
       "    </tr>\n",
       "  </tbody>\n",
       "</table>\n",
       "</div>"
      ],
      "text/plain": [
       "source       HLPHSD     NCCVG     OffComBR     ToLD-BR      Twitter        \\\n",
       "is_offensive    NOT OFF   NOT OFF      NOT OFF     NOT  OFF     NOT   OFF   \n",
       "count             8  46     1  36        1   8      19  310     111  1718   \n",
       "\n",
       "source       YouTube        \n",
       "is_offensive     NOT   OFF  \n",
       "count            333  2174  "
      ]
     },
     "execution_count": 8,
     "metadata": {},
     "output_type": "execute_result"
    }
   ],
   "source": [
    "df_temp = df_source[\n",
    "    [\"text\",\n",
    "    \"source\",\n",
    "    \"is_offensive\"\n",
    "    ]\n",
    "].groupby([\"source\", \"is_offensive\"]).agg(\n",
    "    count=(\"text\", \"count\")\n",
    ")\n",
    "\n",
    "df_temp.transpose()"
   ]
  },
  {
   "cell_type": "code",
   "execution_count": 9,
   "metadata": {},
   "outputs": [
    {
     "data": {
      "text/html": [
       "<div>\n",
       "<style scoped>\n",
       "    .dataframe tbody tr th:only-of-type {\n",
       "        vertical-align: middle;\n",
       "    }\n",
       "\n",
       "    .dataframe tbody tr th {\n",
       "        vertical-align: top;\n",
       "    }\n",
       "\n",
       "    .dataframe thead th {\n",
       "        text-align: right;\n",
       "    }\n",
       "</style>\n",
       "<table border=\"1\" class=\"dataframe\">\n",
       "  <thead>\n",
       "    <tr style=\"text-align: right;\">\n",
       "      <th></th>\n",
       "      <th>text</th>\n",
       "    </tr>\n",
       "    <tr>\n",
       "      <th>source</th>\n",
       "      <th></th>\n",
       "    </tr>\n",
       "  </thead>\n",
       "  <tbody>\n",
       "    <tr>\n",
       "      <th>HLPHSD</th>\n",
       "      <td>54</td>\n",
       "    </tr>\n",
       "    <tr>\n",
       "      <th>NCCVG</th>\n",
       "      <td>37</td>\n",
       "    </tr>\n",
       "    <tr>\n",
       "      <th>OffComBR</th>\n",
       "      <td>9</td>\n",
       "    </tr>\n",
       "    <tr>\n",
       "      <th>ToLD-BR</th>\n",
       "      <td>329</td>\n",
       "    </tr>\n",
       "  </tbody>\n",
       "</table>\n",
       "</div>"
      ],
      "text/plain": [
       "          text\n",
       "source        \n",
       "HLPHSD      54\n",
       "NCCVG       37\n",
       "OffComBR     9\n",
       "ToLD-BR    329"
      ]
     },
     "execution_count": 9,
     "metadata": {},
     "output_type": "execute_result"
    }
   ],
   "source": [
    "df_olidbr_related_datasets = df_source[df_source[\"source\"].isin([\"HLPHSD\", \"NCCVG\", \"OffComBR\", \"ToLD-BR\"])]\n",
    "df_olidbr_related_datasets[[\"text\", \"source\"]].groupby(\"source\").count()"
   ]
  },
  {
   "cell_type": "code",
   "execution_count": 10,
   "metadata": {},
   "outputs": [
    {
     "data": {
      "text/plain": [
       "OFF    400\n",
       "NOT     29\n",
       "Name: is_offensive, dtype: int64"
      ]
     },
     "execution_count": 10,
     "metadata": {},
     "output_type": "execute_result"
    }
   ],
   "source": [
    "df_olidbr_related_datasets[\"is_offensive\"].value_counts()"
   ]
  },
  {
   "attachments": {},
   "cell_type": "markdown",
   "metadata": {},
   "source": [
    "## Download related datasets"
   ]
  },
  {
   "cell_type": "code",
   "execution_count": 11,
   "metadata": {},
   "outputs": [],
   "source": [
    "import io\n",
    "import requests\n",
    "from typing import Any, Dict, List\n",
    "\n",
    "def get_file_github(\n",
    "    url: str,\n",
    "    extension: str = \"csv\",\n",
    "    pd_args: Dict[Any, Any] = {},\n",
    "    return_as_dict: bool = True) -> List[Any] | io.StringIO:\n",
    "    \"\"\"\n",
    "    Download a file from a github url\n",
    "\n",
    "    Args:\n",
    "    - url: the url to the file.\n",
    "    - extension: the extension of the file.\n",
    "    - pd_args: the arguments to pass to the pandas read function.\n",
    "    - return_as_dict: if the function should return a dict or a file object.\n",
    "\n",
    "    Returns:\n",
    "    - pd.DataFrame: the dataframe of the file\n",
    "    \"\"\"\n",
    "    download = requests.get(url).content\n",
    "    \n",
    "    download = io.StringIO(download.decode(\"utf-8\"))\n",
    "\n",
    "    if return_as_dict:\n",
    "        if extension.lower() in [\"csv\", \"arff\"]:\n",
    "            return pd.read_csv(download, **pd_args).to_dict(orient=\"records\")\n",
    "        elif \"json\" in extension.lower():\n",
    "            return pd.read_json(download, **pd_args).to_dict(orient=\"records\")\n",
    "        else:\n",
    "            raise ValueError(\"Only csv, arff and json are supported\")\n",
    "    else:\n",
    "        return download"
   ]
  },
  {
   "attachments": {},
   "cell_type": "markdown",
   "metadata": {},
   "source": [
    "### rogersdepelle/OffComBR"
   ]
  },
  {
   "cell_type": "code",
   "execution_count": 12,
   "metadata": {},
   "outputs": [],
   "source": [
    "import re\n",
    "\n",
    "def format_offcombr(raw: List[str]):\n",
    "    rows = []\n",
    "    for line in raw:\n",
    "        if line.startswith(\"yes\") or line.startswith(\"no\"):\n",
    "            line = line.split(\",\")\n",
    "            rows.append(\n",
    "                {\n",
    "                    \"text\": re.sub(r\"\\'(.*)\\'\\r\\n\", r\"\\1\", line[1]).strip(),\n",
    "                    \"is_offensive\": \"OFF\" if line[0] == \"yes\" else \"NOT\"\n",
    "                }\n",
    "            )\n",
    "    return rows"
   ]
  },
  {
   "cell_type": "code",
   "execution_count": 13,
   "metadata": {},
   "outputs": [
    {
     "name": "stdout",
     "output_type": "stream",
     "text": [
      "Count: 1250\n"
     ]
    },
    {
     "data": {
      "text/plain": [
       "[{'text': 'Votaram no PEZAO Agora tomem no CZAO', 'is_offensive': 'OFF'},\n",
       " {'text': 'cuidado com a poupanca pessoal Lembram o que aconteceu na epoca do Collor ne',\n",
       "  'is_offensive': 'NOT'},\n",
       " {'text': 'Sabe o que eu acho engracado os nossos governantes  nao pensam em cortar regalias e beneficios desnecessarios que os favorecem porque sera ne e mais do que claro ate mesmo para quem nao quer enxergar eles sao estao la para defender seus proprios interesses  e os dos empresario o no casso eles tambem ou comecamos a tomar uma atitude para mudar de uma vez por todas essa roubalheira nesse pais o a tendencia e so piorar para o povo porque dinheiro para investimentos nao tem mais para aumentos de salario e regalias nao falta',\n",
       "  'is_offensive': 'NOT'},\n",
       " {'text': 'os cariocas tem o que merecem um pessoal que so sabem toma banho de sol e pratica a violencia e nao deu outra de onde se tira e nao coloca um dia acaba',\n",
       "  'is_offensive': 'OFF'},\n",
       " {'text': 'Podiam retirar dos lucros dos bancos', 'is_offensive': 'NOT'}]"
      ]
     },
     "execution_count": 13,
     "metadata": {},
     "output_type": "execute_result"
    }
   ],
   "source": [
    "url = \"https://raw.githubusercontent.com/rogersdepelle/OffComBR/master/OffComBR2.arff\"\n",
    "\n",
    "offcombr = get_file_github(\n",
    "    url,\n",
    "    extension=\"arff\",\n",
    "    return_as_dict=False\n",
    ")\n",
    "\n",
    "offcombr = format_offcombr(offcombr.readlines())\n",
    "\n",
    "print(f\"Count: {len(offcombr)}\")\n",
    "\n",
    "offcombr[:5]"
   ]
  },
  {
   "attachments": {},
   "cell_type": "markdown",
   "metadata": {},
   "source": [
    "### LaCAfe/Dataset-Hatespeech"
   ]
  },
  {
   "cell_type": "code",
   "execution_count": 14,
   "metadata": {},
   "outputs": [],
   "source": [
    "def format_nccvg(raw: List[dict]):\n",
    "    rows = []\n",
    "    for item in raw:\n",
    "        rows.append(\n",
    "            {\n",
    "                \"text\": item[\"txt\"],\n",
    "                \"is_offensive\": \"OFF\" if item[\"has_anger\"] == \"S\" else \"NOT\"\n",
    "            }\n",
    "        )\n",
    "    return rows"
   ]
  },
  {
   "cell_type": "code",
   "execution_count": 15,
   "metadata": {},
   "outputs": [
    {
     "name": "stdout",
     "output_type": "stream",
     "text": [
      "Count: 7672\n"
     ]
    },
    {
     "data": {
      "text/plain": [
       "[{'text': '>>22994apóio o >>22995. um passo de cada vez. não tenha pressa, mas sempre movendo pra frente. e não tenha medo de pedir ajuda a amigos, parentes ou psicólogos. não tem nada de mais.e outra: faculdade nem sempre é a solução. tem cursos técnicos que também contam como superior e que às vezes são mais curtos que faculdades e te pagam melhor.',\n",
       "  'is_offensive': 'OFF'},\n",
       " {'text': 'eu ainda vou surtar com essa fic', 'is_offensive': 'NOT'},\n",
       " {'text': '>>11826 puta merda… se alguém de fato analisar esse chart…. saberá o motivo que o mundo ta na merda.',\n",
       "  'is_offensive': 'OFF'},\n",
       " {'text': 'seguinte, fizemos 4 anos de namoro semana passada, mas nós estávamos brigados e não comemoramos nada. fiquei sabendo que, no dia do nosso aniversário de namoro, ela tinha saído com um amigo. não dei a miníma foda para isso, afinal de contas eu conhecia o cara e etc. fizemos as pazes e ela voltou muito desconfiada, até que ontem ela veio dormir aqui em casa, o que acontece é que hoje pela manhã eu fui olhar o telefone dela (nunca tinha feito isso antes, de verdade, nunca cheguei perto daquele telefone), e tinha uma conversa deles dois:>ela: gostei muito de ontem, obrigado>ele: obrigado também, namorada do anão>ela: e com relação aquilo que fizemos, se quiser mais uma vez é só marcar>ele: eu nunca tinha gozado assim antesjoguei o telefone dela no chão, ela veio correndo da cozinha ver o que tinha acontecido, eu parto para cima dela e dou 4 socos na cara dela, depois fiquei perguntando o que ela tinha feito.>eu só toquei ele, mas eu juro que foi sem vontade nenhumaeu quase matei ela nessa hora, não consigo descrever a raiva. also, não sei o que fazer, estou desesperado que ela fale isso para alguém, acho que perdi o limite. ela ficou muda após isso, não reagia a nada, eu comecei a quebrar tudo o que ela me deu e mandei ela vazar da minha casa.',\n",
       "  'is_offensive': 'OFF'},\n",
       " {'text': '“e por mais que o amor nos magoe, temos que olhar para frente e dizer: “feliz de mim que sei amar.“”\\n\\n— jhennifer werneck ',\n",
       "  'is_offensive': 'NOT'}]"
      ]
     },
     "execution_count": 15,
     "metadata": {},
     "output_type": "execute_result"
    }
   ],
   "source": [
    "url = \"https://raw.githubusercontent.com/LaCAfe/Dataset-Hatespeech/master/data/df_dataset.json\"\n",
    "\n",
    "nccvg = get_file_github(url, extension=\"json\")\n",
    "nccvg = format_nccvg(nccvg)\n",
    "\n",
    "print(f\"Count: {len(nccvg)}\")\n",
    "nccvg[:5]"
   ]
  },
  {
   "attachments": {},
   "cell_type": "markdown",
   "metadata": {},
   "source": [
    "### paulafortuna/Portuguese-Hate-Speech-Dataset"
   ]
  },
  {
   "cell_type": "code",
   "execution_count": 16,
   "metadata": {},
   "outputs": [],
   "source": [
    "def format_hlphsd(raw: List[dict]):\n",
    "    rows = []\n",
    "    for item in raw:\n",
    "        rows.append(\n",
    "            {\n",
    "                \"text\": item[\"text\"],\n",
    "                \"is_offensive\": \"OFF\" if item[\"hatespeech_comb\"] == 1 else \"NOT\"\n",
    "            }\n",
    "        )\n",
    "    return rows"
   ]
  },
  {
   "cell_type": "code",
   "execution_count": 17,
   "metadata": {},
   "outputs": [
    {
     "name": "stdout",
     "output_type": "stream",
     "text": [
      "Count: 5670\n"
     ]
    },
    {
     "data": {
      "text/plain": [
       "[{'text': '@__andrea__b \\nO cara vive em outro mundo\\nNão no mundo real\\nREFUGIADOS são os que vivem\\nNas favelas vizinhas as suas fortalezas',\n",
       "  'is_offensive': 'OFF'},\n",
       " {'text': '@_carmeloneto Estes incompetentes não cuidam nem do povo brasileiro e nem dos poucos refugiados que aqui estão.',\n",
       "  'is_offensive': 'NOT'},\n",
       " {'text': \"@_carmeloneto \\nOs 'cumpanhero' quebraram todas as regras.\",\n",
       "  'is_offensive': 'NOT'},\n",
       " {'text': '@_GlitteryKisses é isso não conseguem pensar no sentido lato para além do que se vê a frente dos olhos',\n",
       "  'is_offensive': 'NOT'},\n",
       " {'text': '@_iglira bom dia macaco branco haha', 'is_offensive': 'OFF'}]"
      ]
     },
     "execution_count": 17,
     "metadata": {},
     "output_type": "execute_result"
    }
   ],
   "source": [
    "url = \"https://raw.githubusercontent.com/paulafortuna/Portuguese-Hate-Speech-Dataset/master/2019-05-28_portuguese_hate_speech_binary_classification.csv\"\n",
    "\n",
    "hlphsd = get_file_github(url, extension=\"csv\")\n",
    "hlphsd = format_hlphsd(hlphsd)\n",
    "\n",
    "print(f\"Count: {len(hlphsd)}\")\n",
    "hlphsd[:5]"
   ]
  },
  {
   "attachments": {},
   "cell_type": "markdown",
   "metadata": {},
   "source": [
    "### JAugusto97/ToLD-Br"
   ]
  },
  {
   "cell_type": "code",
   "execution_count": 18,
   "metadata": {},
   "outputs": [],
   "source": [
    "def format_toldbr(raw: List[dict]):\n",
    "    rows = []\n",
    "    for item in raw:\n",
    "        row = {\n",
    "            \"text\": item[\"text\"],\n",
    "            \"is_offensive\": \"NOT\"\n",
    "        }\n",
    "\n",
    "        for value in item.values():\n",
    "            if isinstance(value, float) and value > 0.0:\n",
    "                row[\"is_offensive\"] = \"OFF\"\n",
    "                break\n",
    "        rows.append(row)\n",
    "\n",
    "    return rows"
   ]
  },
  {
   "cell_type": "code",
   "execution_count": 19,
   "metadata": {},
   "outputs": [
    {
     "name": "stdout",
     "output_type": "stream",
     "text": [
      "Count: 21000\n"
     ]
    },
    {
     "data": {
      "text/plain": [
       "[{'text': 'Meu nivel de amizade com isis é ela ter meu insta e eu ter o dela, e quando eu penso que não ela manda mensagem “ falano otario ta falando dnv no insta”',\n",
       "  'is_offensive': 'OFF'},\n",
       " {'text': 'rt @user @user o cara adultera dados, que foram desmascarados e ainda quer ficar no governo?',\n",
       "  'is_offensive': 'OFF'},\n",
       " {'text': '@user @user @user o cara só é simplesmente o maior vencedor da história de futebol, tá com 36 anos e tem gás demais e não um gordo com joelho fodido',\n",
       "  'is_offensive': 'OFF'},\n",
       " {'text': 'eu to chorando vei vsf e eu nem staneio izone nem nada https://t.co/rglb8luutw',\n",
       "  'is_offensive': 'OFF'},\n",
       " {'text': 'Eleitor do Bolsonaro é tão ignorante q não percebeu q a frase abaixo significa o seguinte:\\n\\n“É melhor falar um monte de bosta do que ficar calado”.\\n\\nAinda transformaram em imagem bonitinha com citação e data hahhahahahhahahhahah. https://t.co/cBpSJT1Gdf',\n",
       "  'is_offensive': 'OFF'}]"
      ]
     },
     "execution_count": 19,
     "metadata": {},
     "output_type": "execute_result"
    }
   ],
   "source": [
    "url = \"https://raw.githubusercontent.com/JAugusto97/ToLD-Br/main/ToLD-BR.csv\"\n",
    "\n",
    "told_br = get_file_github(url, extension=\"csv\")\n",
    "told_br = format_toldbr(told_br)\n",
    "\n",
    "print(f\"Count: {len(told_br)}\")\n",
    "told_br[:5]"
   ]
  },
  {
   "attachments": {},
   "cell_type": "markdown",
   "metadata": {},
   "source": [
    "## Analysis"
   ]
  },
  {
   "cell_type": "code",
   "execution_count": 20,
   "metadata": {},
   "outputs": [],
   "source": [
    "from src.anonymize import Anonymizer\n",
    "\n",
    "anonymizer = Anonymizer()"
   ]
  },
  {
   "cell_type": "code",
   "execution_count": 21,
   "metadata": {},
   "outputs": [
    {
     "name": "stdout",
     "output_type": "stream",
     "text": [
      "Count: 35592\n"
     ]
    }
   ],
   "source": [
    "related_datasets = []\n",
    "\n",
    "for source, dataset in {\n",
    "    \"OffComBR\": offcombr,\n",
    "    \"NCCVG\": nccvg,\n",
    "    \"HLPHSD\": hlphsd,\n",
    "    \"ToLD-BR\": told_br\n",
    "}.items():\n",
    "    for item in dataset:\n",
    "        item[\"source\"] = source\n",
    "        item[\"text\"] = anonymizer.remove_users(item[\"text\"])\n",
    "        item[\"text\"] = anonymizer.remove_urls(item[\"text\"])\n",
    "        item[\"text\"] = anonymizer.remove_hashtags(item[\"text\"])\n",
    "        related_datasets.append(item)\n",
    "\n",
    "print(f\"Count: {len(related_datasets)}\")"
   ]
  },
  {
   "cell_type": "code",
   "execution_count": 22,
   "metadata": {},
   "outputs": [
    {
     "data": {
      "text/plain": [
       "OFF    331\n",
       "NOT     21\n",
       "Name: is_offensive_olidbr, dtype: int64"
      ]
     },
     "execution_count": 22,
     "metadata": {},
     "output_type": "execute_result"
    }
   ],
   "source": [
    "def get_label_from_olidbr(text: str, data: pd.DataFrame):\n",
    "    try:\n",
    "        return data[data[\"text\"] == text][\"is_offensive\"].values[0]\n",
    "    except:\n",
    "        return None\n",
    "\n",
    "df_related_datasets = pd.DataFrame(related_datasets)\n",
    "\n",
    "df_related_datasets[\"is_offensive_olidbr\"] = df_related_datasets[\"text\"].apply(\n",
    "    lambda x: get_label_from_olidbr(x, df_olidbr_related_datasets)\n",
    ")\n",
    "\n",
    "df_related_datasets.rename(\n",
    "    columns={\"is_offensive\": \"is_offensive_original\"},\n",
    "    inplace=True\n",
    ")\n",
    "\n",
    "df_related_datasets[\"is_offensive_olidbr\"].value_counts()"
   ]
  },
  {
   "cell_type": "code",
   "execution_count": 23,
   "metadata": {},
   "outputs": [
    {
     "data": {
      "text/plain": [
       "1    253\n",
       "0     99\n",
       "Name: match_label, dtype: int64"
      ]
     },
     "execution_count": 23,
     "metadata": {},
     "output_type": "execute_result"
    }
   ],
   "source": [
    "import warnings\n",
    "\n",
    "df_temp = df_related_datasets[~df_related_datasets[\"is_offensive_olidbr\"].isna()]\n",
    "\n",
    "# get match_label\n",
    "with warnings.catch_warnings():\n",
    "    warnings.simplefilter(\"ignore\")\n",
    "    df_temp[\"match_label\"] = df_temp.apply(\n",
    "        lambda x: 1 if x[\"is_offensive_original\"] == x[\"is_offensive_olidbr\"] else 0,\n",
    "        axis=1\n",
    "    )\n",
    "\n",
    "df_temp[\"match_label\"].value_counts()"
   ]
  },
  {
   "cell_type": "code",
   "execution_count": 24,
   "metadata": {},
   "outputs": [
    {
     "name": "stdout",
     "output_type": "stream",
     "text": [
      "Accuracy: 0.72\n"
     ]
    }
   ],
   "source": [
    "print(f\"Accuracy: {df_temp['match_label'].value_counts()[1] / len(df_temp):.2f}\")"
   ]
  }
 ],
 "metadata": {
  "kernelspec": {
   "display_name": "Python 3",
   "language": "python",
   "name": "python3"
  },
  "language_info": {
   "codemirror_mode": {
    "name": "ipython",
    "version": 3
   },
   "file_extension": ".py",
   "mimetype": "text/x-python",
   "name": "python",
   "nbconvert_exporter": "python",
   "pygments_lexer": "ipython3",
   "version": "3.10.8"
  },
  "orig_nbformat": 4,
  "vscode": {
   "interpreter": {
    "hash": "369f2c481f4da34e4445cda3fffd2e751bd1c4d706f27375911949ba6bb62e1c"
   }
  }
 },
 "nbformat": 4,
 "nbformat_minor": 2
}
